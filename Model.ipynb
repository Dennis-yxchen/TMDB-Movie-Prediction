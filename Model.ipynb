{
 "cells": [
  {
   "cell_type": "markdown",
   "metadata": {},
   "source": [
    "# Models"
   ]
  },
  {
   "cell_type": "markdown",
   "metadata": {},
   "source": [
    "Firstly, we need to import the libraries we will use."
   ]
  },
  {
   "cell_type": "code",
   "execution_count": 204,
   "metadata": {},
   "outputs": [],
   "source": [
    "import seaborn as sns\n",
    "import matplotlib.pyplot as plt\n",
    "import pandas as pd\n",
    "import numpy as np\n",
    "import lightgbm as lgb\n",
    "import xgboost as xgb\n",
    "import catboost as cat\n",
    "from sklearn.model_selection import KFold\n",
    "from sklearn.model_selection import train_test_split\n",
    "from sklearn.linear_model import LinearRegression\n",
    "from sklearn.model_selection import cross_val_score\n",
    "from sklearn.ensemble import RandomForestRegressor"
   ]
  },
  {
   "cell_type": "markdown",
   "metadata": {},
   "source": [
    "Secondly, we need to load the data."
   ]
  },
  {
   "cell_type": "code",
   "execution_count": 205,
   "metadata": {},
   "outputs": [],
   "source": [
    "train = pd.read_csv('data/train_engineeredV3.csv')\n",
    "test = pd.read_csv('data/test_engineeredV3.csv')"
   ]
  },
  {
   "cell_type": "markdown",
   "metadata": {},
   "source": [
    "In the following models, we will predict the log revenue and then convert to the revenue.\n",
    "Because based on the previous trials, these method will have better score than dirctly predict revenue."
   ]
  },
  {
   "cell_type": "code",
   "execution_count": 206,
   "metadata": {},
   "outputs": [],
   "source": [
    "# create log features and log revenue as target\n",
    "train['log_budget']=np.log1p(train['original_budget'])\n",
    "test['log_budget']=np.log1p(test['original_budget'])\n",
    "train['log_budget_p'] = np.log1p(train['budget_processed'])\n",
    "test['log_budget_p'] = np.log1p(test['budget_processed'])"
   ]
  },
  {
   "cell_type": "markdown",
   "metadata": {},
   "source": [
    "These are the features we engineered and will used in the following models"
   ]
  },
  {
   "cell_type": "code",
   "execution_count": 207,
   "metadata": {},
   "outputs": [
    {
     "name": "stdout",
     "output_type": "stream",
     "text": [
      "['id' 'belongs_to_collection' 'original_budget' 'budget_processed'\n",
      " 'genre_rank' 'num_genres' 'has_homepage' 'originally_english' 'topStudio'\n",
      " 'numTopStudios' 'num_studios' 'studioRank' 'num_production_countries'\n",
      " 'topCountry' 'countryRank' 'usa_produced' 'release_date' '1960s' '1970s'\n",
      " '1980s' '1990s' '2000s' '2010s' 'mondayRelease' 'tuesdayRelease'\n",
      " 'wednesdayRelease' 'thursdayRelease' 'fridayRelease' 'saturdayRelease'\n",
      " 'sundayRelease' 'Winter' 'Fall' 'Spring' 'Summer' 'runtime_processed'\n",
      " 'spoken_english' 'num_languages' 'has_tagline' 'num_keywords'\n",
      " 'numTopKeywords' 'keywordRank' 'cast_num' 'topLeadActor' 'numTopActors'\n",
      " 'actorRanks' 'topActorRank' 'crew_num' 'topLeadDirector'\n",
      " 'numTopDirectors' 'directorsRank' 'topLeadExecProd' 'numTopExecProd'\n",
      " 'execProdRank' 'topLeadProducer' 'numTopProducers' 'producersRank'\n",
      " 'topLeadComposer' 'numTopComposers' 'composersRank'\n",
      " 'topLeadDirectorPhoto' 'numTopDirectorsPhoto' 'directorsPhotoRank'\n",
      " 'topLeadEditor' 'numTopEditors' 'editorsRank' 'budget_to_year_ratio'\n",
      " 'runtime_to_year_ratio' 'inflationBudget' 'popularity'\n",
      " 'popularity_year_ratio' 'log_revenue' 'revenue' 'log_budget' 'season'\n",
      " 'month' 'year' 'day_of_week' 'week_of_year' '_budget_runtime_ratio'\n",
      " '_budget_popularity_ratio' 'day' 'log_budget_p']\n"
     ]
    }
   ],
   "source": [
    "# print the title of each column of the train dataset\n",
    "print(train.columns.values)"
   ]
  },
  {
   "cell_type": "code",
   "execution_count": 208,
   "metadata": {},
   "outputs": [
    {
     "name": "stdout",
     "output_type": "stream",
     "text": [
      "['Unnamed: 0' 'imdb_id' 'id' 'belongs_to_collection' 'original_budget'\n",
      " 'budget_processed' 'genre_rank' 'num_genres' 'has_homepage'\n",
      " 'originally_english' 'topStudio' 'numTopStudios' 'num_studios'\n",
      " 'studioRank' 'num_production_countries' 'topCountry' 'countryRank'\n",
      " 'usa_produced' 'release_date' '1960s' '1970s' '1980s' '1990s' '2000s'\n",
      " '2010s' 'mondayRelease' 'tuesdayRelease' 'wednesdayRelease'\n",
      " 'thursdayRelease' 'fridayRelease' 'saturdayRelease' 'sundayRelease'\n",
      " 'Winter' 'Fall' 'Spring' 'Summer' 'runtime_processed' 'spoken_english'\n",
      " 'num_languages' 'has_tagline' 'num_keywords' 'numTopKeywords'\n",
      " 'keywordRank' 'cast_num' 'topLeadActor' 'numTopActors' 'actorRanks'\n",
      " 'topActorRank' 'crew_num' 'topLeadDirector' 'numTopDirectors'\n",
      " 'directorsRank' 'topLeadExecProd' 'numTopExecProd' 'execProdRank'\n",
      " 'topLeadProducer' 'numTopProducers' 'producersRank' 'topLeadComposer'\n",
      " 'numTopComposers' 'composersRank' 'topLeadDirectorPhoto'\n",
      " 'numTopDirectorsPhoto' 'directorsPhotoRank' 'topLeadEditor'\n",
      " 'numTopEditors' 'editorsRank' 'budget_to_year_ratio'\n",
      " 'runtime_to_year_ratio' 'inflationBudget' 'popularity'\n",
      " 'popularity_year_ratio' 'revenue' 'season' 'month' 'year' 'day_of_week'\n",
      " 'week_of_year' 'log_budget' '_budget_runtime_ratio'\n",
      " '_budget_popularity_ratio' 'day' 'log_budget_p']\n"
     ]
    }
   ],
   "source": [
    "# print the title of each column of the test dataset\n",
    "print(test.columns.values)"
   ]
  },
  {
   "cell_type": "markdown",
   "metadata": {},
   "source": [
    "These is features we selected to use."
   ]
  },
  {
   "cell_type": "code",
   "execution_count": 209,
   "metadata": {},
   "outputs": [],
   "source": [
    "#Model training, based on correlations extracted at DataAnalysis part\n",
    "feature_regression = ['belongs_to_collection', 'original_budget', 'budget_processed',\n",
    "                      'genre_rank', 'num_genres', 'has_homepage', 'originally_english', 'topStudio',\n",
    "                            'numTopStudios', 'num_studios', 'studioRank', 'num_production_countries',\n",
    "                                'topCountry', 'countryRank', 'usa_produced', '1960s', '1970s',\n",
    "                                        '1980s', '1990s', '2000s', '2010s', 'mondayRelease', 'tuesdayRelease',\n",
    "                                                'wednesdayRelease', 'thursdayRelease', 'fridayRelease', 'saturdayRelease',\n",
    "                                                'sundayRelease', 'Winter', 'Fall', 'Spring', 'Summer', 'runtime_processed',\n",
    "                                                        'spoken_english', 'num_languages', 'has_tagline', 'num_keywords',\n",
    "                                                        'numTopKeywords', 'keywordRank', 'cast_num', 'topLeadActor', 'numTopActors',\n",
    "                                                                'actorRanks', 'topActorRank', 'crew_num', 'topLeadDirector',\n",
    "                                                                'numTopDirectors', 'directorsRank', 'topLeadExecProd', 'numTopExecProd',\n",
    "                                                                        'execProdRank', 'topLeadProducer', 'numTopProducers', 'producersRank',\n",
    "                                                                        'topLeadComposer', 'numTopComposers', 'composersRank',\n",
    "                                                                                'topLeadDirectorPhoto', 'numTopDirectorsPhoto', 'directorsPhotoRank',\n",
    "                                                                                'topLeadEditor', 'numTopEditors', 'editorsRank', 'budget_to_year_ratio',\n",
    "                                                                                        'runtime_to_year_ratio', 'inflationBudget', 'popularity',\n",
    "                                                                                        'popularity_year_ratio', 'log_budget', 'season',\n",
    "                                                                                                'month', 'year', 'day_of_week', 'week_of_year', '_budget_runtime_ratio',\n",
    "                                                                                                '_budget_popularity_ratio', 'day', 'log_budget_p']\n",
    "target = 'log_revenue'\n",
    "Y_train = train[target].values\n",
    "X_train = train[feature_regression].values\n",
    "X_test= test[feature_regression].values\n",
    "X_test = np.nan_to_num(X_test)"
   ]
  },
  {
   "cell_type": "markdown",
   "metadata": {},
   "source": [
    "## 1. Linear Regression Model"
   ]
  },
  {
   "cell_type": "code",
   "execution_count": 210,
   "metadata": {},
   "outputs": [
    {
     "name": "stdout",
     "output_type": "stream",
     "text": [
      "1.5292354241871071\n"
     ]
    }
   ],
   "source": [
    "#carry out leaner regression\n",
    "LR = LinearRegression()\n",
    "\n",
    "# measure the performance of the model using cross validation\n",
    "scores = cross_val_score(LR, X_train, Y_train, scoring=\"neg_mean_squared_error\", cv = 8)\n",
    "rmse_scores = np.sqrt(-scores)\n",
    "print(rmse_scores.mean())"
   ]
  },
  {
   "cell_type": "code",
   "execution_count": 211,
   "metadata": {},
   "outputs": [],
   "source": [
    "# fit the model\n",
    "LR.fit(X_train,Y_train)\n",
    "\n",
    "# predict the log_revenue and convert it back to revenue\n",
    "y_pred_LR_logbudget = LR.predict(X_test)\n",
    "y_pred_LR_logbudget = np.expm1(y_pred_LR_logbudget)"
   ]
  },
  {
   "cell_type": "code",
   "execution_count": 212,
   "metadata": {},
   "outputs": [],
   "source": [
    "df_LR = pd.DataFrame({'id': test['id'], 'revenue': y_pred_LR_logbudget})\n",
    "df_LR.to_csv('submission_LR_logbudget.csv', index=False)\n",
    "#2.0167"
   ]
  },
  {
   "cell_type": "markdown",
   "metadata": {},
   "source": [
    "## 2. Random Forest Model"
   ]
  },
  {
   "cell_type": "markdown",
   "metadata": {},
   "source": [
    "In this section, we will use Random Forest Model:"
   ]
  },
  {
   "cell_type": "code",
   "execution_count": 213,
   "metadata": {},
   "outputs": [],
   "source": [
    "#carry out random forest regression\n",
    "#with tuned parameters\n",
    "#the result was improved from 3.1 to 2.3\n",
    "\n",
    "# initial the Random Forest Regressor\n",
    "RF = RandomForestRegressor(max_depth=200, min_samples_split=5,n_estimators=200)\n",
    "\n",
    "# fit the model\n",
    "RF.fit(X_train,Y_train)\n",
    "\n",
    "# predict the log_revenue and convert it back to revenue\n",
    "y_pred_RF = RF.predict(X_test)\n",
    "y_pred_RF = np.expm1(y_pred_RF)"
   ]
  },
  {
   "cell_type": "code",
   "execution_count": 214,
   "metadata": {},
   "outputs": [],
   "source": [
    "df_RF = pd.DataFrame({'id': test['id'], 'revenue': y_pred_RF})\n",
    "df_RF.to_csv('submission_RF.csv', index=False)\n",
    "#2.22765"
   ]
  },
  {
   "cell_type": "markdown",
   "metadata": {},
   "source": [
    "## 3. Error Detection Models"
   ]
  },
  {
   "cell_type": "markdown",
   "metadata": {},
   "source": [
    "According to the presentation in the lecture. We know that the ground truth revenue will only get a score of 2.3 because of the error in the Kaggle test set. To further improve the score. We will use error detection model\n",
    "\n",
    "Error Detection Models are used to detect errors in the dataset. It is a classier that classifies the data into two classes: error and non-error. By learning from the feature of error in the train set. We will be able to recoginize the errors in the test set. After that, we can learn from the error data and non-error data and predict seperately.\n",
    "\n",
    "We will use lightgbm as our error detection model and lightgbm + xgboost + catboost for regression."
   ]
  },
  {
   "cell_type": "markdown",
   "metadata": {},
   "source": [
    "### Error identifier"
   ]
  },
  {
   "cell_type": "markdown",
   "metadata": {},
   "source": [
    "#### 1. data preparation"
   ]
  },
  {
   "cell_type": "markdown",
   "metadata": {},
   "source": [
    "Firstly, we need to prepare the data for trainning the error detection model.\n",
    "\n",
    " We will use the data from the previous notebook. By plotting the distribution of the data, we can see seperation between the error and non-error data by recognizing the outliers and abnormal data.\n",
    "\n",
    " Here are plots to help recognize errors."
   ]
  },
  {
   "cell_type": "code",
   "execution_count": 216,
   "metadata": {},
   "outputs": [
    {
     "name": "stderr",
     "output_type": "stream",
     "text": [
      "C:\\Users\\zjy\\AppData\\Local\\Temp\\ipykernel_28936\\4229348723.py:2: UserWarning: \n",
      "\n",
      "`distplot` is a deprecated function and will be removed in seaborn v0.14.0.\n",
      "\n",
      "Please adapt your code to use either `displot` (a figure-level function with\n",
      "similar flexibility) or `histplot` (an axes-level function for histograms).\n",
      "\n",
      "For a guide to updating your code to use the new functions, please see\n",
      "https://gist.github.com/mwaskom/de44147ed2974457ad6372750bbe5751\n",
      "\n",
      "  sns.distplot(train['revenue'], kde=False)\n"
     ]
    },
    {
     "data": {
      "image/png": "[encoded data removed]",
      "text/plain": [
       "<Figure size 640x480 with 1 Axes>"
      ]
     },
     "metadata": {},
     "output_type": "display_data"
    }
   ],
   "source": [
    "#plot the distribution of the revenue in the training set\n",
    "sns.distplot(train['revenue'], kde=False)\n",
    "plt.title('Distribution of revenue')\n",
    "plt.xlabel('Revenue')\n",
    "plt.ylabel('Frequency')\n",
    "plt.show()"
   ]
  },
  {
   "cell_type": "code",
   "execution_count": 217,
   "metadata": {},
   "outputs": [
    {
     "name": "stderr",
     "output_type": "stream",
     "text": [
      "C:\\Users\\zjy\\AppData\\Local\\Temp\\ipykernel_28936\\1025018483.py:2: UserWarning: \n",
      "\n",
      "`distplot` is a deprecated function and will be removed in seaborn v0.14.0.\n",
      "\n",
      "Please adapt your code to use either `displot` (a figure-level function with\n",
      "similar flexibility) or `histplot` (an axes-level function for histograms).\n",
      "\n",
      "For a guide to updating your code to use the new functions, please see\n",
      "https://gist.github.com/mwaskom/de44147ed2974457ad6372750bbe5751\n",
      "\n",
      "  sns.distplot(train['original_budget'], kde=False)\n"
     ]
    },
    {
     "data": {
      "image/png": "[encoded data removed]",
      "text/plain": [
       "<Figure size 640x480 with 1 Axes>"
      ]
     },
     "metadata": {},
     "output_type": "display_data"
    }
   ],
   "source": [
    "#plot the distribution of the budget in the training set\n",
    "sns.distplot(train['original_budget'], kde=False)\n",
    "plt.title('Distribution of budget')\n",
    "plt.xlabel('Budget')\n",
    "plt.ylabel('Frequency')\n",
    "plt.show()"
   ]
  },
  {
   "cell_type": "code",
   "execution_count": 218,
   "metadata": {},
   "outputs": [
    {
     "name": "stderr",
     "output_type": "stream",
     "text": [
      "C:\\Users\\zjy\\AppData\\Local\\Temp\\ipykernel_28936\\668996526.py:2: UserWarning: \n",
      "\n",
      "`distplot` is a deprecated function and will be removed in seaborn v0.14.0.\n",
      "\n",
      "Please adapt your code to use either `displot` (a figure-level function with\n",
      "similar flexibility) or `histplot` (an axes-level function for histograms).\n",
      "\n",
      "For a guide to updating your code to use the new functions, please see\n",
      "https://gist.github.com/mwaskom/de44147ed2974457ad6372750bbe5751\n",
      "\n",
      "  sns.distplot(train['log_revenue'], kde=False)\n"
     ]
    },
    {
     "data": {
      "image/png": "[encoded data removed]",
      "text/plain": [
       "<Figure size 640x480 with 1 Axes>"
      ]
     },
     "metadata": {},
     "output_type": "display_data"
    }
   ],
   "source": [
    "# plot the distribution of the log of the revenue in the training set\n",
    "sns.distplot(train['log_revenue'], kde=False)\n",
    "plt.title('Distribution of log of revenue')\n",
    "plt.xlabel('Log of revenue')\n",
    "plt.ylabel('Frequency')\n",
    "plt.show()"
   ]
  },
  {
   "cell_type": "code",
   "execution_count": 219,
   "metadata": {},
   "outputs": [
    {
     "name": "stderr",
     "output_type": "stream",
     "text": [
      "C:\\Users\\zjy\\AppData\\Local\\Temp\\ipykernel_28936\\3171513416.py:2: UserWarning: \n",
      "\n",
      "`distplot` is a deprecated function and will be removed in seaborn v0.14.0.\n",
      "\n",
      "Please adapt your code to use either `displot` (a figure-level function with\n",
      "similar flexibility) or `histplot` (an axes-level function for histograms).\n",
      "\n",
      "For a guide to updating your code to use the new functions, please see\n",
      "https://gist.github.com/mwaskom/de44147ed2974457ad6372750bbe5751\n",
      "\n",
      "  sns.distplot(train['log_budget'], kde=False)\n"
     ]
    },
    {
     "data": {
      "image/png": "[encoded data removed]",
      "text/plain": [
       "<Figure size 640x480 with 1 Axes>"
      ]
     },
     "metadata": {},
     "output_type": "display_data"
    }
   ],
   "source": [
    "# plot the distribution of the log of the budget in the training set\n",
    "sns.distplot(train['log_budget'], kde=False)\n",
    "plt.title('Distribution of log of budget')\n",
    "plt.xlabel('Log of budget')\n",
    "plt.ylabel('Frequency')\n",
    "plt.show()"
   ]
  },
  {
   "cell_type": "markdown",
   "metadata": {},
   "source": [
    "By observing the plots above, we will divide the data into two parts: error and non-error and label them as 1 and 0 respectively. We will use these labels to train the error detection model."
   ]
  },
  {
   "cell_type": "code",
   "execution_count": 220,
   "metadata": {},
   "outputs": [],
   "source": [
    "#store all the data that is zero in budget or revenue in a new dataframe called error\n",
    "#store all the data that is not zero in budget or revenue in a new dataframe called non_error_train\n",
    "error_train = train[(train['revenue'] == 0) | (train['original_budget'] == 0)]\n",
    "non_error_train = train[(train['original_budget'] != 0) & (train['revenue'] != 0)]\n",
    "\n",
    "#move all the data whose log_budegt is less than 10 in non-error to the error dataframe\n",
    "temp = non_error_train[non_error_train['log_budget'] < 8]\n",
    "error_train = error_train._append(temp, ignore_index=True)\n",
    "non_error_train = non_error_train[non_error_train['log_budget'] >= 8]\n",
    "\n",
    "#move all the data whose log_revenue is less than 7.5 in non-error to the error dataframe\n",
    "temp = non_error_train[non_error_train['log_revenue'] < 7.5]\n",
    "error_train = error_train._append(temp, ignore_index=True)\n",
    "non_error_train = non_error_train[non_error_train['log_revenue'] >= 7.5]"
   ]
  },
  {
   "cell_type": "markdown",
   "metadata": {},
   "source": [
    "These plots shows the distribution of the errors and non-errors"
   ]
  },
  {
   "cell_type": "code",
   "execution_count": 221,
   "metadata": {},
   "outputs": [
    {
     "data": {
      "image/png": "[encoded data removed]",
      "text/plain": [
       "<Figure size 640x480 with 1 Axes>"
      ]
     },
     "metadata": {},
     "output_type": "display_data"
    }
   ],
   "source": [
    "#plot the distribution of the log_budegt against the log_revenue in the error set\n",
    "sns.scatterplot(x='log_budget', y='log_revenue', data=error_train)\n",
    "plt.title('Log_budget vs Log_revenue')\n",
    "plt.xlabel('Log_budget')\n",
    "plt.ylabel('Log_revenue')\n",
    "plt.show()"
   ]
  },
  {
   "cell_type": "code",
   "execution_count": 222,
   "metadata": {},
   "outputs": [
    {
     "data": {
      "image/png": "[encoded data removed]",
      "text/plain": [
       "<Figure size 640x480 with 1 Axes>"
      ]
     },
     "metadata": {},
     "output_type": "display_data"
    }
   ],
   "source": [
    "#plot the distribution of the log_budegt against the log_revenue in the non-error set\n",
    "sns.scatterplot(x='log_budget', y='log_revenue', data=non_error_train)\n",
    "plt.title('Log_budget vs Log_revenue')\n",
    "plt.xlabel('Log_budget')\n",
    "plt.ylabel('Log_revenue')\n",
    "plt.show()"
   ]
  },
  {
   "cell_type": "markdown",
   "metadata": {},
   "source": [
    "We can see than the log_budget and log_revenue has strong correlation in the non-errors and have weaker correlations in the errors."
   ]
  },
  {
   "cell_type": "code",
   "execution_count": 223,
   "metadata": {},
   "outputs": [],
   "source": [
    "#label the error set as 1 and the non-error set as 0\n",
    "error_train['error'] = 1\n",
    "non_error_train['error'] = 0\n",
    "#combine the error and non-error set\n",
    "train_labeled = error_train._append(non_error_train, ignore_index=True)"
   ]
  },
  {
   "cell_type": "code",
   "execution_count": 224,
   "metadata": {},
   "outputs": [],
   "source": [
    "# split the training set into training and validation set, with a evenly distributed error and non-error set\n",
    "train_labeled, val_labeled = train_test_split(train_labeled, test_size=0.2, random_state=42, stratify=train_labeled['error'])"
   ]
  },
  {
   "cell_type": "markdown",
   "metadata": {},
   "source": [
    "#### 2. training\n",
    "\n",
    "In this part, we will train the classifer by the trainning dataset."
   ]
  },
  {
   "cell_type": "code",
   "execution_count": 225,
   "metadata": {},
   "outputs": [
    {
     "name": "stdout",
     "output_type": "stream",
     "text": [
      "1.0\n",
      "1.0\n",
      "1.0\n",
      "1.0\n"
     ]
    }
   ],
   "source": [
    "# feature_classification selection\n",
    "feature_classification = [ 'original_budget', 'budget_processed', 'genre_rank',\n",
    "                            'inflationBudget', 'popularity_year_ratio']\n",
    "# target\n",
    "target = 'error'\n",
    "\n",
    "# split the feature_classification and target in the training set\n",
    "X_train = train_labeled[feature_classification]\n",
    "y_train = train_labeled[target]\n",
    "# split the feature_classification and target in the validation set\n",
    "X_val = val_labeled[feature_classification]\n",
    "y_val = val_labeled[target]\n",
    "\n",
    "# create a lgb dataset for training\n",
    "train_data = lgb.Dataset(X_train, label=y_train)\n",
    "# create a lgb dataset for validation\n",
    "val_data = lgb.Dataset(X_val, label=y_val)\n",
    "\n",
    "# set the parameters for the lgb model\n",
    "param = {'num_leaves': 30,\n",
    "          'objective': 'binary',\n",
    "          'metric': 'auc',\n",
    "          'max_depth': 5,\n",
    "          'learning_rate': 0.1,\n",
    "          'feature_fraction': 0.9,\n",
    "          'min_data_in_leaf': 5,\n",
    "          'bagging_fraction': 0.9,\n",
    "          'bagging_freq': 1,\n",
    "          'lambda_l1': 1,\n",
    "          'lambda_l2': 1,\n",
    "          'verbose': -1}\n",
    "# train the lgb model\n",
    "lgb_error_detection = lgb.train(param, train_data, valid_sets=[val_data])\n",
    "\n",
    "# predict the validation set\n",
    "y_pred = lgb_error_detection.predict(X_val, num_iteration=lgb_error_detection.best_iteration)\n",
    "# convert the prediction to binary\n",
    "for i in range(len(y_pred)):\n",
    "    if y_pred[i] >= 0.5:\n",
    "        y_pred[i] = 1\n",
    "    else:\n",
    "        y_pred[i] = 0\n",
    "\n",
    "# calculate the accuracy, precision, recall and f1 score\n",
    "accuracy = sum(y_pred == y_val) / len(y_val)\n",
    "print(accuracy)\n",
    "precision = sum((y_pred == 1) & (y_val == 1)) / sum(y_pred == 1)\n",
    "print(precision)\n",
    "recall = sum((y_pred == 1) & (y_val == 1)) / sum(y_val == 1)\n",
    "print(recall)\n",
    "f1 = 2 * precision * recall / (precision + recall)\n",
    "print(f1)"
   ]
  },
  {
   "cell_type": "markdown",
   "metadata": {},
   "source": [
    "#### 3. save the model\n",
    "\n",
    "In this part, we will save the model in case furtuer usage."
   ]
  },
  {
   "cell_type": "code",
   "execution_count": 226,
   "metadata": {},
   "outputs": [
    {
     "data": {
      "text/plain": [
       "<lightgbm.basic.Booster at 0x255ad1c8910>"
      ]
     },
     "execution_count": 226,
     "metadata": {},
     "output_type": "execute_result"
    }
   ],
   "source": [
    "# save the model\n",
    "lgb_error_detection.save_model('model/lgb_error_detection.pkl')"
   ]
  },
  {
   "cell_type": "markdown",
   "metadata": {},
   "source": [
    "#### 4. prediction\n",
    "\n",
    "In this part, we will use the classifier to identify the errors in the test dataset."
   ]
  },
  {
   "cell_type": "code",
   "execution_count": 227,
   "metadata": {},
   "outputs": [],
   "source": [
    "# predict the test set\n",
    "y_pred = lgb_error_detection.predict(test[feature_classification], num_iteration=lgb_error_detection.best_iteration)\n",
    "# convert the prediction to binary\n",
    "for i in range(len(y_pred)):\n",
    "    if y_pred[i] >= 0.5:\n",
    "        y_pred[i] = 1\n",
    "    else:\n",
    "        y_pred[i] = 0\n",
    "test['error'] = y_pred"
   ]
  },
  {
   "cell_type": "code",
   "execution_count": 228,
   "metadata": {},
   "outputs": [],
   "source": [
    "# predict the error set using the error detection model\n",
    "y_pred = lgb_error_detection.predict(error_train[feature_classification], num_iteration=lgb_error_detection.best_iteration)\n",
    "# convert the prediction to binary\n",
    "for i in range(len(y_pred)):\n",
    "    if y_pred[i] >= 0.5:\n",
    "        y_pred[i] = 1\n",
    "    else:\n",
    "        y_pred[i] = 0\n",
    "error_train['error'] = y_pred\n",
    "\n",
    "# split the test set into error and non-error set\n",
    "error_test = test[test['error'] == 1]\n",
    "non_error_test = test[test['error'] == 0]"
   ]
  },
  {
   "cell_type": "code",
   "execution_count": 229,
   "metadata": {},
   "outputs": [
    {
     "name": "stdout",
     "output_type": "stream",
     "text": [
      "(1245, 84)\n",
      "(3153, 84)\n"
     ]
    }
   ],
   "source": [
    "print(error_test.shape)\n",
    "print(non_error_test.shape)"
   ]
  },
  {
   "cell_type": "markdown",
   "metadata": {},
   "source": [
    "### Models for revenue prediction"
   ]
  },
  {
   "cell_type": "markdown",
   "metadata": {},
   "source": [
    "In this part, we will use 3 models: lightgbm, xgboost, and catboost. Then we will use the average of the predictions of these models as our final prediction."
   ]
  },
  {
   "cell_type": "markdown",
   "metadata": {},
   "source": [
    "Use Five-Fold Cross Validation to Evaluate the Model"
   ]
  },
  {
   "cell_type": "code",
   "execution_count": 230,
   "metadata": {},
   "outputs": [],
   "source": [
    "# split the training set into training and validation set, use Five-Fold Cross Validation\n",
    "kf = KFold(n_splits=5, shuffle=True, random_state=42)\n",
    "\n",
    "# we will use log_revenue as the target\n",
    "target = 'log_revenue'"
   ]
  },
  {
   "cell_type": "markdown",
   "metadata": {},
   "source": [
    "#### 1. Model for error-free data"
   ]
  },
  {
   "cell_type": "code",
   "execution_count": 231,
   "metadata": {},
   "outputs": [
    {
     "name": "stdout",
     "output_type": "stream",
     "text": [
      "1.4360175778415776\n",
      "1.2883667302228594\n",
      "1.2457061237678082\n",
      "1.3001139556327521\n",
      "1.1820293383653027\n"
     ]
    }
   ],
   "source": [
    "# lightgbm\n",
    "# set the parameters for the lgb model\n",
    "param = {'num_leaves': 500,\n",
    "          'objective': 'regression',\n",
    "          'metric': 'rmse',\n",
    "          'max_depth': 12,\n",
    "          'learning_rate': 0.1,\n",
    "          'feature_fraction': 0.9,\n",
    "          'min_data_in_leaf': 5,\n",
    "          'bagging_fraction': 0.9,\n",
    "          'bagging_freq': 1,\n",
    "          'lambda_l1': 0.2,\n",
    "          'lambda_l2': 1,\n",
    "          'verbose': -1}\n",
    "# train the lgb model\n",
    "lgb_model_non_error = []\n",
    "lgb_prediction = []\n",
    "for train_index, val_index in kf.split(non_error_train):\n",
    "    X_train, X_val = non_error_train.iloc[train_index][feature_regression], non_error_train.iloc[val_index][feature_regression]\n",
    "    y_train, y_val = non_error_train.iloc[train_index][target], non_error_train.iloc[val_index][target]\n",
    "    train_data = lgb.Dataset(X_train, label=y_train)\n",
    "    val_data = lgb.Dataset(X_val, label=y_val)\n",
    "    lgb_model = lgb.train(param, train_data, valid_sets=[val_data])\n",
    "    lgb_model_non_error.append(lgb_model)\n",
    "    # evaluate the model\n",
    "    y_pred = lgb_model.predict(X_val, num_iteration=lgb_model.best_iteration)\n",
    "    lgb_prediction.append(y_pred)\n",
    "    # calculate the loss\n",
    "    loss = np.sqrt(sum((y_pred - y_val) ** 2) / len(y_val))\n",
    "    print(loss)\n",
    "\n"
   ]
  },
  {
   "cell_type": "code",
   "execution_count": 232,
   "metadata": {},
   "outputs": [
    {
     "name": "stdout",
     "output_type": "stream",
     "text": [
      "[22:09:07] WARNING: D:\\bld\\xgboost-split_1700181111005\\work\\src\\learner.cc:767: \n",
      "Parameters: { \"verbose\" } are not used.\n",
      "\n",
      "[0]\tvalidation-rmse:16.10756\n",
      "[1]\tvalidation-rmse:15.54610\n"
     ]
    },
    {
     "name": "stdout",
     "output_type": "stream",
     "text": [
      "[2]\tvalidation-rmse:15.00412\n",
      "[3]\tvalidation-rmse:14.48160\n",
      "[4]\tvalidation-rmse:13.97671\n",
      "[5]\tvalidation-rmse:13.49045\n",
      "[6]\tvalidation-rmse:13.02183\n",
      "[7]\tvalidation-rmse:12.56945\n",
      "[8]\tvalidation-rmse:12.13428\n",
      "[9]\tvalidation-rmse:11.71335\n",
      "11.713347982152646\n",
      "[22:09:07] WARNING: D:\\bld\\xgboost-split_1700181111005\\work\\src\\learner.cc:767: \n",
      "Parameters: { \"verbose\" } are not used.\n",
      "\n",
      "[0]\tvalidation-rmse:16.19495\n",
      "[1]\tvalidation-rmse:15.63069\n",
      "[2]\tvalidation-rmse:15.08989\n",
      "[3]\tvalidation-rmse:14.56665\n",
      "[4]\tvalidation-rmse:14.06162\n",
      "[5]\tvalidation-rmse:13.57419\n",
      "[6]\tvalidation-rmse:13.10616\n",
      "[7]\tvalidation-rmse:12.65328\n",
      "[8]\tvalidation-rmse:12.21697\n",
      "[9]\tvalidation-rmse:11.79518\n",
      "11.795175278170476\n",
      "[22:09:07] WARNING: D:\\bld\\xgboost-split_1700181111005\\work\\src\\learner.cc:767: \n",
      "Parameters: { \"verbose\" } are not used.\n",
      "\n",
      "[0]\tvalidation-rmse:16.27397\n",
      "[1]\tvalidation-rmse:15.71165\n",
      "[2]\tvalidation-rmse:15.16894\n",
      "[3]\tvalidation-rmse:14.64659\n",
      "[4]\tvalidation-rmse:14.14281\n",
      "[5]\tvalidation-rmse:13.65607\n"
     ]
    },
    {
     "name": "stderr",
     "output_type": "stream",
     "text": [
      "d:\\anaconda3\\envs\\F30\\Lib\\site-packages\\xgboost\\data.py:312: FutureWarning: is_sparse is deprecated and will be removed in a future version. Check `isinstance(dtype, pd.SparseDtype)` instead.\n",
      "  if is_sparse(dtype):\n",
      "d:\\anaconda3\\envs\\F30\\Lib\\site-packages\\xgboost\\data.py:314: FutureWarning: is_categorical_dtype is deprecated and will be removed in a future version. Use isinstance(dtype, CategoricalDtype) instead\n",
      "  elif is_categorical_dtype(dtype) and enable_categorical:\n",
      "d:\\anaconda3\\envs\\F30\\Lib\\site-packages\\xgboost\\data.py:345: FutureWarning: is_categorical_dtype is deprecated and will be removed in a future version. Use isinstance(dtype, CategoricalDtype) instead\n",
      "  if is_categorical_dtype(dtype)\n",
      "d:\\anaconda3\\envs\\F30\\Lib\\site-packages\\xgboost\\data.py:336: FutureWarning: is_categorical_dtype is deprecated and will be removed in a future version. Use isinstance(dtype, CategoricalDtype) instead\n",
      "  return is_int or is_bool or is_float or is_categorical_dtype(dtype)\n",
      "d:\\anaconda3\\envs\\F30\\Lib\\site-packages\\xgboost\\data.py:440: FutureWarning: is_sparse is deprecated and will be removed in a future version. Check `isinstance(dtype, pd.SparseDtype)` instead.\n",
      "  if is_sparse(data):\n",
      "d:\\anaconda3\\envs\\F30\\Lib\\site-packages\\xgboost\\data.py:312: FutureWarning: is_sparse is deprecated and will be removed in a future version. Check `isinstance(dtype, pd.SparseDtype)` instead.\n",
      "  if is_sparse(dtype):\n",
      "d:\\anaconda3\\envs\\F30\\Lib\\site-packages\\xgboost\\data.py:314: FutureWarning: is_categorical_dtype is deprecated and will be removed in a future version. Use isinstance(dtype, CategoricalDtype) instead\n",
      "  elif is_categorical_dtype(dtype) and enable_categorical:\n",
      "d:\\anaconda3\\envs\\F30\\Lib\\site-packages\\xgboost\\data.py:345: FutureWarning: is_categorical_dtype is deprecated and will be removed in a future version. Use isinstance(dtype, CategoricalDtype) instead\n",
      "  if is_categorical_dtype(dtype)\n",
      "d:\\anaconda3\\envs\\F30\\Lib\\site-packages\\xgboost\\data.py:336: FutureWarning: is_categorical_dtype is deprecated and will be removed in a future version. Use isinstance(dtype, CategoricalDtype) instead\n",
      "  return is_int or is_bool or is_float or is_categorical_dtype(dtype)\n",
      "d:\\anaconda3\\envs\\F30\\Lib\\site-packages\\xgboost\\data.py:440: FutureWarning: is_sparse is deprecated and will be removed in a future version. Check `isinstance(dtype, pd.SparseDtype)` instead.\n",
      "  if is_sparse(data):\n",
      "d:\\anaconda3\\envs\\F30\\Lib\\site-packages\\xgboost\\data.py:312: FutureWarning: is_sparse is deprecated and will be removed in a future version. Check `isinstance(dtype, pd.SparseDtype)` instead.\n",
      "  if is_sparse(dtype):\n",
      "d:\\anaconda3\\envs\\F30\\Lib\\site-packages\\xgboost\\data.py:314: FutureWarning: is_categorical_dtype is deprecated and will be removed in a future version. Use isinstance(dtype, CategoricalDtype) instead\n",
      "  elif is_categorical_dtype(dtype) and enable_categorical:\n",
      "d:\\anaconda3\\envs\\F30\\Lib\\site-packages\\xgboost\\data.py:345: FutureWarning: is_categorical_dtype is deprecated and will be removed in a future version. Use isinstance(dtype, CategoricalDtype) instead\n",
      "  if is_categorical_dtype(dtype)\n",
      "d:\\anaconda3\\envs\\F30\\Lib\\site-packages\\xgboost\\data.py:336: FutureWarning: is_categorical_dtype is deprecated and will be removed in a future version. Use isinstance(dtype, CategoricalDtype) instead\n",
      "  return is_int or is_bool or is_float or is_categorical_dtype(dtype)\n",
      "d:\\anaconda3\\envs\\F30\\Lib\\site-packages\\xgboost\\data.py:440: FutureWarning: is_sparse is deprecated and will be removed in a future version. Check `isinstance(dtype, pd.SparseDtype)` instead.\n",
      "  if is_sparse(data):\n",
      "d:\\anaconda3\\envs\\F30\\Lib\\site-packages\\xgboost\\data.py:312: FutureWarning: is_sparse is deprecated and will be removed in a future version. Check `isinstance(dtype, pd.SparseDtype)` instead.\n",
      "  if is_sparse(dtype):\n",
      "d:\\anaconda3\\envs\\F30\\Lib\\site-packages\\xgboost\\data.py:314: FutureWarning: is_categorical_dtype is deprecated and will be removed in a future version. Use isinstance(dtype, CategoricalDtype) instead\n",
      "  elif is_categorical_dtype(dtype) and enable_categorical:\n",
      "d:\\anaconda3\\envs\\F30\\Lib\\site-packages\\xgboost\\data.py:345: FutureWarning: is_categorical_dtype is deprecated and will be removed in a future version. Use isinstance(dtype, CategoricalDtype) instead\n",
      "  if is_categorical_dtype(dtype)\n",
      "d:\\anaconda3\\envs\\F30\\Lib\\site-packages\\xgboost\\data.py:336: FutureWarning: is_categorical_dtype is deprecated and will be removed in a future version. Use isinstance(dtype, CategoricalDtype) instead\n",
      "  return is_int or is_bool or is_float or is_categorical_dtype(dtype)\n",
      "d:\\anaconda3\\envs\\F30\\Lib\\site-packages\\xgboost\\data.py:440: FutureWarning: is_sparse is deprecated and will be removed in a future version. Check `isinstance(dtype, pd.SparseDtype)` instead.\n",
      "  if is_sparse(data):\n",
      "d:\\anaconda3\\envs\\F30\\Lib\\site-packages\\xgboost\\data.py:312: FutureWarning: is_sparse is deprecated and will be removed in a future version. Check `isinstance(dtype, pd.SparseDtype)` instead.\n",
      "  if is_sparse(dtype):\n",
      "d:\\anaconda3\\envs\\F30\\Lib\\site-packages\\xgboost\\data.py:314: FutureWarning: is_categorical_dtype is deprecated and will be removed in a future version. Use isinstance(dtype, CategoricalDtype) instead\n",
      "  elif is_categorical_dtype(dtype) and enable_categorical:\n",
      "d:\\anaconda3\\envs\\F30\\Lib\\site-packages\\xgboost\\data.py:345: FutureWarning: is_categorical_dtype is deprecated and will be removed in a future version. Use isinstance(dtype, CategoricalDtype) instead\n",
      "  if is_categorical_dtype(dtype)\n",
      "d:\\anaconda3\\envs\\F30\\Lib\\site-packages\\xgboost\\data.py:336: FutureWarning: is_categorical_dtype is deprecated and will be removed in a future version. Use isinstance(dtype, CategoricalDtype) instead\n",
      "  return is_int or is_bool or is_float or is_categorical_dtype(dtype)\n",
      "d:\\anaconda3\\envs\\F30\\Lib\\site-packages\\xgboost\\data.py:440: FutureWarning: is_sparse is deprecated and will be removed in a future version. Check `isinstance(dtype, pd.SparseDtype)` instead.\n",
      "  if is_sparse(data):\n",
      "d:\\anaconda3\\envs\\F30\\Lib\\site-packages\\xgboost\\data.py:312: FutureWarning: is_sparse is deprecated and will be removed in a future version. Check `isinstance(dtype, pd.SparseDtype)` instead.\n",
      "  if is_sparse(dtype):\n",
      "d:\\anaconda3\\envs\\F30\\Lib\\site-packages\\xgboost\\data.py:314: FutureWarning: is_categorical_dtype is deprecated and will be removed in a future version. Use isinstance(dtype, CategoricalDtype) instead\n",
      "  elif is_categorical_dtype(dtype) and enable_categorical:\n",
      "d:\\anaconda3\\envs\\F30\\Lib\\site-packages\\xgboost\\data.py:345: FutureWarning: is_categorical_dtype is deprecated and will be removed in a future version. Use isinstance(dtype, CategoricalDtype) instead\n",
      "  if is_categorical_dtype(dtype)\n",
      "d:\\anaconda3\\envs\\F30\\Lib\\site-packages\\xgboost\\data.py:336: FutureWarning: is_categorical_dtype is deprecated and will be removed in a future version. Use isinstance(dtype, CategoricalDtype) instead\n",
      "  return is_int or is_bool or is_float or is_categorical_dtype(dtype)\n",
      "d:\\anaconda3\\envs\\F30\\Lib\\site-packages\\xgboost\\data.py:440: FutureWarning: is_sparse is deprecated and will be removed in a future version. Check `isinstance(dtype, pd.SparseDtype)` instead.\n",
      "  if is_sparse(data):\n"
     ]
    },
    {
     "name": "stdout",
     "output_type": "stream",
     "text": [
      "[6]\tvalidation-rmse:13.18808\n",
      "[7]\tvalidation-rmse:12.73550\n",
      "[8]\tvalidation-rmse:12.29892\n",
      "[9]\tvalidation-rmse:11.87696\n",
      "11.876962693574267\n",
      "[22:09:07] WARNING: D:\\bld\\xgboost-split_1700181111005\\work\\src\\learner.cc:767: \n",
      "Parameters: { \"verbose\" } are not used.\n",
      "\n",
      "[0]\tvalidation-rmse:16.23310\n",
      "[1]\tvalidation-rmse:15.67290\n",
      "[2]\tvalidation-rmse:15.13204\n",
      "[3]\tvalidation-rmse:14.61088\n",
      "[4]\tvalidation-rmse:14.10675\n",
      "[5]\tvalidation-rmse:13.62089\n",
      "[6]\tvalidation-rmse:13.15343\n",
      "[7]\tvalidation-rmse:12.69969\n",
      "[8]\tvalidation-rmse:12.26329\n",
      "[9]\tvalidation-rmse:11.84335\n",
      "11.843351631872306\n",
      "[22:09:07] WARNING: D:\\bld\\xgboost-split_1700181111005\\work\\src\\learner.cc:767: \n",
      "Parameters: { \"verbose\" } are not used.\n",
      "\n",
      "[0]\tvalidation-rmse:16.39824\n",
      "[1]\tvalidation-rmse:15.83256\n",
      "[2]\tvalidation-rmse:15.28832\n",
      "[3]\tvalidation-rmse:14.76299\n",
      "[4]\tvalidation-rmse:14.25745\n",
      "[5]\tvalidation-rmse:13.76870\n",
      "[6]\tvalidation-rmse:13.29603\n",
      "[7]\tvalidation-rmse:12.84187\n",
      "[8]\tvalidation-rmse:12.40267\n",
      "[9]\tvalidation-rmse:11.97911\n",
      "11.979111837528974\n"
     ]
    },
    {
     "name": "stderr",
     "output_type": "stream",
     "text": [
      "d:\\anaconda3\\envs\\F30\\Lib\\site-packages\\xgboost\\data.py:312: FutureWarning: is_sparse is deprecated and will be removed in a future version. Check `isinstance(dtype, pd.SparseDtype)` instead.\n",
      "  if is_sparse(dtype):\n",
      "d:\\anaconda3\\envs\\F30\\Lib\\site-packages\\xgboost\\data.py:314: FutureWarning: is_categorical_dtype is deprecated and will be removed in a future version. Use isinstance(dtype, CategoricalDtype) instead\n",
      "  elif is_categorical_dtype(dtype) and enable_categorical:\n",
      "d:\\anaconda3\\envs\\F30\\Lib\\site-packages\\xgboost\\data.py:345: FutureWarning: is_categorical_dtype is deprecated and will be removed in a future version. Use isinstance(dtype, CategoricalDtype) instead\n",
      "  if is_categorical_dtype(dtype)\n",
      "d:\\anaconda3\\envs\\F30\\Lib\\site-packages\\xgboost\\data.py:336: FutureWarning: is_categorical_dtype is deprecated and will be removed in a future version. Use isinstance(dtype, CategoricalDtype) instead\n",
      "  return is_int or is_bool or is_float or is_categorical_dtype(dtype)\n",
      "d:\\anaconda3\\envs\\F30\\Lib\\site-packages\\xgboost\\data.py:440: FutureWarning: is_sparse is deprecated and will be removed in a future version. Check `isinstance(dtype, pd.SparseDtype)` instead.\n",
      "  if is_sparse(data):\n",
      "d:\\anaconda3\\envs\\F30\\Lib\\site-packages\\xgboost\\data.py:312: FutureWarning: is_sparse is deprecated and will be removed in a future version. Check `isinstance(dtype, pd.SparseDtype)` instead.\n",
      "  if is_sparse(dtype):\n",
      "d:\\anaconda3\\envs\\F30\\Lib\\site-packages\\xgboost\\data.py:314: FutureWarning: is_categorical_dtype is deprecated and will be removed in a future version. Use isinstance(dtype, CategoricalDtype) instead\n",
      "  elif is_categorical_dtype(dtype) and enable_categorical:\n",
      "d:\\anaconda3\\envs\\F30\\Lib\\site-packages\\xgboost\\data.py:345: FutureWarning: is_categorical_dtype is deprecated and will be removed in a future version. Use isinstance(dtype, CategoricalDtype) instead\n",
      "  if is_categorical_dtype(dtype)\n",
      "d:\\anaconda3\\envs\\F30\\Lib\\site-packages\\xgboost\\data.py:336: FutureWarning: is_categorical_dtype is deprecated and will be removed in a future version. Use isinstance(dtype, CategoricalDtype) instead\n",
      "  return is_int or is_bool or is_float or is_categorical_dtype(dtype)\n",
      "d:\\anaconda3\\envs\\F30\\Lib\\site-packages\\xgboost\\data.py:440: FutureWarning: is_sparse is deprecated and will be removed in a future version. Check `isinstance(dtype, pd.SparseDtype)` instead.\n",
      "  if is_sparse(data):\n",
      "d:\\anaconda3\\envs\\F30\\Lib\\site-packages\\xgboost\\data.py:312: FutureWarning: is_sparse is deprecated and will be removed in a future version. Check `isinstance(dtype, pd.SparseDtype)` instead.\n",
      "  if is_sparse(dtype):\n",
      "d:\\anaconda3\\envs\\F30\\Lib\\site-packages\\xgboost\\data.py:314: FutureWarning: is_categorical_dtype is deprecated and will be removed in a future version. Use isinstance(dtype, CategoricalDtype) instead\n",
      "  elif is_categorical_dtype(dtype) and enable_categorical:\n",
      "d:\\anaconda3\\envs\\F30\\Lib\\site-packages\\xgboost\\data.py:345: FutureWarning: is_categorical_dtype is deprecated and will be removed in a future version. Use isinstance(dtype, CategoricalDtype) instead\n",
      "  if is_categorical_dtype(dtype)\n",
      "d:\\anaconda3\\envs\\F30\\Lib\\site-packages\\xgboost\\data.py:336: FutureWarning: is_categorical_dtype is deprecated and will be removed in a future version. Use isinstance(dtype, CategoricalDtype) instead\n",
      "  return is_int or is_bool or is_float or is_categorical_dtype(dtype)\n",
      "d:\\anaconda3\\envs\\F30\\Lib\\site-packages\\xgboost\\data.py:440: FutureWarning: is_sparse is deprecated and will be removed in a future version. Check `isinstance(dtype, pd.SparseDtype)` instead.\n",
      "  if is_sparse(data):\n",
      "d:\\anaconda3\\envs\\F30\\Lib\\site-packages\\xgboost\\data.py:312: FutureWarning: is_sparse is deprecated and will be removed in a future version. Check `isinstance(dtype, pd.SparseDtype)` instead.\n",
      "  if is_sparse(dtype):\n",
      "d:\\anaconda3\\envs\\F30\\Lib\\site-packages\\xgboost\\data.py:314: FutureWarning: is_categorical_dtype is deprecated and will be removed in a future version. Use isinstance(dtype, CategoricalDtype) instead\n",
      "  elif is_categorical_dtype(dtype) and enable_categorical:\n",
      "d:\\anaconda3\\envs\\F30\\Lib\\site-packages\\xgboost\\data.py:345: FutureWarning: is_categorical_dtype is deprecated and will be removed in a future version. Use isinstance(dtype, CategoricalDtype) instead\n",
      "  if is_categorical_dtype(dtype)\n",
      "d:\\anaconda3\\envs\\F30\\Lib\\site-packages\\xgboost\\data.py:336: FutureWarning: is_categorical_dtype is deprecated and will be removed in a future version. Use isinstance(dtype, CategoricalDtype) instead\n",
      "  return is_int or is_bool or is_float or is_categorical_dtype(dtype)\n",
      "d:\\anaconda3\\envs\\F30\\Lib\\site-packages\\xgboost\\data.py:440: FutureWarning: is_sparse is deprecated and will be removed in a future version. Check `isinstance(dtype, pd.SparseDtype)` instead.\n",
      "  if is_sparse(data):\n"
     ]
    }
   ],
   "source": [
    "# xgboost\n",
    "# set the parameters for the xgb model\n",
    "param = {'objective': 'reg:squarederror', \n",
    "              'eta': 0.035, \n",
    "              'max_depth': 17, \n",
    "              'subsample': 0.6, \n",
    "              'colsample_bytree': 0.7,  \n",
    "              'eval_metric': 'rmse', \n",
    "              'verbose': False\n",
    "}\n",
    "# train the xgb model\n",
    "xgb_model_non_error = []\n",
    "xgb_prediction = []\n",
    "for train_index, val_index in kf.split(non_error_train):\n",
    "    X_train, X_val = non_error_train.iloc[train_index][feature_regression], non_error_train.iloc[val_index][feature_regression]\n",
    "    y_train, y_val = non_error_train.iloc[train_index][target], non_error_train.iloc[val_index][target]\n",
    "    train_data = xgb.DMatrix(X_train, label=y_train)\n",
    "    val_data = xgb.DMatrix(X_val, label=y_val)\n",
    "    xgb_model = xgb.train(param, train_data, evals=[(val_data, 'validation')])\n",
    "    xgb_model_non_error.append(xgb_model)\n",
    "    # evaluate the model\n",
    "    y_pred = xgb_model.predict(val_data)\n",
    "    xgb_prediction.append(y_pred)\n",
    "    # calculate the loss\n",
    "    loss = np.sqrt(sum((y_pred - y_val) ** 2) / len(y_val))\n",
    "    print(loss)\n"
   ]
  },
  {
   "cell_type": "code",
   "execution_count": 233,
   "metadata": {},
   "outputs": [
    {
     "name": "stdout",
     "output_type": "stream",
     "text": [
      "1.4186606701187794\n",
      "1.282108567188844\n",
      "1.2278109615912804\n",
      "1.2866792377979899\n",
      "1.1651567477463223\n"
     ]
    }
   ],
   "source": [
    "# catboost\n",
    "# set the parameters for the cat model\n",
    "param = {'iterations' : 2000,\n",
    "        'learning_rate':0.07,\n",
    "        'depth':12,\n",
    "        'eval_metric':'RMSE',\n",
    "        'colsample_bylevel':0.8,\n",
    "        'bagging_temperature' : 0.4,\n",
    "        'metric_period' : None,\n",
    "        'early_stopping_rounds':200,\n",
    "        'verbose': False\n",
    "}\n",
    "# train the cat model\n",
    "cat_model_non_error = []\n",
    "cat_prediction = []\n",
    "for train_index, val_index in kf.split(non_error_train):\n",
    "    X_train, X_val = non_error_train.iloc[train_index][feature_regression], non_error_train.iloc[val_index][feature_regression]\n",
    "    y_train, y_val = non_error_train.iloc[train_index][target], non_error_train.iloc[val_index][target]\n",
    "    train_data = cat.Pool(X_train, label=y_train)\n",
    "    val_data = cat.Pool(X_val, label=y_val)\n",
    "    cat_model = cat.CatBoostRegressor(**param)\n",
    "    cat_model.fit(train_data, eval_set=val_data)\n",
    "    cat_model_non_error.append(cat_model)\n",
    "    # evaluate the model\n",
    "    y_pred = cat_model.predict(val_data)\n",
    "    cat_prediction.append(y_pred)\n",
    "    # calculate the loss\n",
    "    loss = np.sqrt(sum((y_pred - y_val) ** 2) / len(y_val))\n",
    "    print(loss)"
   ]
  },
  {
   "cell_type": "code",
   "execution_count": 234,
   "metadata": {},
   "outputs": [],
   "source": [
    "# predict function\n",
    "def prediction(model, data):\n",
    "    pred = []\n",
    "    for i in range(len(model)):\n",
    "        pred.append(model[i].predict(data))\n",
    "    pred = np.array(pred)\n",
    "    pred = np.mean(pred, axis=0)\n",
    "    return pred"
   ]
  },
  {
   "cell_type": "markdown",
   "metadata": {},
   "source": [
    "To combine these 3 types of models, we use linear regression to find the best weight."
   ]
  },
  {
   "cell_type": "code",
   "execution_count": 235,
   "metadata": {},
   "outputs": [
    {
     "name": "stderr",
     "output_type": "stream",
     "text": [
      "d:\\anaconda3\\envs\\F30\\Lib\\site-packages\\xgboost\\data.py:312: FutureWarning: is_sparse is deprecated and will be removed in a future version. Check `isinstance(dtype, pd.SparseDtype)` instead.\n",
      "  if is_sparse(dtype):\n",
      "d:\\anaconda3\\envs\\F30\\Lib\\site-packages\\xgboost\\data.py:314: FutureWarning: is_categorical_dtype is deprecated and will be removed in a future version. Use isinstance(dtype, CategoricalDtype) instead\n",
      "  elif is_categorical_dtype(dtype) and enable_categorical:\n",
      "d:\\anaconda3\\envs\\F30\\Lib\\site-packages\\xgboost\\data.py:345: FutureWarning: is_categorical_dtype is deprecated and will be removed in a future version. Use isinstance(dtype, CategoricalDtype) instead\n",
      "  if is_categorical_dtype(dtype)\n",
      "d:\\anaconda3\\envs\\F30\\Lib\\site-packages\\xgboost\\data.py:336: FutureWarning: is_categorical_dtype is deprecated and will be removed in a future version. Use isinstance(dtype, CategoricalDtype) instead\n",
      "  return is_int or is_bool or is_float or is_categorical_dtype(dtype)\n"
     ]
    },
    {
     "data": {
      "text/html": [
       "<style>#sk-container-id-9 {color: black;}#sk-container-id-9 pre{padding: 0;}#sk-container-id-9 div.sk-toggleable {background-color: white;}#sk-container-id-9 label.sk-toggleable__label {cursor: pointer;display: block;width: 100%;margin-bottom: 0;padding: 0.3em;box-sizing: border-box;text-align: center;}#sk-container-id-9 label.sk-toggleable__label-arrow:before {content: \"▸\";float: left;margin-right: 0.25em;color: #696969;}#sk-container-id-9 label.sk-toggleable__label-arrow:hover:before {color: black;}#sk-container-id-9 div.sk-estimator:hover label.sk-toggleable__label-arrow:before {color: black;}#sk-container-id-9 div.sk-toggleable__content {max-height: 0;max-width: 0;overflow: hidden;text-align: left;background-color: #f0f8ff;}#sk-container-id-9 div.sk-toggleable__content pre {margin: 0.2em;color: black;border-radius: 0.25em;background-color: #f0f8ff;}#sk-container-id-9 input.sk-toggleable__control:checked~div.sk-toggleable__content {max-height: 200px;max-width: 100%;overflow: auto;}#sk-container-id-9 input.sk-toggleable__control:checked~label.sk-toggleable__label-arrow:before {content: \"▾\";}#sk-container-id-9 div.sk-estimator input.sk-toggleable__control:checked~label.sk-toggleable__label {background-color: #d4ebff;}#sk-container-id-9 div.sk-label input.sk-toggleable__control:checked~label.sk-toggleable__label {background-color: #d4ebff;}#sk-container-id-9 input.sk-hidden--visually {border: 0;clip: rect(1px 1px 1px 1px);clip: rect(1px, 1px, 1px, 1px);height: 1px;margin: -1px;overflow: hidden;padding: 0;position: absolute;width: 1px;}#sk-container-id-9 div.sk-estimator {font-family: monospace;background-color: #f0f8ff;border: 1px dotted black;border-radius: 0.25em;box-sizing: border-box;margin-bottom: 0.5em;}#sk-container-id-9 div.sk-estimator:hover {background-color: #d4ebff;}#sk-container-id-9 div.sk-parallel-item::after {content: \"\";width: 100%;border-bottom: 1px solid gray;flex-grow: 1;}#sk-container-id-9 div.sk-label:hover label.sk-toggleable__label {background-color: #d4ebff;}#sk-container-id-9 div.sk-serial::before {content: \"\";position: absolute;border-left: 1px solid gray;box-sizing: border-box;top: 0;bottom: 0;left: 50%;z-index: 0;}#sk-container-id-9 div.sk-serial {display: flex;flex-direction: column;align-items: center;background-color: white;padding-right: 0.2em;padding-left: 0.2em;position: relative;}#sk-container-id-9 div.sk-item {position: relative;z-index: 1;}#sk-container-id-9 div.sk-parallel {display: flex;align-items: stretch;justify-content: center;background-color: white;position: relative;}#sk-container-id-9 div.sk-item::before, #sk-container-id-9 div.sk-parallel-item::before {content: \"\";position: absolute;border-left: 1px solid gray;box-sizing: border-box;top: 0;bottom: 0;left: 50%;z-index: -1;}#sk-container-id-9 div.sk-parallel-item {display: flex;flex-direction: column;z-index: 1;position: relative;background-color: white;}#sk-container-id-9 div.sk-parallel-item:first-child::after {align-self: flex-end;width: 50%;}#sk-container-id-9 div.sk-parallel-item:last-child::after {align-self: flex-start;width: 50%;}#sk-container-id-9 div.sk-parallel-item:only-child::after {width: 0;}#sk-container-id-9 div.sk-dashed-wrapped {border: 1px dashed gray;margin: 0 0.4em 0.5em 0.4em;box-sizing: border-box;padding-bottom: 0.4em;background-color: white;}#sk-container-id-9 div.sk-label label {font-family: monospace;font-weight: bold;display: inline-block;line-height: 1.2em;}#sk-container-id-9 div.sk-label-container {text-align: center;}#sk-container-id-9 div.sk-container {/* jupyter's `normalize.less` sets `[hidden] { display: none; }` but bootstrap.min.css set `[hidden] { display: none !important; }` so we also need the `!important` here to be able to override the default hidden behavior on the sphinx rendered scikit-learn.org. See: https://github.com/scikit-learn/scikit-learn/issues/21755 */display: inline-block !important;position: relative;}#sk-container-id-9 div.sk-text-repr-fallback {display: none;}</style><div id=\"sk-container-id-9\" class=\"sk-top-container\"><div class=\"sk-text-repr-fallback\"><pre>LinearRegression()</pre><b>In a Jupyter environment, please rerun this cell to show the HTML representation or trust the notebook. <br />On GitHub, the HTML representation is unable to render, please try loading this page with nbviewer.org.</b></div><div class=\"sk-container\" hidden><div class=\"sk-item\"><div class=\"sk-estimator sk-toggleable\"><input class=\"sk-toggleable__control sk-hidden--visually\" id=\"sk-estimator-id-9\" type=\"checkbox\" checked><label for=\"sk-estimator-id-9\" class=\"sk-toggleable__label sk-toggleable__label-arrow\">LinearRegression</label><div class=\"sk-toggleable__content\"><pre>LinearRegression()</pre></div></div></div></div></div>"
      ],
      "text/plain": [
       "LinearRegression()"
      ]
     },
     "execution_count": 235,
     "metadata": {},
     "output_type": "execute_result"
    }
   ],
   "source": [
    "# # train a linear regression model to adjust the prediction of the three models\n",
    "\n",
    "# predict the training set using the three models\n",
    "lgb_train = prediction(lgb_model_non_error, non_error_train[feature_regression])\n",
    "xgb_train = prediction(xgb_model_non_error, xgb.DMatrix(non_error_train[feature_regression]))\n",
    "cat_train = prediction(cat_model_non_error, cat.Pool(non_error_train[feature_regression]))\n",
    "\n",
    "# combine the prediction of the three models\n",
    "train_pred = np.array([lgb_train, xgb_train, cat_train])\n",
    "train_pred = np.transpose(train_pred)\n",
    "# train a linear regression model\n",
    "lr_non_error = LinearRegression()\n",
    "lr_non_error.fit(train_pred, non_error_train[target])\n",
    "\n"
   ]
  },
  {
   "cell_type": "markdown",
   "metadata": {},
   "source": [
    "#### 2. Model for error data"
   ]
  },
  {
   "cell_type": "code",
   "execution_count": 236,
   "metadata": {},
   "outputs": [
    {
     "name": "stdout",
     "output_type": "stream",
     "text": [
      "1.7682569677535886\n",
      "1.8138071892010714\n",
      "1.9679283891110555\n",
      "1.5136034789061503\n",
      "1.556742971045209\n"
     ]
    }
   ],
   "source": [
    "# lightgbm\n",
    "# set the parameters for the lgb model\n",
    "param = {'num_leaves': 500,\n",
    "          'objective': 'regression',\n",
    "          'metric': 'rmse',\n",
    "          'max_depth': 12,\n",
    "          'learning_rate': 0.1,\n",
    "          'feature_fraction': 0.95,\n",
    "          'min_data_in_leaf': 5,\n",
    "          'bagging_fraction': 0.9,\n",
    "          'bagging_freq': 1,\n",
    "          'lambda_l1': 0.2,\n",
    "          'lambda_l2': 1,\n",
    "          'verbose': -1}\n",
    "\n",
    "# train the lgb model\n",
    "lgb_model_error = []\n",
    "lgb_prediction = []\n",
    "for train_index, val_index in kf.split(error_train):\n",
    "    X_train, X_val = error_train.iloc[train_index][feature_regression], error_train.iloc[val_index][feature_regression]\n",
    "    y_train, y_val = error_train.iloc[train_index][target], error_train.iloc[val_index][target]\n",
    "    train_data = lgb.Dataset(X_train, label=y_train)\n",
    "    val_data = lgb.Dataset(X_val, label=y_val)\n",
    "    lgb_model = lgb.train(param, train_data, valid_sets=[val_data])\n",
    "    lgb_model_error.append(lgb_model)\n",
    "    # evaluate the model\n",
    "    y_pred = lgb_model.predict(X_val, num_iteration=lgb_model.best_iteration)\n",
    "    lgb_prediction.append(y_pred)\n",
    "    # calculate the loss\n",
    "    loss = np.sqrt(sum((y_pred - y_val) ** 2) / len(y_val))\n",
    "    print(loss)\n"
   ]
  },
  {
   "cell_type": "code",
   "execution_count": 237,
   "metadata": {},
   "outputs": [
    {
     "name": "stdout",
     "output_type": "stream",
     "text": [
      "[22:16:03] WARNING: D:\\bld\\xgboost-split_1700181111005\\work\\src\\learner.cc:767: \n",
      "Parameters: { \"verbose\" } are not used.\n",
      "\n",
      "[0]\tvalidation-rmse:14.17726\n",
      "[1]\tvalidation-rmse:13.69800\n"
     ]
    },
    {
     "name": "stdout",
     "output_type": "stream",
     "text": [
      "[2]\tvalidation-rmse:13.23465\n",
      "[3]\tvalidation-rmse:12.78727\n",
      "[4]\tvalidation-rmse:12.35412\n",
      "[5]\tvalidation-rmse:11.93784\n",
      "[6]\tvalidation-rmse:11.53592\n",
      "[7]\tvalidation-rmse:11.14878\n",
      "[8]\tvalidation-rmse:10.78151\n",
      "[9]\tvalidation-rmse:10.42076\n",
      "10.420764250600719\n",
      "[22:16:03] WARNING: D:\\bld\\xgboost-split_1700181111005\\work\\src\\learner.cc:767: \n",
      "Parameters: { \"verbose\" } are not used.\n",
      "\n",
      "[0]\tvalidation-rmse:13.99931\n",
      "[1]\tvalidation-rmse:13.52325\n",
      "[2]\tvalidation-rmse:13.06226\n",
      "[3]\tvalidation-rmse:12.61922\n",
      "[4]\tvalidation-rmse:12.19009\n",
      "[5]\tvalidation-rmse:11.77786\n",
      "[6]\tvalidation-rmse:11.38858\n",
      "[7]\tvalidation-rmse:11.00716\n",
      "[8]\tvalidation-rmse:10.63856\n",
      "[9]\tvalidation-rmse:10.28328\n",
      "10.283283350890823\n",
      "[22:16:03] WARNING: D:\\bld\\xgboost-split_1700181111005\\work\\src\\learner.cc:767: \n",
      "Parameters: { \"verbose\" } are not used.\n",
      "\n",
      "[0]\tvalidation-rmse:13.89105\n",
      "[1]\tvalidation-rmse:13.41508\n",
      "[2]\tvalidation-rmse:12.95482\n",
      "[3]\tvalidation-rmse:12.51521\n",
      "[4]\tvalidation-rmse:12.08882\n",
      "[5]\tvalidation-rmse:11.67841\n",
      "[6]\tvalidation-rmse:11.28241\n",
      "[7]\tvalidation-rmse:10.89832\n",
      "[8]\tvalidation-rmse:10.52760\n"
     ]
    },
    {
     "name": "stderr",
     "output_type": "stream",
     "text": [
      "d:\\anaconda3\\envs\\F30\\Lib\\site-packages\\xgboost\\data.py:312: FutureWarning: is_sparse is deprecated and will be removed in a future version. Check `isinstance(dtype, pd.SparseDtype)` instead.\n",
      "  if is_sparse(dtype):\n",
      "d:\\anaconda3\\envs\\F30\\Lib\\site-packages\\xgboost\\data.py:314: FutureWarning: is_categorical_dtype is deprecated and will be removed in a future version. Use isinstance(dtype, CategoricalDtype) instead\n",
      "  elif is_categorical_dtype(dtype) and enable_categorical:\n",
      "d:\\anaconda3\\envs\\F30\\Lib\\site-packages\\xgboost\\data.py:345: FutureWarning: is_categorical_dtype is deprecated and will be removed in a future version. Use isinstance(dtype, CategoricalDtype) instead\n",
      "  if is_categorical_dtype(dtype)\n",
      "d:\\anaconda3\\envs\\F30\\Lib\\site-packages\\xgboost\\data.py:336: FutureWarning: is_categorical_dtype is deprecated and will be removed in a future version. Use isinstance(dtype, CategoricalDtype) instead\n",
      "  return is_int or is_bool or is_float or is_categorical_dtype(dtype)\n",
      "d:\\anaconda3\\envs\\F30\\Lib\\site-packages\\xgboost\\data.py:440: FutureWarning: is_sparse is deprecated and will be removed in a future version. Check `isinstance(dtype, pd.SparseDtype)` instead.\n",
      "  if is_sparse(data):\n",
      "d:\\anaconda3\\envs\\F30\\Lib\\site-packages\\xgboost\\data.py:312: FutureWarning: is_sparse is deprecated and will be removed in a future version. Check `isinstance(dtype, pd.SparseDtype)` instead.\n",
      "  if is_sparse(dtype):\n",
      "d:\\anaconda3\\envs\\F30\\Lib\\site-packages\\xgboost\\data.py:314: FutureWarning: is_categorical_dtype is deprecated and will be removed in a future version. Use isinstance(dtype, CategoricalDtype) instead\n",
      "  elif is_categorical_dtype(dtype) and enable_categorical:\n",
      "d:\\anaconda3\\envs\\F30\\Lib\\site-packages\\xgboost\\data.py:345: FutureWarning: is_categorical_dtype is deprecated and will be removed in a future version. Use isinstance(dtype, CategoricalDtype) instead\n",
      "  if is_categorical_dtype(dtype)\n",
      "d:\\anaconda3\\envs\\F30\\Lib\\site-packages\\xgboost\\data.py:336: FutureWarning: is_categorical_dtype is deprecated and will be removed in a future version. Use isinstance(dtype, CategoricalDtype) instead\n",
      "  return is_int or is_bool or is_float or is_categorical_dtype(dtype)\n",
      "d:\\anaconda3\\envs\\F30\\Lib\\site-packages\\xgboost\\data.py:440: FutureWarning: is_sparse is deprecated and will be removed in a future version. Check `isinstance(dtype, pd.SparseDtype)` instead.\n",
      "  if is_sparse(data):\n",
      "d:\\anaconda3\\envs\\F30\\Lib\\site-packages\\xgboost\\data.py:312: FutureWarning: is_sparse is deprecated and will be removed in a future version. Check `isinstance(dtype, pd.SparseDtype)` instead.\n",
      "  if is_sparse(dtype):\n",
      "d:\\anaconda3\\envs\\F30\\Lib\\site-packages\\xgboost\\data.py:314: FutureWarning: is_categorical_dtype is deprecated and will be removed in a future version. Use isinstance(dtype, CategoricalDtype) instead\n",
      "  elif is_categorical_dtype(dtype) and enable_categorical:\n",
      "d:\\anaconda3\\envs\\F30\\Lib\\site-packages\\xgboost\\data.py:345: FutureWarning: is_categorical_dtype is deprecated and will be removed in a future version. Use isinstance(dtype, CategoricalDtype) instead\n",
      "  if is_categorical_dtype(dtype)\n",
      "d:\\anaconda3\\envs\\F30\\Lib\\site-packages\\xgboost\\data.py:336: FutureWarning: is_categorical_dtype is deprecated and will be removed in a future version. Use isinstance(dtype, CategoricalDtype) instead\n",
      "  return is_int or is_bool or is_float or is_categorical_dtype(dtype)\n",
      "d:\\anaconda3\\envs\\F30\\Lib\\site-packages\\xgboost\\data.py:440: FutureWarning: is_sparse is deprecated and will be removed in a future version. Check `isinstance(dtype, pd.SparseDtype)` instead.\n",
      "  if is_sparse(data):\n",
      "d:\\anaconda3\\envs\\F30\\Lib\\site-packages\\xgboost\\data.py:312: FutureWarning: is_sparse is deprecated and will be removed in a future version. Check `isinstance(dtype, pd.SparseDtype)` instead.\n",
      "  if is_sparse(dtype):\n",
      "d:\\anaconda3\\envs\\F30\\Lib\\site-packages\\xgboost\\data.py:314: FutureWarning: is_categorical_dtype is deprecated and will be removed in a future version. Use isinstance(dtype, CategoricalDtype) instead\n",
      "  elif is_categorical_dtype(dtype) and enable_categorical:\n",
      "d:\\anaconda3\\envs\\F30\\Lib\\site-packages\\xgboost\\data.py:345: FutureWarning: is_categorical_dtype is deprecated and will be removed in a future version. Use isinstance(dtype, CategoricalDtype) instead\n",
      "  if is_categorical_dtype(dtype)\n",
      "d:\\anaconda3\\envs\\F30\\Lib\\site-packages\\xgboost\\data.py:336: FutureWarning: is_categorical_dtype is deprecated and will be removed in a future version. Use isinstance(dtype, CategoricalDtype) instead\n",
      "  return is_int or is_bool or is_float or is_categorical_dtype(dtype)\n",
      "d:\\anaconda3\\envs\\F30\\Lib\\site-packages\\xgboost\\data.py:440: FutureWarning: is_sparse is deprecated and will be removed in a future version. Check `isinstance(dtype, pd.SparseDtype)` instead.\n",
      "  if is_sparse(data):\n",
      "d:\\anaconda3\\envs\\F30\\Lib\\site-packages\\xgboost\\data.py:312: FutureWarning: is_sparse is deprecated and will be removed in a future version. Check `isinstance(dtype, pd.SparseDtype)` instead.\n",
      "  if is_sparse(dtype):\n",
      "d:\\anaconda3\\envs\\F30\\Lib\\site-packages\\xgboost\\data.py:314: FutureWarning: is_categorical_dtype is deprecated and will be removed in a future version. Use isinstance(dtype, CategoricalDtype) instead\n",
      "  elif is_categorical_dtype(dtype) and enable_categorical:\n",
      "d:\\anaconda3\\envs\\F30\\Lib\\site-packages\\xgboost\\data.py:345: FutureWarning: is_categorical_dtype is deprecated and will be removed in a future version. Use isinstance(dtype, CategoricalDtype) instead\n",
      "  if is_categorical_dtype(dtype)\n",
      "d:\\anaconda3\\envs\\F30\\Lib\\site-packages\\xgboost\\data.py:336: FutureWarning: is_categorical_dtype is deprecated and will be removed in a future version. Use isinstance(dtype, CategoricalDtype) instead\n",
      "  return is_int or is_bool or is_float or is_categorical_dtype(dtype)\n",
      "d:\\anaconda3\\envs\\F30\\Lib\\site-packages\\xgboost\\data.py:440: FutureWarning: is_sparse is deprecated and will be removed in a future version. Check `isinstance(dtype, pd.SparseDtype)` instead.\n",
      "  if is_sparse(data):\n",
      "d:\\anaconda3\\envs\\F30\\Lib\\site-packages\\xgboost\\data.py:312: FutureWarning: is_sparse is deprecated and will be removed in a future version. Check `isinstance(dtype, pd.SparseDtype)` instead.\n",
      "  if is_sparse(dtype):\n",
      "d:\\anaconda3\\envs\\F30\\Lib\\site-packages\\xgboost\\data.py:314: FutureWarning: is_categorical_dtype is deprecated and will be removed in a future version. Use isinstance(dtype, CategoricalDtype) instead\n",
      "  elif is_categorical_dtype(dtype) and enable_categorical:\n",
      "d:\\anaconda3\\envs\\F30\\Lib\\site-packages\\xgboost\\data.py:345: FutureWarning: is_categorical_dtype is deprecated and will be removed in a future version. Use isinstance(dtype, CategoricalDtype) instead\n",
      "  if is_categorical_dtype(dtype)\n",
      "d:\\anaconda3\\envs\\F30\\Lib\\site-packages\\xgboost\\data.py:336: FutureWarning: is_categorical_dtype is deprecated and will be removed in a future version. Use isinstance(dtype, CategoricalDtype) instead\n",
      "  return is_int or is_bool or is_float or is_categorical_dtype(dtype)\n",
      "d:\\anaconda3\\envs\\F30\\Lib\\site-packages\\xgboost\\data.py:440: FutureWarning: is_sparse is deprecated and will be removed in a future version. Check `isinstance(dtype, pd.SparseDtype)` instead.\n",
      "  if is_sparse(data):\n"
     ]
    },
    {
     "name": "stdout",
     "output_type": "stream",
     "text": [
      "[9]\tvalidation-rmse:10.17471\n",
      "10.174704999871743\n",
      "[22:16:03] WARNING: D:\\bld\\xgboost-split_1700181111005\\work\\src\\learner.cc:767: \n",
      "Parameters: { \"verbose\" } are not used.\n",
      "\n",
      "[0]\tvalidation-rmse:13.97607\n",
      "[1]\tvalidation-rmse:13.49275\n",
      "[2]\tvalidation-rmse:13.02371\n",
      "[3]\tvalidation-rmse:12.57374\n",
      "[4]\tvalidation-rmse:12.14608\n",
      "[5]\tvalidation-rmse:11.73010\n",
      "[6]\tvalidation-rmse:11.32849\n",
      "[7]\tvalidation-rmse:10.93782\n",
      "[8]\tvalidation-rmse:10.56450\n",
      "[9]\tvalidation-rmse:10.20375\n",
      "10.203745282266208\n",
      "[22:16:03] WARNING: D:\\bld\\xgboost-split_1700181111005\\work\\src\\learner.cc:767: \n",
      "Parameters: { \"verbose\" } are not used.\n",
      "\n",
      "[0]\tvalidation-rmse:14.08072\n",
      "[1]\tvalidation-rmse:13.59777\n",
      "[2]\tvalidation-rmse:13.13816\n",
      "[3]\tvalidation-rmse:12.69372\n",
      "[4]\tvalidation-rmse:12.26389\n",
      "[5]\tvalidation-rmse:11.84754\n",
      "[6]\tvalidation-rmse:11.44945\n",
      "[7]\tvalidation-rmse:11.06234\n",
      "[8]\tvalidation-rmse:10.69342\n",
      "[9]\tvalidation-rmse:10.33395\n",
      "10.33395014689389\n"
     ]
    },
    {
     "name": "stderr",
     "output_type": "stream",
     "text": [
      "d:\\anaconda3\\envs\\F30\\Lib\\site-packages\\xgboost\\data.py:312: FutureWarning: is_sparse is deprecated and will be removed in a future version. Check `isinstance(dtype, pd.SparseDtype)` instead.\n",
      "  if is_sparse(dtype):\n",
      "d:\\anaconda3\\envs\\F30\\Lib\\site-packages\\xgboost\\data.py:314: FutureWarning: is_categorical_dtype is deprecated and will be removed in a future version. Use isinstance(dtype, CategoricalDtype) instead\n",
      "  elif is_categorical_dtype(dtype) and enable_categorical:\n",
      "d:\\anaconda3\\envs\\F30\\Lib\\site-packages\\xgboost\\data.py:345: FutureWarning: is_categorical_dtype is deprecated and will be removed in a future version. Use isinstance(dtype, CategoricalDtype) instead\n",
      "  if is_categorical_dtype(dtype)\n",
      "d:\\anaconda3\\envs\\F30\\Lib\\site-packages\\xgboost\\data.py:336: FutureWarning: is_categorical_dtype is deprecated and will be removed in a future version. Use isinstance(dtype, CategoricalDtype) instead\n",
      "  return is_int or is_bool or is_float or is_categorical_dtype(dtype)\n",
      "d:\\anaconda3\\envs\\F30\\Lib\\site-packages\\xgboost\\data.py:440: FutureWarning: is_sparse is deprecated and will be removed in a future version. Check `isinstance(dtype, pd.SparseDtype)` instead.\n",
      "  if is_sparse(data):\n",
      "d:\\anaconda3\\envs\\F30\\Lib\\site-packages\\xgboost\\data.py:312: FutureWarning: is_sparse is deprecated and will be removed in a future version. Check `isinstance(dtype, pd.SparseDtype)` instead.\n",
      "  if is_sparse(dtype):\n",
      "d:\\anaconda3\\envs\\F30\\Lib\\site-packages\\xgboost\\data.py:314: FutureWarning: is_categorical_dtype is deprecated and will be removed in a future version. Use isinstance(dtype, CategoricalDtype) instead\n",
      "  elif is_categorical_dtype(dtype) and enable_categorical:\n",
      "d:\\anaconda3\\envs\\F30\\Lib\\site-packages\\xgboost\\data.py:345: FutureWarning: is_categorical_dtype is deprecated and will be removed in a future version. Use isinstance(dtype, CategoricalDtype) instead\n",
      "  if is_categorical_dtype(dtype)\n",
      "d:\\anaconda3\\envs\\F30\\Lib\\site-packages\\xgboost\\data.py:336: FutureWarning: is_categorical_dtype is deprecated and will be removed in a future version. Use isinstance(dtype, CategoricalDtype) instead\n",
      "  return is_int or is_bool or is_float or is_categorical_dtype(dtype)\n",
      "d:\\anaconda3\\envs\\F30\\Lib\\site-packages\\xgboost\\data.py:440: FutureWarning: is_sparse is deprecated and will be removed in a future version. Check `isinstance(dtype, pd.SparseDtype)` instead.\n",
      "  if is_sparse(data):\n",
      "d:\\anaconda3\\envs\\F30\\Lib\\site-packages\\xgboost\\data.py:312: FutureWarning: is_sparse is deprecated and will be removed in a future version. Check `isinstance(dtype, pd.SparseDtype)` instead.\n",
      "  if is_sparse(dtype):\n",
      "d:\\anaconda3\\envs\\F30\\Lib\\site-packages\\xgboost\\data.py:314: FutureWarning: is_categorical_dtype is deprecated and will be removed in a future version. Use isinstance(dtype, CategoricalDtype) instead\n",
      "  elif is_categorical_dtype(dtype) and enable_categorical:\n",
      "d:\\anaconda3\\envs\\F30\\Lib\\site-packages\\xgboost\\data.py:345: FutureWarning: is_categorical_dtype is deprecated and will be removed in a future version. Use isinstance(dtype, CategoricalDtype) instead\n",
      "  if is_categorical_dtype(dtype)\n",
      "d:\\anaconda3\\envs\\F30\\Lib\\site-packages\\xgboost\\data.py:336: FutureWarning: is_categorical_dtype is deprecated and will be removed in a future version. Use isinstance(dtype, CategoricalDtype) instead\n",
      "  return is_int or is_bool or is_float or is_categorical_dtype(dtype)\n",
      "d:\\anaconda3\\envs\\F30\\Lib\\site-packages\\xgboost\\data.py:440: FutureWarning: is_sparse is deprecated and will be removed in a future version. Check `isinstance(dtype, pd.SparseDtype)` instead.\n",
      "  if is_sparse(data):\n",
      "d:\\anaconda3\\envs\\F30\\Lib\\site-packages\\xgboost\\data.py:312: FutureWarning: is_sparse is deprecated and will be removed in a future version. Check `isinstance(dtype, pd.SparseDtype)` instead.\n",
      "  if is_sparse(dtype):\n",
      "d:\\anaconda3\\envs\\F30\\Lib\\site-packages\\xgboost\\data.py:314: FutureWarning: is_categorical_dtype is deprecated and will be removed in a future version. Use isinstance(dtype, CategoricalDtype) instead\n",
      "  elif is_categorical_dtype(dtype) and enable_categorical:\n",
      "d:\\anaconda3\\envs\\F30\\Lib\\site-packages\\xgboost\\data.py:345: FutureWarning: is_categorical_dtype is deprecated and will be removed in a future version. Use isinstance(dtype, CategoricalDtype) instead\n",
      "  if is_categorical_dtype(dtype)\n",
      "d:\\anaconda3\\envs\\F30\\Lib\\site-packages\\xgboost\\data.py:336: FutureWarning: is_categorical_dtype is deprecated and will be removed in a future version. Use isinstance(dtype, CategoricalDtype) instead\n",
      "  return is_int or is_bool or is_float or is_categorical_dtype(dtype)\n",
      "d:\\anaconda3\\envs\\F30\\Lib\\site-packages\\xgboost\\data.py:440: FutureWarning: is_sparse is deprecated and will be removed in a future version. Check `isinstance(dtype, pd.SparseDtype)` instead.\n",
      "  if is_sparse(data):\n"
     ]
    }
   ],
   "source": [
    "# xgboost\n",
    "# set the parameters for the xgb model\n",
    "param = {'objective': 'reg:squarederror', \n",
    "              'eta': 0.035, \n",
    "              'max_depth': 17, \n",
    "              'subsample': 0.6, \n",
    "              'colsample_bytree': 0.7,  \n",
    "              'eval_metric': 'rmse', \n",
    "              'verbose': False\n",
    "}\n",
    "# train the xgb model\n",
    "xgb_model_error = []\n",
    "xgb_prediction = []\n",
    "for train_index, val_index in kf.split(error_train):\n",
    "    X_train, X_val = error_train.iloc[train_index][feature_regression], error_train.iloc[val_index][feature_regression]\n",
    "    y_train, y_val = error_train.iloc[train_index][target], error_train.iloc[val_index][target]\n",
    "    train_data = xgb.DMatrix(X_train, label=y_train)\n",
    "    val_data = xgb.DMatrix(X_val, label=y_val)\n",
    "    xgb_model = xgb.train(param, train_data, evals=[(val_data, 'validation')])\n",
    "    xgb_model_error.append(xgb_model)\n",
    "    # evaluate the model\n",
    "    y_pred = xgb_model.predict(val_data)\n",
    "    xgb_prediction.append(y_pred)\n",
    "    # calculate the loss\n",
    "    loss = np.sqrt(sum((y_pred - y_val) ** 2) / len(y_val))\n",
    "    print(loss)\n"
   ]
  },
  {
   "cell_type": "code",
   "execution_count": 238,
   "metadata": {},
   "outputs": [
    {
     "name": "stdout",
     "output_type": "stream",
     "text": [
      "1.7533005437590408\n",
      "1.7181649597227462\n",
      "2.002453464092789\n",
      "1.5251076394618415\n",
      "1.5766780340481517\n"
     ]
    }
   ],
   "source": [
    "# catboost\n",
    "# set the parameters for the cat model\n",
    "param = {'iterations' : 2000,\n",
    "        'learning_rate':0.07,\n",
    "        'depth':12,\n",
    "        'eval_metric':'RMSE',\n",
    "        'colsample_bylevel':0.8,\n",
    "        'bagging_temperature' : 0.4,\n",
    "        'metric_period' : None,\n",
    "        'early_stopping_rounds':200,\n",
    "        'verbose': False\n",
    "}\n",
    "# train the cat model\n",
    "cat_model_error = []\n",
    "cat_prediction = []\n",
    "for train_index, val_index in kf.split(error_train):\n",
    "    X_train, X_val = error_train.iloc[train_index][feature_regression], error_train.iloc[val_index][feature_regression]\n",
    "    y_train, y_val = error_train.iloc[train_index][target], error_train.iloc[val_index][target]\n",
    "    train_data = cat.Pool(X_train, label=y_train)\n",
    "    val_data = cat.Pool(X_val, label=y_val)\n",
    "    cat_model = cat.CatBoostRegressor(**param)\n",
    "    cat_model.fit(train_data, eval_set=val_data)\n",
    "    cat_model_error.append(cat_model)\n",
    "    # evaluate the model\n",
    "    y_pred = cat_model.predict(val_data)\n",
    "    cat_prediction.append(y_pred)\n",
    "    # calculate the loss\n",
    "    loss = np.sqrt(sum((y_pred - y_val) ** 2) / len(y_val))\n",
    "    print(loss)\n",
    "    "
   ]
  },
  {
   "cell_type": "markdown",
   "metadata": {},
   "source": [
    "To combine these 3 types of models, we use linear regression to find the best weight."
   ]
  },
  {
   "cell_type": "code",
   "execution_count": 239,
   "metadata": {},
   "outputs": [
    {
     "name": "stderr",
     "output_type": "stream",
     "text": [
      "d:\\anaconda3\\envs\\F30\\Lib\\site-packages\\xgboost\\data.py:312: FutureWarning: is_sparse is deprecated and will be removed in a future version. Check `isinstance(dtype, pd.SparseDtype)` instead.\n",
      "  if is_sparse(dtype):\n",
      "d:\\anaconda3\\envs\\F30\\Lib\\site-packages\\xgboost\\data.py:314: FutureWarning: is_categorical_dtype is deprecated and will be removed in a future version. Use isinstance(dtype, CategoricalDtype) instead\n",
      "  elif is_categorical_dtype(dtype) and enable_categorical:\n",
      "d:\\anaconda3\\envs\\F30\\Lib\\site-packages\\xgboost\\data.py:345: FutureWarning: is_categorical_dtype is deprecated and will be removed in a future version. Use isinstance(dtype, CategoricalDtype) instead\n",
      "  if is_categorical_dtype(dtype)\n",
      "d:\\anaconda3\\envs\\F30\\Lib\\site-packages\\xgboost\\data.py:336: FutureWarning: is_categorical_dtype is deprecated and will be removed in a future version. Use isinstance(dtype, CategoricalDtype) instead\n",
      "  return is_int or is_bool or is_float or is_categorical_dtype(dtype)\n"
     ]
    },
    {
     "data": {
      "text/html": [
       "<style>#sk-container-id-10 {color: black;}#sk-container-id-10 pre{padding: 0;}#sk-container-id-10 div.sk-toggleable {background-color: white;}#sk-container-id-10 label.sk-toggleable__label {cursor: pointer;display: block;width: 100%;margin-bottom: 0;padding: 0.3em;box-sizing: border-box;text-align: center;}#sk-container-id-10 label.sk-toggleable__label-arrow:before {content: \"▸\";float: left;margin-right: 0.25em;color: #696969;}#sk-container-id-10 label.sk-toggleable__label-arrow:hover:before {color: black;}#sk-container-id-10 div.sk-estimator:hover label.sk-toggleable__label-arrow:before {color: black;}#sk-container-id-10 div.sk-toggleable__content {max-height: 0;max-width: 0;overflow: hidden;text-align: left;background-color: #f0f8ff;}#sk-container-id-10 div.sk-toggleable__content pre {margin: 0.2em;color: black;border-radius: 0.25em;background-color: #f0f8ff;}#sk-container-id-10 input.sk-toggleable__control:checked~div.sk-toggleable__content {max-height: 200px;max-width: 100%;overflow: auto;}#sk-container-id-10 input.sk-toggleable__control:checked~label.sk-toggleable__label-arrow:before {content: \"▾\";}#sk-container-id-10 div.sk-estimator input.sk-toggleable__control:checked~label.sk-toggleable__label {background-color: #d4ebff;}#sk-container-id-10 div.sk-label input.sk-toggleable__control:checked~label.sk-toggleable__label {background-color: #d4ebff;}#sk-container-id-10 input.sk-hidden--visually {border: 0;clip: rect(1px 1px 1px 1px);clip: rect(1px, 1px, 1px, 1px);height: 1px;margin: -1px;overflow: hidden;padding: 0;position: absolute;width: 1px;}#sk-container-id-10 div.sk-estimator {font-family: monospace;background-color: #f0f8ff;border: 1px dotted black;border-radius: 0.25em;box-sizing: border-box;margin-bottom: 0.5em;}#sk-container-id-10 div.sk-estimator:hover {background-color: #d4ebff;}#sk-container-id-10 div.sk-parallel-item::after {content: \"\";width: 100%;border-bottom: 1px solid gray;flex-grow: 1;}#sk-container-id-10 div.sk-label:hover label.sk-toggleable__label {background-color: #d4ebff;}#sk-container-id-10 div.sk-serial::before {content: \"\";position: absolute;border-left: 1px solid gray;box-sizing: border-box;top: 0;bottom: 0;left: 50%;z-index: 0;}#sk-container-id-10 div.sk-serial {display: flex;flex-direction: column;align-items: center;background-color: white;padding-right: 0.2em;padding-left: 0.2em;position: relative;}#sk-container-id-10 div.sk-item {position: relative;z-index: 1;}#sk-container-id-10 div.sk-parallel {display: flex;align-items: stretch;justify-content: center;background-color: white;position: relative;}#sk-container-id-10 div.sk-item::before, #sk-container-id-10 div.sk-parallel-item::before {content: \"\";position: absolute;border-left: 1px solid gray;box-sizing: border-box;top: 0;bottom: 0;left: 50%;z-index: -1;}#sk-container-id-10 div.sk-parallel-item {display: flex;flex-direction: column;z-index: 1;position: relative;background-color: white;}#sk-container-id-10 div.sk-parallel-item:first-child::after {align-self: flex-end;width: 50%;}#sk-container-id-10 div.sk-parallel-item:last-child::after {align-self: flex-start;width: 50%;}#sk-container-id-10 div.sk-parallel-item:only-child::after {width: 0;}#sk-container-id-10 div.sk-dashed-wrapped {border: 1px dashed gray;margin: 0 0.4em 0.5em 0.4em;box-sizing: border-box;padding-bottom: 0.4em;background-color: white;}#sk-container-id-10 div.sk-label label {font-family: monospace;font-weight: bold;display: inline-block;line-height: 1.2em;}#sk-container-id-10 div.sk-label-container {text-align: center;}#sk-container-id-10 div.sk-container {/* jupyter's `normalize.less` sets `[hidden] { display: none; }` but bootstrap.min.css set `[hidden] { display: none !important; }` so we also need the `!important` here to be able to override the default hidden behavior on the sphinx rendered scikit-learn.org. See: https://github.com/scikit-learn/scikit-learn/issues/21755 */display: inline-block !important;position: relative;}#sk-container-id-10 div.sk-text-repr-fallback {display: none;}</style><div id=\"sk-container-id-10\" class=\"sk-top-container\"><div class=\"sk-text-repr-fallback\"><pre>LinearRegression()</pre><b>In a Jupyter environment, please rerun this cell to show the HTML representation or trust the notebook. <br />On GitHub, the HTML representation is unable to render, please try loading this page with nbviewer.org.</b></div><div class=\"sk-container\" hidden><div class=\"sk-item\"><div class=\"sk-estimator sk-toggleable\"><input class=\"sk-toggleable__control sk-hidden--visually\" id=\"sk-estimator-id-10\" type=\"checkbox\" checked><label for=\"sk-estimator-id-10\" class=\"sk-toggleable__label sk-toggleable__label-arrow\">LinearRegression</label><div class=\"sk-toggleable__content\"><pre>LinearRegression()</pre></div></div></div></div></div>"
      ],
      "text/plain": [
       "LinearRegression()"
      ]
     },
     "execution_count": 239,
     "metadata": {},
     "output_type": "execute_result"
    }
   ],
   "source": [
    "# train a linear regression model to adjust the prediction of the three models\n",
    "\n",
    "lgb_train = prediction(lgb_model_error, error_train[feature_regression])\n",
    "# data = xgb.DMatrix(error_train[feature_regression], label=error_train[target])\n",
    "xgb_train = prediction(xgb_model_error, xgb.DMatrix(error_train[feature_regression]))\n",
    "cat_train = prediction(cat_model_error, cat.Pool(error_train[feature_regression]))\n",
    "\n",
    "# combine the prediction of the three models\n",
    "train_pred = np.array([lgb_train, xgb_train, cat_train])\n",
    "train_pred = np.transpose(train_pred)\n",
    "# train a linear regression model\n",
    "lr_error = LinearRegression()\n",
    "lr_error.fit(train_pred, error_train[target])\n"
   ]
  },
  {
   "cell_type": "markdown",
   "metadata": {},
   "source": [
    "### Prediction"
   ]
  },
  {
   "cell_type": "markdown",
   "metadata": {},
   "source": [
    "In this part, we will use model for error-free data and model for error data to predict."
   ]
  },
  {
   "cell_type": "code",
   "execution_count": 240,
   "metadata": {},
   "outputs": [
    {
     "name": "stdout",
     "output_type": "stream",
     "text": [
      "[ 1.01501282 -0.67925275  0.21011411]\n",
      "[ 0.92621608 -0.80338887  0.29692235]\n"
     ]
    }
   ],
   "source": [
    "# print the coefficients of the linear regression model for the error set and non-error set\n",
    "print(lr_error.coef_)\n",
    "print(lr_non_error.coef_)"
   ]
  },
  {
   "cell_type": "markdown",
   "metadata": {},
   "source": [
    "Based on the kaggle score, we find that the predict result of linear regression combination is not satisfing. So we set the coefficient by ourselves."
   ]
  },
  {
   "cell_type": "code",
   "execution_count": 241,
   "metadata": {},
   "outputs": [
    {
     "name": "stderr",
     "output_type": "stream",
     "text": [
      "d:\\anaconda3\\envs\\F30\\Lib\\site-packages\\xgboost\\data.py:312: FutureWarning: is_sparse is deprecated and will be removed in a future version. Check `isinstance(dtype, pd.SparseDtype)` instead.\n",
      "  if is_sparse(dtype):\n",
      "d:\\anaconda3\\envs\\F30\\Lib\\site-packages\\xgboost\\data.py:314: FutureWarning: is_categorical_dtype is deprecated and will be removed in a future version. Use isinstance(dtype, CategoricalDtype) instead\n",
      "  elif is_categorical_dtype(dtype) and enable_categorical:\n",
      "d:\\anaconda3\\envs\\F30\\Lib\\site-packages\\xgboost\\data.py:345: FutureWarning: is_categorical_dtype is deprecated and will be removed in a future version. Use isinstance(dtype, CategoricalDtype) instead\n",
      "  if is_categorical_dtype(dtype)\n",
      "d:\\anaconda3\\envs\\F30\\Lib\\site-packages\\xgboost\\data.py:336: FutureWarning: is_categorical_dtype is deprecated and will be removed in a future version. Use isinstance(dtype, CategoricalDtype) instead\n",
      "  return is_int or is_bool or is_float or is_categorical_dtype(dtype)\n",
      "C:\\Users\\zjy\\AppData\\Local\\Temp\\ipykernel_28936\\2110619882.py:20: SettingWithCopyWarning: \n",
      "A value is trying to be set on a copy of a slice from a DataFrame.\n",
      "Try using .loc[row_indexer,col_indexer] = value instead\n",
      "\n",
      "See the caveats in the documentation: https://pandas.pydata.org/pandas-docs/stable/user_guide/indexing.html#returning-a-view-versus-a-copy\n",
      "  non_error_test['revenue'] = np.expm1(y_pred)\n",
      "d:\\anaconda3\\envs\\F30\\Lib\\site-packages\\xgboost\\data.py:312: FutureWarning: is_sparse is deprecated and will be removed in a future version. Check `isinstance(dtype, pd.SparseDtype)` instead.\n",
      "  if is_sparse(dtype):\n",
      "d:\\anaconda3\\envs\\F30\\Lib\\site-packages\\xgboost\\data.py:314: FutureWarning: is_categorical_dtype is deprecated and will be removed in a future version. Use isinstance(dtype, CategoricalDtype) instead\n",
      "  elif is_categorical_dtype(dtype) and enable_categorical:\n",
      "d:\\anaconda3\\envs\\F30\\Lib\\site-packages\\xgboost\\data.py:345: FutureWarning: is_categorical_dtype is deprecated and will be removed in a future version. Use isinstance(dtype, CategoricalDtype) instead\n",
      "  if is_categorical_dtype(dtype)\n",
      "d:\\anaconda3\\envs\\F30\\Lib\\site-packages\\xgboost\\data.py:336: FutureWarning: is_categorical_dtype is deprecated and will be removed in a future version. Use isinstance(dtype, CategoricalDtype) instead\n",
      "  return is_int or is_bool or is_float or is_categorical_dtype(dtype)\n"
     ]
    },
    {
     "name": "stdout",
     "output_type": "stream",
     "text": [
      "(3153, 84)\n"
     ]
    },
    {
     "name": "stderr",
     "output_type": "stream",
     "text": [
      "C:\\Users\\zjy\\AppData\\Local\\Temp\\ipykernel_28936\\2110619882.py:34: SettingWithCopyWarning: \n",
      "A value is trying to be set on a copy of a slice from a DataFrame.\n",
      "Try using .loc[row_indexer,col_indexer] = value instead\n",
      "\n",
      "See the caveats in the documentation: https://pandas.pydata.org/pandas-docs/stable/user_guide/indexing.html#returning-a-view-versus-a-copy\n",
      "  error_test['revenue'] = np.expm1(y_pred)\n"
     ]
    }
   ],
   "source": [
    "#lgb: 2.18553\n",
    "#xgb: 11.08401\n",
    "#cat: 2.17609\n",
    "coef = [0.45, 0, 0.55]\n",
    "#Because of the poor performance of the xgboost model, we give it a 0 weight\n",
    "\n",
    "# predict the non-error set using the three models\n",
    "lgb_non_error = prediction(lgb_model_non_error, non_error_test[feature_regression])\n",
    "xgb_non_error = prediction(xgb_model_non_error, xgb.DMatrix(non_error_test[feature_regression]))\n",
    "cat_non_error = prediction(cat_model_non_error, cat.Pool(non_error_test[feature_regression]))\n",
    "\n",
    "# predict the non-error set using the linear regression model\n",
    "#y_pred = np.mean([lgb_non_error, xgb_non_error, cat_non_error], axis=0)\n",
    "#y_pred = lr_non_error.predict(np.array([lgb_non_error, xgb_non_error, cat_non_error]).T)\n",
    "\n",
    "# use the coefficients calculated above to adjust the prediction\n",
    "y_pred = np.dot(np.array([lgb_non_error, xgb_non_error, cat_non_error]).T, coef)\n",
    "\n",
    "\n",
    "non_error_test['revenue'] = np.expm1(y_pred)\n",
    "\n",
    "print(non_error_test.shape)\n",
    "# predict the error set using the three models\n",
    "lgb_error = prediction(lgb_model_error, error_test[feature_regression])\n",
    "xgb_error = prediction(xgb_model_error, xgb.DMatrix(error_test[feature_regression]))\n",
    "cat_error = prediction(cat_model_error, cat.Pool(error_test[feature_regression]))\n",
    "\n",
    "# predict the error set using the linear regression model\n",
    "#y_pred = lr_error.predict(np.array([lgb_error, xgb_error, cat_error]).T)\n",
    "\n",
    "# use the coefficients calculated above to adjust the prediction\n",
    "y_pred = np.dot(np.array([lgb_error, xgb_error, cat_error]).T, coef)\n",
    "\n",
    "error_test['revenue'] = np.expm1(y_pred)"
   ]
  },
  {
   "cell_type": "code",
   "execution_count": 242,
   "metadata": {},
   "outputs": [
    {
     "data": {
      "text/html": [
       "<div>\n",
       "<style scoped>\n",
       "    .dataframe tbody tr th:only-of-type {\n",
       "        vertical-align: middle;\n",
       "    }\n",
       "\n",
       "    .dataframe tbody tr th {\n",
       "        vertical-align: top;\n",
       "    }\n",
       "\n",
       "    .dataframe thead th {\n",
       "        text-align: right;\n",
       "    }\n",
       "</style>\n",
       "<table border=\"1\" class=\"dataframe\">\n",
       "  <thead>\n",
       "    <tr style=\"text-align: right;\">\n",
       "      <th></th>\n",
       "      <th>Unnamed: 0</th>\n",
       "      <th>imdb_id</th>\n",
       "      <th>id</th>\n",
       "      <th>belongs_to_collection</th>\n",
       "      <th>original_budget</th>\n",
       "      <th>budget_processed</th>\n",
       "      <th>genre_rank</th>\n",
       "      <th>num_genres</th>\n",
       "      <th>has_homepage</th>\n",
       "      <th>originally_english</th>\n",
       "      <th>...</th>\n",
       "      <th>month</th>\n",
       "      <th>year</th>\n",
       "      <th>day_of_week</th>\n",
       "      <th>week_of_year</th>\n",
       "      <th>log_budget</th>\n",
       "      <th>_budget_runtime_ratio</th>\n",
       "      <th>_budget_popularity_ratio</th>\n",
       "      <th>day</th>\n",
       "      <th>log_budget_p</th>\n",
       "      <th>error</th>\n",
       "    </tr>\n",
       "  </thead>\n",
       "  <tbody>\n",
       "    <tr>\n",
       "      <th>0</th>\n",
       "      <td>0</td>\n",
       "      <td>tt1226251</td>\n",
       "      <td>3001</td>\n",
       "      <td>1</td>\n",
       "      <td>0</td>\n",
       "      <td>1.200000e+07</td>\n",
       "      <td>17.25</td>\n",
       "      <td>4</td>\n",
       "      <td>1</td>\n",
       "      <td>0</td>\n",
       "      <td>...</td>\n",
       "      <td>7</td>\n",
       "      <td>2007</td>\n",
       "      <td>6</td>\n",
       "      <td>28</td>\n",
       "      <td>0.000000</td>\n",
       "      <td>133333.333333</td>\n",
       "      <td>3.115642e+06</td>\n",
       "      <td>14</td>\n",
       "      <td>16.300417</td>\n",
       "      <td>1.0</td>\n",
       "    </tr>\n",
       "    <tr>\n",
       "      <th>2</th>\n",
       "      <td>2</td>\n",
       "      <td>tt0118556</td>\n",
       "      <td>3003</td>\n",
       "      <td>0</td>\n",
       "      <td>0</td>\n",
       "      <td>4.818003e+07</td>\n",
       "      <td>9.50</td>\n",
       "      <td>2</td>\n",
       "      <td>0</td>\n",
       "      <td>1</td>\n",
       "      <td>...</td>\n",
       "      <td>5</td>\n",
       "      <td>1997</td>\n",
       "      <td>5</td>\n",
       "      <td>21</td>\n",
       "      <td>0.000000</td>\n",
       "      <td>481800.291700</td>\n",
       "      <td>5.959044e+06</td>\n",
       "      <td>23</td>\n",
       "      <td>17.690455</td>\n",
       "      <td>1.0</td>\n",
       "    </tr>\n",
       "    <tr>\n",
       "      <th>5</th>\n",
       "      <td>5</td>\n",
       "      <td>tt0120238</td>\n",
       "      <td>3006</td>\n",
       "      <td>0</td>\n",
       "      <td>0</td>\n",
       "      <td>2.882751e+07</td>\n",
       "      <td>7.50</td>\n",
       "      <td>2</td>\n",
       "      <td>0</td>\n",
       "      <td>1</td>\n",
       "      <td>...</td>\n",
       "      <td>2</td>\n",
       "      <td>1996</td>\n",
       "      <td>3</td>\n",
       "      <td>6</td>\n",
       "      <td>0.000000</td>\n",
       "      <td>238243.869835</td>\n",
       "      <td>3.321390e+06</td>\n",
       "      <td>7</td>\n",
       "      <td>17.176841</td>\n",
       "      <td>1.0</td>\n",
       "    </tr>\n",
       "    <tr>\n",
       "      <th>6</th>\n",
       "      <td>6</td>\n",
       "      <td>tt1517177</td>\n",
       "      <td>3007</td>\n",
       "      <td>0</td>\n",
       "      <td>0</td>\n",
       "      <td>5.775155e+07</td>\n",
       "      <td>8.00</td>\n",
       "      <td>3</td>\n",
       "      <td>0</td>\n",
       "      <td>0</td>\n",
       "      <td>...</td>\n",
       "      <td>12</td>\n",
       "      <td>2010</td>\n",
       "      <td>4</td>\n",
       "      <td>51</td>\n",
       "      <td>0.000000</td>\n",
       "      <td>485307.107143</td>\n",
       "      <td>1.178872e+07</td>\n",
       "      <td>23</td>\n",
       "      <td>17.871661</td>\n",
       "      <td>1.0</td>\n",
       "    </tr>\n",
       "    <tr>\n",
       "      <th>11</th>\n",
       "      <td>11</td>\n",
       "      <td>tt3655522</td>\n",
       "      <td>3012</td>\n",
       "      <td>0</td>\n",
       "      <td>0</td>\n",
       "      <td>5.140572e+06</td>\n",
       "      <td>5.00</td>\n",
       "      <td>1</td>\n",
       "      <td>0</td>\n",
       "      <td>0</td>\n",
       "      <td>...</td>\n",
       "      <td>6</td>\n",
       "      <td>2014</td>\n",
       "      <td>5</td>\n",
       "      <td>26</td>\n",
       "      <td>0.000000</td>\n",
       "      <td>45897.967634</td>\n",
       "      <td>1.218053e+06</td>\n",
       "      <td>27</td>\n",
       "      <td>15.452675</td>\n",
       "      <td>1.0</td>\n",
       "    </tr>\n",
       "    <tr>\n",
       "      <th>...</th>\n",
       "      <td>...</td>\n",
       "      <td>...</td>\n",
       "      <td>...</td>\n",
       "      <td>...</td>\n",
       "      <td>...</td>\n",
       "      <td>...</td>\n",
       "      <td>...</td>\n",
       "      <td>...</td>\n",
       "      <td>...</td>\n",
       "      <td>...</td>\n",
       "      <td>...</td>\n",
       "      <td>...</td>\n",
       "      <td>...</td>\n",
       "      <td>...</td>\n",
       "      <td>...</td>\n",
       "      <td>...</td>\n",
       "      <td>...</td>\n",
       "      <td>...</td>\n",
       "      <td>...</td>\n",
       "      <td>...</td>\n",
       "      <td>...</td>\n",
       "    </tr>\n",
       "    <tr>\n",
       "      <th>4393</th>\n",
       "      <td>4393</td>\n",
       "      <td>tt0218922</td>\n",
       "      <td>7394</td>\n",
       "      <td>0</td>\n",
       "      <td>42000000</td>\n",
       "      <td>4.200000e+07</td>\n",
       "      <td>8.00</td>\n",
       "      <td>1</td>\n",
       "      <td>0</td>\n",
       "      <td>1</td>\n",
       "      <td>...</td>\n",
       "      <td>3</td>\n",
       "      <td>2008</td>\n",
       "      <td>6</td>\n",
       "      <td>9</td>\n",
       "      <td>17.553180</td>\n",
       "      <td>355932.203390</td>\n",
       "      <td>4.212486e+06</td>\n",
       "      <td>1</td>\n",
       "      <td>17.553180</td>\n",
       "      <td>0.0</td>\n",
       "    </tr>\n",
       "    <tr>\n",
       "      <th>4394</th>\n",
       "      <td>4394</td>\n",
       "      <td>tt0364751</td>\n",
       "      <td>7395</td>\n",
       "      <td>1</td>\n",
       "      <td>19000000</td>\n",
       "      <td>1.900000e+07</td>\n",
       "      <td>12.75</td>\n",
       "      <td>4</td>\n",
       "      <td>0</td>\n",
       "      <td>1</td>\n",
       "      <td>...</td>\n",
       "      <td>8</td>\n",
       "      <td>2004</td>\n",
       "      <td>5</td>\n",
       "      <td>34</td>\n",
       "      <td>16.759950</td>\n",
       "      <td>200000.000000</td>\n",
       "      <td>3.142305e+06</td>\n",
       "      <td>20</td>\n",
       "      <td>16.759950</td>\n",
       "      <td>0.0</td>\n",
       "    </tr>\n",
       "    <tr>\n",
       "      <th>4395</th>\n",
       "      <td>4395</td>\n",
       "      <td>tt0084855</td>\n",
       "      <td>7396</td>\n",
       "      <td>0</td>\n",
       "      <td>16000000</td>\n",
       "      <td>1.600000e+07</td>\n",
       "      <td>5.00</td>\n",
       "      <td>1</td>\n",
       "      <td>0</td>\n",
       "      <td>1</td>\n",
       "      <td>...</td>\n",
       "      <td>12</td>\n",
       "      <td>1982</td>\n",
       "      <td>3</td>\n",
       "      <td>49</td>\n",
       "      <td>16.588099</td>\n",
       "      <td>124031.007752</td>\n",
       "      <td>1.667208e+06</td>\n",
       "      <td>8</td>\n",
       "      <td>16.588099</td>\n",
       "      <td>0.0</td>\n",
       "    </tr>\n",
       "    <tr>\n",
       "      <th>4396</th>\n",
       "      <td>4396</td>\n",
       "      <td>tt3235888</td>\n",
       "      <td>7397</td>\n",
       "      <td>0</td>\n",
       "      <td>2000000</td>\n",
       "      <td>2.000000e+06</td>\n",
       "      <td>7.50</td>\n",
       "      <td>2</td>\n",
       "      <td>0</td>\n",
       "      <td>1</td>\n",
       "      <td>...</td>\n",
       "      <td>4</td>\n",
       "      <td>2002</td>\n",
       "      <td>1</td>\n",
       "      <td>16</td>\n",
       "      <td>14.508658</td>\n",
       "      <td>20000.000000</td>\n",
       "      <td>9.823503e+04</td>\n",
       "      <td>15</td>\n",
       "      <td>14.508658</td>\n",
       "      <td>0.0</td>\n",
       "    </tr>\n",
       "    <tr>\n",
       "      <th>4397</th>\n",
       "      <td>4397</td>\n",
       "      <td>tt0056663</td>\n",
       "      <td>7398</td>\n",
       "      <td>0</td>\n",
       "      <td>64000</td>\n",
       "      <td>6.400000e+04</td>\n",
       "      <td>5.00</td>\n",
       "      <td>1</td>\n",
       "      <td>0</td>\n",
       "      <td>0</td>\n",
       "      <td>...</td>\n",
       "      <td>9</td>\n",
       "      <td>2062</td>\n",
       "      <td>3</td>\n",
       "      <td>38</td>\n",
       "      <td>11.066654</td>\n",
       "      <td>752.941176</td>\n",
       "      <td>5.660756e+03</td>\n",
       "      <td>20</td>\n",
       "      <td>11.066654</td>\n",
       "      <td>0.0</td>\n",
       "    </tr>\n",
       "  </tbody>\n",
       "</table>\n",
       "<p>4398 rows × 84 columns</p>\n",
       "</div>"
      ],
      "text/plain": [
       "      Unnamed: 0    imdb_id    id  belongs_to_collection  original_budget  \\\n",
       "0              0  tt1226251  3001                      1                0   \n",
       "2              2  tt0118556  3003                      0                0   \n",
       "5              5  tt0120238  3006                      0                0   \n",
       "6              6  tt1517177  3007                      0                0   \n",
       "11            11  tt3655522  3012                      0                0   \n",
       "...          ...        ...   ...                    ...              ...   \n",
       "4393        4393  tt0218922  7394                      0         42000000   \n",
       "4394        4394  tt0364751  7395                      1         19000000   \n",
       "4395        4395  tt0084855  7396                      0         16000000   \n",
       "4396        4396  tt3235888  7397                      0          2000000   \n",
       "4397        4397  tt0056663  7398                      0            64000   \n",
       "\n",
       "      budget_processed  genre_rank  num_genres  has_homepage  \\\n",
       "0         1.200000e+07       17.25           4             1   \n",
       "2         4.818003e+07        9.50           2             0   \n",
       "5         2.882751e+07        7.50           2             0   \n",
       "6         5.775155e+07        8.00           3             0   \n",
       "11        5.140572e+06        5.00           1             0   \n",
       "...                ...         ...         ...           ...   \n",
       "4393      4.200000e+07        8.00           1             0   \n",
       "4394      1.900000e+07       12.75           4             0   \n",
       "4395      1.600000e+07        5.00           1             0   \n",
       "4396      2.000000e+06        7.50           2             0   \n",
       "4397      6.400000e+04        5.00           1             0   \n",
       "\n",
       "      originally_english  ...  month  year  day_of_week  week_of_year  \\\n",
       "0                      0  ...      7  2007            6            28   \n",
       "2                      1  ...      5  1997            5            21   \n",
       "5                      1  ...      2  1996            3             6   \n",
       "6                      0  ...     12  2010            4            51   \n",
       "11                     0  ...      6  2014            5            26   \n",
       "...                  ...  ...    ...   ...          ...           ...   \n",
       "4393                   1  ...      3  2008            6             9   \n",
       "4394                   1  ...      8  2004            5            34   \n",
       "4395                   1  ...     12  1982            3            49   \n",
       "4396                   1  ...      4  2002            1            16   \n",
       "4397                   0  ...      9  2062            3            38   \n",
       "\n",
       "      log_budget  _budget_runtime_ratio  _budget_popularity_ratio  day  \\\n",
       "0       0.000000          133333.333333              3.115642e+06   14   \n",
       "2       0.000000          481800.291700              5.959044e+06   23   \n",
       "5       0.000000          238243.869835              3.321390e+06    7   \n",
       "6       0.000000          485307.107143              1.178872e+07   23   \n",
       "11      0.000000           45897.967634              1.218053e+06   27   \n",
       "...          ...                    ...                       ...  ...   \n",
       "4393   17.553180          355932.203390              4.212486e+06    1   \n",
       "4394   16.759950          200000.000000              3.142305e+06   20   \n",
       "4395   16.588099          124031.007752              1.667208e+06    8   \n",
       "4396   14.508658           20000.000000              9.823503e+04   15   \n",
       "4397   11.066654             752.941176              5.660756e+03   20   \n",
       "\n",
       "     log_budget_p  error  \n",
       "0       16.300417    1.0  \n",
       "2       17.690455    1.0  \n",
       "5       17.176841    1.0  \n",
       "6       17.871661    1.0  \n",
       "11      15.452675    1.0  \n",
       "...           ...    ...  \n",
       "4393    17.553180    0.0  \n",
       "4394    16.759950    0.0  \n",
       "4395    16.588099    0.0  \n",
       "4396    14.508658    0.0  \n",
       "4397    11.066654    0.0  \n",
       "\n",
       "[4398 rows x 84 columns]"
      ]
     },
     "execution_count": 242,
     "metadata": {},
     "output_type": "execute_result"
    }
   ],
   "source": [
    "# combine the error and non-error set\n",
    "test = error_test._append(non_error_test, ignore_index=False)\n",
    "test"
   ]
  },
  {
   "cell_type": "code",
   "execution_count": 243,
   "metadata": {},
   "outputs": [],
   "source": [
    "df_LXC = pd.DataFrame()\n",
    "sub= ['id','revenue']\n",
    "df_LXC[sub]=test[sub]\n",
    "df_LXC.sort_values(by='id', inplace=True)\n",
    "df_LXC.to_csv(\"submission_LXC.csv\", index=False)\n",
    "# 2.16366"
   ]
  },
  {
   "cell_type": "markdown",
   "metadata": {},
   "source": [
    "# Aggregation"
   ]
  },
  {
   "cell_type": "code",
   "execution_count": 244,
   "metadata": {},
   "outputs": [],
   "source": [
    "# df_LR, df_RF, df_LXC\n",
    "# merge by id\n",
    "df_aggregate = pd.merge(df_LR, df_RF, on='id')\n",
    "df_aggregate = pd.merge(df_aggregate, df_LXC, on='id')\n",
    "\n",
    "# set the weight of each model\n",
    "weight = [1, -0.0004, 0.0004]\n",
    "\n",
    "# calculate the weighted average\n",
    "df_aggregate['revenue'] = weight[0] * df_aggregate['revenue_x'] + weight[1] * df_aggregate['revenue_y'] + weight[2] * df_aggregate['revenue']\n",
    "# drop the columns that are not needed\n",
    "df_aggregate = df_aggregate.drop(['revenue_x', 'revenue_y'], axis=1)\n",
    "\n",
    "# save the result\n",
    "df_aggregate.to_csv('submission_aggregate.csv', index=False)\n",
    "\n",
    "# 1.96185"
   ]
  }
 ],
 "metadata": {
  "kernelspec": {
   "display_name": "F30",
   "language": "python",
   "name": "python3"
  },
  "language_info": {
   "codemirror_mode": {
    "name": "ipython",
    "version": 3
   },
   "file_extension": ".py",
   "mimetype": "text/x-python",
   "name": "python",
   "nbconvert_exporter": "python",
   "pygments_lexer": "ipython3",
   "version": "3.11.6"
  }
 },
 "nbformat": 4,
 "nbformat_minor": 2
}
