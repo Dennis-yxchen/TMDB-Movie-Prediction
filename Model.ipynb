{
 "cells": [
  {
   "cell_type": "markdown",
   "metadata": {},
   "source": [
    "# Models"
   ]
  },
  {
   "cell_type": "markdown",
   "metadata": {},
   "source": [
    "Firstly, we need to import the libraries we will use."
   ]
  },
  {
   "cell_type": "code",
   "execution_count": 227,
   "metadata": {},
   "outputs": [],
   "source": [
    "import seaborn as sns\n",
    "import matplotlib.pyplot as plt\n",
    "import pandas as pd\n",
    "import numpy as np\n",
    "import lightgbm as lgb\n",
    "import xgboost as xgb\n",
    "import catboost as cat\n",
    "from sklearn.model_selection import KFold\n",
    "from sklearn.model_selection import train_test_split\n",
    "from sklearn.linear_model import LinearRegression\n",
    "from sklearn.model_selection import cross_val_score\n",
    "from sklearn.ensemble import RandomForestRegressor"
   ]
  },
  {
   "cell_type": "markdown",
   "metadata": {},
   "source": [
    "Secondly, we need to load the data."
   ]
  },
  {
   "cell_type": "code",
   "execution_count": 182,
   "metadata": {},
   "outputs": [],
   "source": [
    "train = pd.read_csv('train_engineered.csv')\n",
    "test = pd.read_csv('test_engineered.csv')"
   ]
  },
  {
   "cell_type": "code",
   "execution_count": 218,
   "metadata": {},
   "outputs": [],
   "source": [
    "train_engineered = pd.read_csv('train_engineered.csv')\n",
    "test_engineered = pd.read_csv('test_engineered.csv')\n",
    "train['log_budget']=np.log1p(train['original_budget'])\n",
    "test['log_budget']=np.log1p(test['original_budget'])\n",
    "train_engineered['log_budget'] = np.log1p(train_engineered['budget_processed'])"
   ]
  },
  {
   "cell_type": "code",
   "execution_count": 183,
   "metadata": {},
   "outputs": [
    {
     "name": "stdout",
     "output_type": "stream",
     "text": [
      "['Unnamed: 0' 'id' 'belongs_to_collection' 'original_budget'\n",
      " 'budget_processed' 'genre_rank' 'num_genres' 'has_homepage'\n",
      " 'originally_english' 'topStudio' 'numTopStudios' 'num_studios'\n",
      " 'studioRank' 'num_production_countries' 'topCountry' 'countryRank'\n",
      " 'usa_produced' '1960s' '1970s' '1980s' '1990s' '2000s' '2010s'\n",
      " 'mondayRelease' 'tuesdayRelease' 'wednesdayRelease' 'thursdayRelease'\n",
      " 'fridayRelease' 'saturdayRelease' 'sundayRelease' 'Winter' 'Fall'\n",
      " 'Spring' 'Summer' 'runtime_processed' 'spoken_english' 'num_languages'\n",
      " 'has_tagline' 'num_keywords' 'numTopKeywords' 'keywordRank' 'cast_num'\n",
      " 'topLeadActor' 'numTopActors' 'actorRanks' 'topActorRank' 'crew_num'\n",
      " 'topLeadDirector' 'numTopDirectors' 'directorsRank' 'topLeadExecProd'\n",
      " 'numTopExecProd' 'execProdRank' 'topLeadProducer' 'numTopProducers'\n",
      " 'producersRank' 'topLeadComposer' 'numTopComposers' 'composersRank'\n",
      " 'topLeadDirectorPhoto' 'numTopDirectorsPhoto' 'directorsPhotoRank'\n",
      " 'topLeadEditor' 'numTopEditors' 'editorsRank' 'budget_to_year_ratio'\n",
      " 'runtime_to_year_ratio' 'inflationBudget' 'popularity'\n",
      " 'popularity_year_ratio' 'log_revenue' 'revenue']\n"
     ]
    }
   ],
   "source": [
    "# print the title of each column of the train dataset\n",
    "print(train.columns.values)"
   ]
  },
  {
   "cell_type": "code",
   "execution_count": 184,
   "metadata": {},
   "outputs": [
    {
     "name": "stdout",
     "output_type": "stream",
     "text": [
      "['Unnamed: 0' 'id' 'belongs_to_collection' 'original_budget'\n",
      " 'budget_processed' 'genre_rank' 'num_genres' 'has_homepage'\n",
      " 'originally_english' 'topStudio' 'numTopStudios' 'num_studios'\n",
      " 'studioRank' 'num_production_countries' 'topCountry' 'countryRank'\n",
      " 'usa_produced' '1960s' '1970s' '1980s' '1990s' '2000s' '2010s'\n",
      " 'mondayRelease' 'tuesdayRelease' 'wednesdayRelease' 'thursdayRelease'\n",
      " 'fridayRelease' 'saturdayRelease' 'sundayRelease' 'Winter' 'Fall'\n",
      " 'Spring' 'Summer' 'runtime_processed' 'spoken_english' 'num_languages'\n",
      " 'has_tagline' 'num_keywords' 'numTopKeywords' 'keywordRank' 'cast_num'\n",
      " 'topLeadActor' 'numTopActors' 'actorRanks' 'topActorRank' 'crew_num'\n",
      " 'topLeadDirector' 'numTopDirectors' 'directorsRank' 'topLeadExecProd'\n",
      " 'numTopExecProd' 'execProdRank' 'topLeadProducer' 'numTopProducers'\n",
      " 'producersRank' 'topLeadComposer' 'numTopComposers' 'composersRank'\n",
      " 'topLeadDirectorPhoto' 'numTopDirectorsPhoto' 'directorsPhotoRank'\n",
      " 'topLeadEditor' 'numTopEditors' 'editorsRank' 'budget_to_year_ratio'\n",
      " 'runtime_to_year_ratio' 'inflationBudget' 'popularity'\n",
      " 'popularity_year_ratio']\n"
     ]
    }
   ],
   "source": [
    "# print the title of each column of the test dataset\n",
    "print(test.columns.values)"
   ]
  },
  {
   "cell_type": "code",
   "execution_count": 219,
   "metadata": {},
   "outputs": [],
   "source": [
    "#Model training, based on correlations extracted at DataAnalysis part\n",
    "y2= train_engineered['log_revenue'].values\n",
    "train_engineered['log_budget'] = np.log1p(train_engineered['budget_processed'])\n",
    "test_engineered['log_budget'] = np.log1p(test_engineered['budget_processed'])\n",
    "cols = ['belongs_to_collection','log_budget',\n",
    "        'popularity','runtime_to_year_ratio','budget_to_year_ratio','inflationBudget','num_studios','num_production_countries',\n",
    "        '1960s','1970s','1980s','1990s','2000s','2010s',\n",
    "        'mondayRelease','tuesdayRelease','thursdayRelease','saturdayRelease','sundayRelease',\n",
    "        'Winter','Fall','Summer','Spring','num_languages','num_keywords','numTopKeywords',\n",
    "        'genre_rank', 'num_genres', 'has_homepage', 'originally_english', 'topStudio', 'numTopStudios',\n",
    "        'studioRank', 'topCountry', 'countryRank', 'usa_produced',  'wednesdayRelease', 'fridayRelease', 'Spring',\n",
    "        'runtime_processed', 'spoken_english', 'num_languages', 'has_tagline', 'keywordRank', 'cast_num', 'topLeadActor',\n",
    "        'numTopActors', 'actorRanks', 'topActorRank', 'crew_num', 'topLeadDirector', 'numTopDirectors', 'directorsRank',\n",
    "        'topLeadExecProd', 'numTopExecProd', 'execProdRank', 'topLeadProducer', 'numTopProducers', 'producersRank',\n",
    "        'topLeadComposer', 'numTopComposers', 'composersRank', 'topLeadDirectorPhoto', 'numTopDirectorsPhoto',\n",
    "        'directorsPhotoRank', 'topLeadEditor', 'numTopEditors', 'editorsRank', 'popularity_year_ratio']\n",
    "X2 = train_engineered[cols].values\n",
    "X_test= test_engineered[cols].values\n",
    "X_test = np.nan_to_num(X_test)"
   ]
  },
  {
   "cell_type": "code",
   "execution_count": 223,
   "metadata": {},
   "outputs": [
    {
     "name": "stdout",
     "output_type": "stream",
     "text": [
      "1.5639444182469926\n"
     ]
    }
   ],
   "source": [
    "#carry out leaner regression\n",
    "LR = LinearRegression()\n",
    "scores = cross_val_score(LR, X2, y2, scoring=\"neg_mean_squared_error\", cv = 8)\n",
    "rmse_scores = np.sqrt(-scores)\n",
    "print(rmse_scores.mean())"
   ]
  },
  {
   "cell_type": "code",
   "execution_count": 224,
   "metadata": {},
   "outputs": [],
   "source": [
    "LR.fit(X2,y2)\n",
    "y_pred_LR_logbudget = LR.predict(X_test)\n",
    "y_pred_LR_logbudget = np.expm1(y_pred_LR_logbudget)"
   ]
  },
  {
   "cell_type": "code",
   "execution_count": 225,
   "metadata": {},
   "outputs": [],
   "source": [
    "pd.DataFrame({'id': test_engineered['id'], 'revenue': y_pred_LR_logbudget}).to_csv('submission_LR_logbudget.csv', index=False)\n",
    "#2.43276"
   ]
  },
  {
   "cell_type": "code",
   "execution_count": 228,
   "metadata": {},
   "outputs": [],
   "source": [
    "#carry out random forest regression\n",
    "#with tuned parameters\n",
    "#the result was improved from 3.1 to 2.3\n",
    "RF = RandomForestRegressor(max_depth=200, min_samples_split=5,n_estimators=200)\n",
    "RF.fit(X2,y2)\n",
    "y_pred_RF = RF.predict(X_test)\n",
    "y_pred_RF = np.expm1(y_pred_RF)\n",
    "pd.DataFrame({'id': test_engineered['id'], 'revenue': y_pred_RF}).to_csv('submission_RF.csv', index=False)\n",
    "#2.30702~2.31059"
   ]
  },
  {
   "cell_type": "code",
   "execution_count": null,
   "metadata": {},
   "outputs": [],
   "source": [
    "#modifying the result based on data crapped from the IMDB data base\n",
    "sample = pd.read_csv('data/test.csv')\n",
    "#original test data with nothing modified\n",
    "ref = pd.DataFrame({'id': test_engineered['id'], 'revenue': y_pred_RF,\n",
    "              'sample': test_engineered['revenue']})\n",
    "ref = ref.fillna(0)\n",
    "l = len(ref)\n",
    "for i in range(l):\n",
    "    if(ref['sample'][i]>0):\n",
    "        ref['revenue'][i] = ref['sample'][i]\n",
    "pd.DataFrame({'id': ref['id'], 'revenue': ref['revenue']}).to_csv('modified_RF.csv', index=False)\n",
    "#result is further improved to 2.2"
   ]
  },
  {
   "cell_type": "markdown",
   "metadata": {},
   "source": [
    "## Error Detection Models\n",
    "Error Detection Models are used to detect errors in the dataset. It is a classier that classifies the data into two classes: error and non-error. We will use lightgbm as our error detection model."
   ]
  },
  {
   "cell_type": "markdown",
   "metadata": {},
   "source": [
    "### 1. data preparation"
   ]
  },
  {
   "cell_type": "markdown",
   "metadata": {},
   "source": [
    "Firstly, we need to prepare the data for the error detection model. We will use the data from the previous notebook. By plotting the distribution of the data, we can see seperation between the error and non-error data by recognizing the outliers and abnormal data."
   ]
  },
  {
   "cell_type": "code",
   "execution_count": 186,
   "metadata": {},
   "outputs": [
    {
     "name": "stderr",
     "output_type": "stream",
     "text": [
      "C:\\Users\\zjy\\AppData\\Local\\Temp\\ipykernel_24004\\4229348723.py:2: UserWarning: \n",
      "\n",
      "`distplot` is a deprecated function and will be removed in seaborn v0.14.0.\n",
      "\n",
      "Please adapt your code to use either `displot` (a figure-level function with\n",
      "similar flexibility) or `histplot` (an axes-level function for histograms).\n",
      "\n",
      "For a guide to updating your code to use the new functions, please see\n",
      "https://gist.github.com/mwaskom/de44147ed2974457ad6372750bbe5751\n",
      "\n",
      "  sns.distplot(train['revenue'], kde=False)\n"
     ]
    },
    {
     "data": {
      "image/png": "[encoded data removed]",
      "text/plain": [
       "<Figure size 640x480 with 1 Axes>"
      ]
     },
     "metadata": {},
     "output_type": "display_data"
    }
   ],
   "source": [
    "#plot the distribution of the revenue in the training set\n",
    "sns.distplot(train['revenue'], kde=False)\n",
    "plt.title('Distribution of revenue')\n",
    "plt.xlabel('Revenue')\n",
    "plt.ylabel('Frequency')\n",
    "plt.show()"
   ]
  },
  {
   "cell_type": "code",
   "execution_count": 187,
   "metadata": {},
   "outputs": [
    {
     "name": "stderr",
     "output_type": "stream",
     "text": [
      "C:\\Users\\zjy\\AppData\\Local\\Temp\\ipykernel_24004\\1025018483.py:2: UserWarning: \n",
      "\n",
      "`distplot` is a deprecated function and will be removed in seaborn v0.14.0.\n",
      "\n",
      "Please adapt your code to use either `displot` (a figure-level function with\n",
      "similar flexibility) or `histplot` (an axes-level function for histograms).\n",
      "\n",
      "For a guide to updating your code to use the new functions, please see\n",
      "https://gist.github.com/mwaskom/de44147ed2974457ad6372750bbe5751\n",
      "\n",
      "  sns.distplot(train['original_budget'], kde=False)\n"
     ]
    },
    {
     "data": {
      "image/png": "[encoded data removed]",
      "text/plain": [
       "<Figure size 640x480 with 1 Axes>"
      ]
     },
     "metadata": {},
     "output_type": "display_data"
    }
   ],
   "source": [
    "#plot the distribution of the budget in the training set\n",
    "sns.distplot(train['original_budget'], kde=False)\n",
    "plt.title('Distribution of budget')\n",
    "plt.xlabel('Budget')\n",
    "plt.ylabel('Frequency')\n",
    "plt.show()"
   ]
  },
  {
   "cell_type": "code",
   "execution_count": 188,
   "metadata": {},
   "outputs": [
    {
     "name": "stderr",
     "output_type": "stream",
     "text": [
      "C:\\Users\\zjy\\AppData\\Local\\Temp\\ipykernel_24004\\668996526.py:2: UserWarning: \n",
      "\n",
      "`distplot` is a deprecated function and will be removed in seaborn v0.14.0.\n",
      "\n",
      "Please adapt your code to use either `displot` (a figure-level function with\n",
      "similar flexibility) or `histplot` (an axes-level function for histograms).\n",
      "\n",
      "For a guide to updating your code to use the new functions, please see\n",
      "https://gist.github.com/mwaskom/de44147ed2974457ad6372750bbe5751\n",
      "\n",
      "  sns.distplot(train['log_revenue'], kde=False)\n"
     ]
    },
    {
     "data": {
      "image/png": "[encoded data removed]",
      "text/plain": [
       "<Figure size 640x480 with 1 Axes>"
      ]
     },
     "metadata": {},
     "output_type": "display_data"
    }
   ],
   "source": [
    "# plot the distribution of the log of the revenue in the training set\n",
    "sns.distplot(train['log_revenue'], kde=False)\n",
    "plt.title('Distribution of log of revenue')\n",
    "plt.xlabel('Log of revenue')\n",
    "plt.ylabel('Frequency')\n",
    "plt.show()"
   ]
  },
  {
   "cell_type": "code",
   "execution_count": 189,
   "metadata": {},
   "outputs": [
    {
     "name": "stderr",
     "output_type": "stream",
     "text": [
      "C:\\Users\\zjy\\AppData\\Local\\Temp\\ipykernel_24004\\3171513416.py:2: UserWarning: \n",
      "\n",
      "`distplot` is a deprecated function and will be removed in seaborn v0.14.0.\n",
      "\n",
      "Please adapt your code to use either `displot` (a figure-level function with\n",
      "similar flexibility) or `histplot` (an axes-level function for histograms).\n",
      "\n",
      "For a guide to updating your code to use the new functions, please see\n",
      "https://gist.github.com/mwaskom/de44147ed2974457ad6372750bbe5751\n",
      "\n",
      "  sns.distplot(train['log_budget'], kde=False)\n"
     ]
    },
    {
     "data": {
      "image/png": "[encoded data removed]",
      "text/plain": [
       "<Figure size 640x480 with 1 Axes>"
      ]
     },
     "metadata": {},
     "output_type": "display_data"
    }
   ],
   "source": [
    "# plot the distribution of the log of the budget in the training set\n",
    "sns.distplot(train['log_budget'], kde=False)\n",
    "plt.title('Distribution of log of budget')\n",
    "plt.xlabel('Log of budget')\n",
    "plt.ylabel('Frequency')\n",
    "plt.show()"
   ]
  },
  {
   "cell_type": "markdown",
   "metadata": {},
   "source": [
    "By seeing the graph above, we will divide the data into two parts: error and non-error and label them as 1 and 0 respectively. We will use these labels to train the error detection model."
   ]
  },
  {
   "cell_type": "code",
   "execution_count": 190,
   "metadata": {},
   "outputs": [],
   "source": [
    "#store all the data that is zero in budget or revenue in a new dataframe called error\n",
    "#store all the data that is not zero in budget or revenue in a new dataframe called non_error_train\n",
    "error_train = train[(train['revenue'] == 0) | (train['original_budget'] == 0)]\n",
    "non_error_train = train[(train['original_budget'] != 0) & (train['revenue'] != 0)]\n",
    "#move all the data whose log_budegt is less than 10 in non-error to the error dataframe\n",
    "temp = non_error_train[non_error_train['log_budget'] < 10]\n",
    "error_train = error_train._append(temp, ignore_index=True)\n",
    "non_error_train = non_error_train[non_error_train['log_budget'] >= 10]\n",
    "#move all the data whose log_revenue is less than 7.5 in non-error to the error dataframe\n",
    "temp = non_error_train[non_error_train['log_revenue'] < 7.5]\n",
    "error_train = error_train._append(temp, ignore_index=True)\n",
    "non_error_train = non_error_train[non_error_train['log_revenue'] >= 7.5]"
   ]
  },
  {
   "cell_type": "code",
   "execution_count": 191,
   "metadata": {},
   "outputs": [
    {
     "data": {
      "image/png": "[encoded data removed]",
      "text/plain": [
       "<Figure size 640x480 with 1 Axes>"
      ]
     },
     "metadata": {},
     "output_type": "display_data"
    }
   ],
   "source": [
    "#plot the distribution of the log_budegt against the log_revenue in the error set\n",
    "sns.scatterplot(x='log_budget', y='log_revenue', data=error_train)\n",
    "plt.title('Log_budget vs Log_revenue')\n",
    "plt.xlabel('Log_budget')\n",
    "plt.ylabel('Log_revenue')\n",
    "plt.show()"
   ]
  },
  {
   "cell_type": "code",
   "execution_count": 192,
   "metadata": {},
   "outputs": [
    {
     "data": {
      "image/png": "[encoded data removed]",
      "text/plain": [
       "<Figure size 640x480 with 1 Axes>"
      ]
     },
     "metadata": {},
     "output_type": "display_data"
    }
   ],
   "source": [
    "#plot the distribution of the log_budegt against the log_revenue in the non-error set\n",
    "sns.scatterplot(x='log_budget', y='log_revenue', data=non_error_train)\n",
    "plt.title('Log_budget vs Log_revenue')\n",
    "plt.xlabel('Log_budget')\n",
    "plt.ylabel('Log_revenue')\n",
    "plt.show()"
   ]
  },
  {
   "cell_type": "code",
   "execution_count": 193,
   "metadata": {},
   "outputs": [],
   "source": [
    "#label the error set as 1 and the non-error set as 0\n",
    "error_train['error'] = 1\n",
    "non_error_train['error'] = 0\n",
    "#combine the error and non-error set\n",
    "train_labeled = error_train._append(non_error_train, ignore_index=True)"
   ]
  },
  {
   "cell_type": "code",
   "execution_count": 194,
   "metadata": {},
   "outputs": [],
   "source": [
    "# split the training set into training and validation set, with a evenly distributed error and non-error set\n",
    "train_labeled, val_labeled = train_test_split(train_labeled, test_size=0.2, random_state=42, stratify=train_labeled['error'])"
   ]
  },
  {
   "cell_type": "markdown",
   "metadata": {},
   "source": [
    "### 2. training"
   ]
  },
  {
   "cell_type": "code",
   "execution_count": 195,
   "metadata": {},
   "outputs": [
    {
     "name": "stdout",
     "output_type": "stream",
     "text": [
      "0.9993141289437586\n",
      "1.0\n",
      "0.9970414201183432\n",
      "0.9985185185185186\n"
     ]
    }
   ],
   "source": [
    "# feature_classification selection\n",
    "feature_classification = [ 'original_budget', 'budget_processed', 'genre_rank',\n",
    "                            'inflationBudget', 'popularity_year_ratio']\n",
    "# target\n",
    "target = 'error'\n",
    "\n",
    "# split the feature_classification and target in the training set\n",
    "X_train = train_labeled[feature_classification]\n",
    "y_train = train_labeled[target]\n",
    "# split the feature_classification and target in the validation set\n",
    "X_val = val_labeled[feature_classification]\n",
    "y_val = val_labeled[target]\n",
    "\n",
    "# create a lgb dataset for training\n",
    "train_data = lgb.Dataset(X_train, label=y_train)\n",
    "# create a lgb dataset for validation\n",
    "val_data = lgb.Dataset(X_val, label=y_val)\n",
    "\n",
    "# set the parameters for the lgb model\n",
    "param = {'num_leaves': 30,\n",
    "          'objective': 'binary',\n",
    "          'metric': 'auc',\n",
    "          'max_depth': 5,\n",
    "          'learning_rate': 0.1,\n",
    "          'feature_fraction': 0.9,\n",
    "          'min_data_in_leaf': 5,\n",
    "          'bagging_fraction': 0.9,\n",
    "          'bagging_freq': 1,\n",
    "          'lambda_l1': 1,\n",
    "          'lambda_l2': 1,\n",
    "          'verbose': -1}\n",
    "# train the lgb model\n",
    "lgb_error_detection = lgb.train(param, train_data, valid_sets=[val_data])\n",
    "\n",
    "# predict the validation set\n",
    "y_pred = lgb_error_detection.predict(X_val, num_iteration=lgb_error_detection.best_iteration)\n",
    "# convert the prediction to binary\n",
    "for i in range(len(y_pred)):\n",
    "    if y_pred[i] >= 0.5:\n",
    "        y_pred[i] = 1\n",
    "    else:\n",
    "        y_pred[i] = 0\n",
    "\n",
    "# calculate the accuracy, precision, recall and f1 score\n",
    "accuracy = sum(y_pred == y_val) / len(y_val)\n",
    "print(accuracy)\n",
    "precision = sum((y_pred == 1) & (y_val == 1)) / sum(y_pred == 1)\n",
    "print(precision)\n",
    "recall = sum((y_pred == 1) & (y_val == 1)) / sum(y_val == 1)\n",
    "print(recall)\n",
    "f1 = 2 * precision * recall / (precision + recall)\n",
    "print(f1)"
   ]
  },
  {
   "cell_type": "markdown",
   "metadata": {},
   "source": [
    "### 3. save the model"
   ]
  },
  {
   "cell_type": "code",
   "execution_count": 196,
   "metadata": {},
   "outputs": [
    {
     "data": {
      "text/plain": [
       "<lightgbm.basic.Booster at 0x1d3d4c3cf10>"
      ]
     },
     "execution_count": 196,
     "metadata": {},
     "output_type": "execute_result"
    }
   ],
   "source": [
    "# save the model\n",
    "lgb_error_detection.save_model('model/lgb_error_detection.pkl')"
   ]
  },
  {
   "cell_type": "markdown",
   "metadata": {},
   "source": [
    "### 4. prediction"
   ]
  },
  {
   "cell_type": "code",
   "execution_count": 197,
   "metadata": {},
   "outputs": [],
   "source": [
    "# predict the test set\n",
    "y_pred = lgb_error_detection.predict(test[feature_classification], num_iteration=lgb_error_detection.best_iteration)\n",
    "# convert the prediction to binary\n",
    "for i in range(len(y_pred)):\n",
    "    if y_pred[i] >= 0.5:\n",
    "        y_pred[i] = 1\n",
    "    else:\n",
    "        y_pred[i] = 0\n",
    "test['error'] = y_pred"
   ]
  },
  {
   "cell_type": "code",
   "execution_count": 198,
   "metadata": {},
   "outputs": [],
   "source": [
    "# predict the error set using the error detection model\n",
    "y_pred = lgb_error_detection.predict(error_train[feature_classification], num_iteration=lgb_error_detection.best_iteration)\n",
    "# convert the prediction to binary\n",
    "for i in range(len(y_pred)):\n",
    "    if y_pred[i] >= 0.5:\n",
    "        y_pred[i] = 1\n",
    "    else:\n",
    "        y_pred[i] = 0\n",
    "error_train['error'] = y_pred\n",
    "\n",
    "# split the test set into error and non-error set\n",
    "error_test = test[test['error'] == 1]\n",
    "non_error_test = test[test['error'] == 0]"
   ]
  },
  {
   "cell_type": "code",
   "execution_count": 199,
   "metadata": {},
   "outputs": [
    {
     "name": "stdout",
     "output_type": "stream",
     "text": [
      "(1256, 72)\n",
      "(3142, 72)\n"
     ]
    }
   ],
   "source": [
    "print(error_test.shape)\n",
    "print(non_error_test.shape)"
   ]
  },
  {
   "cell_type": "markdown",
   "metadata": {},
   "source": [
    "## Models for revenue prediction"
   ]
  },
  {
   "cell_type": "markdown",
   "metadata": {},
   "source": [
    "### 1. Model for error-free data"
   ]
  },
  {
   "cell_type": "markdown",
   "metadata": {},
   "source": [
    "we will use 3 models: lightgbm, xgboost, and catboost. Then we will use the average of the predictions of these models as our final prediction."
   ]
  },
  {
   "cell_type": "markdown",
   "metadata": {},
   "source": [
    "Use Five-Fold Cross Validation to Evaluate the Model"
   ]
  },
  {
   "cell_type": "code",
   "execution_count": 200,
   "metadata": {},
   "outputs": [
    {
     "name": "stderr",
     "output_type": "stream",
     "text": [
      "C:\\Users\\zjy\\AppData\\Local\\Temp\\ipykernel_24004\\621629304.py:23: SettingWithCopyWarning: \n",
      "A value is trying to be set on a copy of a slice from a DataFrame.\n",
      "Try using .loc[row_indexer,col_indexer] = value instead\n",
      "\n",
      "See the caveats in the documentation: https://pandas.pydata.org/pandas-docs/stable/user_guide/indexing.html#returning-a-view-versus-a-copy\n",
      "  non_error_test['log_budget']=np.log1p(non_error_test['budget_processed'])\n",
      "C:\\Users\\zjy\\AppData\\Local\\Temp\\ipykernel_24004\\621629304.py:25: SettingWithCopyWarning: \n",
      "A value is trying to be set on a copy of a slice from a DataFrame.\n",
      "Try using .loc[row_indexer,col_indexer] = value instead\n",
      "\n",
      "See the caveats in the documentation: https://pandas.pydata.org/pandas-docs/stable/user_guide/indexing.html#returning-a-view-versus-a-copy\n",
      "  error_test['log_budget']=np.log1p(error_test['budget_processed'])\n"
     ]
    }
   ],
   "source": [
    "# split the training set into training and validation set, use Five-Fold Cross Validation\n",
    "kf = KFold(n_splits=5, shuffle=True, random_state=42)\n",
    "# feature selection\n",
    "#'belongs_to_collection' 'original_budget'\n",
    "#  'budget_processed' 'genre_rank' 'num_genres' 'has_homepage'\n",
    "#  'originally_english' 'topStudio' 'numTopStudios' 'num_studios'\n",
    "#  'studioRank' 'num_production_countries' 'topCountry' 'countryRank'\n",
    "#  'usa_produced' '1960s' '1970s' '1980s' '1990s' '2000s' '2010s'\n",
    "#  'mondayRelease' 'tuesdayRelease' 'wednesdayRelease' 'thursdayRelease'\n",
    "#  'fridayRelease' 'saturdayRelease' 'sundayRelease' 'Winter' 'Fall'\n",
    "#  'Spring' 'Summer' 'runtime_processed' 'spoken_english' 'num_languages'\n",
    "#  'has_tagline' 'num_keywords' 'numTopKeywords' 'keywordRank' 'cast_num'\n",
    "#  'topLeadActor' 'numTopActors' 'actorRanks' 'topActorRank' 'crew_num'\n",
    "#  'topLeadDirector' 'numTopDirectors' 'directorsRank' 'topLeadExecProd'\n",
    "#  'numTopExecProd' 'execProdRank' 'topLeadProducer' 'numTopProducers'\n",
    "#  'producersRank' 'topLeadComposer' 'numTopComposers' 'composersRank'\n",
    "#  'topLeadDirectorPhoto' 'numTopDirectorsPhoto' 'directorsPhotoRank'\n",
    "#  'topLeadEditor' 'numTopEditors' 'editorsRank' 'budget_to_year_ratio'\n",
    "#  'runtime_to_year_ratio' 'inflationBudget' 'popularity'\n",
    "#  'popularity_year_ratio'\n",
    "\n",
    "non_error_train['log_budget']=np.log1p(non_error_train['budget_processed'])\n",
    "non_error_test['log_budget']=np.log1p(non_error_test['budget_processed'])\n",
    "error_train['log_budget']=np.log1p(error_train['budget_processed'])\n",
    "error_test['log_budget']=np.log1p(error_test['budget_processed'])\n",
    "\n",
    "feature_regression = [  'belongs_to_collection','original_budget','budget_processed', 'genre_rank',\n",
    "                        'num_genres', 'has_homepage', 'originally_english', 'topStudio', 'numTopStudios',\n",
    "                        'num_studios', 'studioRank', 'num_production_countries', 'topCountry', 'countryRank',\n",
    "                        'usa_produced', '1960s', '1970s', '1980s', '1990s', '2000s', '2010s', 'mondayRelease',\n",
    "                        'tuesdayRelease', 'wednesdayRelease', 'thursdayRelease', 'fridayRelease', 'saturdayRelease',\n",
    "                        'sundayRelease', 'Winter', 'Fall', 'Spring', 'Summer', 'runtime_processed', 'spoken_english',\n",
    "                        'num_languages', 'has_tagline', 'num_keywords', 'numTopKeywords', 'keywordRank', 'cast_num',\n",
    "                        'topLeadActor', 'numTopActors', 'actorRanks', 'topActorRank', 'crew_num', 'topLeadDirector',\n",
    "                        'numTopDirectors', 'directorsRank', 'topLeadExecProd', 'numTopExecProd', 'execProdRank',\n",
    "                        'topLeadProducer', 'numTopProducers', 'producersRank', 'topLeadComposer', 'numTopComposers',\n",
    "                        'composersRank', 'topLeadDirectorPhoto', 'numTopDirectorsPhoto', 'directorsPhotoRank',\n",
    "                        'topLeadEditor', 'numTopEditors', 'editorsRank', 'budget_to_year_ratio',\n",
    "                        'runtime_to_year_ratio', 'inflationBudget', 'popularity', 'popularity_year_ratio','log_budget']\n",
    "target = 'revenue'"
   ]
  },
  {
   "cell_type": "code",
   "execution_count": null,
   "metadata": {},
   "outputs": [],
   "source": [
    "train_engineered = pd.read_csv('data/train_engineered.csv')\n",
    "test_engineered = pd.read_csv('data/test_engineered.csv')"
   ]
  },
  {
   "cell_type": "code",
   "execution_count": 201,
   "metadata": {},
   "outputs": [
    {
     "name": "stdout",
     "output_type": "stream",
     "text": [
      "109109323.28609982\n",
      "105566079.01545516\n",
      "98798956.76940988\n",
      "106021158.92583655\n",
      "87628617.99277397\n"
     ]
    }
   ],
   "source": [
    "# lightgbm\n",
    "# set the parameters for the lgb model\n",
    "param = {'num_leaves': 500,\n",
    "          'objective': 'regression',\n",
    "          'metric': 'rmse',\n",
    "          'max_depth': 12,\n",
    "          'learning_rate': 0.1,\n",
    "          'feature_fraction': 0.9,\n",
    "          'min_data_in_leaf': 5,\n",
    "          'bagging_fraction': 0.9,\n",
    "          'bagging_freq': 1,\n",
    "          'lambda_l1': 0.2,\n",
    "          'lambda_l2': 1,\n",
    "          'verbose': -1}\n",
    "# train the lgb model\n",
    "lgb_model_non_error = []\n",
    "lgb_prediction = []\n",
    "for train_index, val_index in kf.split(non_error_train):\n",
    "    X_train, X_val = non_error_train.iloc[train_index][feature_regression], non_error_train.iloc[val_index][feature_regression]\n",
    "    y_train, y_val = non_error_train.iloc[train_index][target], non_error_train.iloc[val_index][target]\n",
    "    train_data = lgb.Dataset(X_train, label=y_train)\n",
    "    val_data = lgb.Dataset(X_val, label=y_val)\n",
    "    lgb_model = lgb.train(param, train_data, valid_sets=[val_data])\n",
    "    lgb_model_non_error.append(lgb_model)\n",
    "    # evaluate the model\n",
    "    y_pred = lgb_model.predict(X_val, num_iteration=lgb_model.best_iteration)\n",
    "    lgb_prediction.append(y_pred)\n",
    "    # calculate the loss\n",
    "    loss = np.sqrt(sum((y_pred - y_val) ** 2) / len(y_val))\n",
    "    print(loss)\n",
    "\n"
   ]
  },
  {
   "cell_type": "code",
   "execution_count": 202,
   "metadata": {},
   "outputs": [
    {
     "name": "stdout",
     "output_type": "stream",
     "text": [
      "[0]\tvalidation-rmse:227818399.47018\n"
     ]
    },
    {
     "name": "stdout",
     "output_type": "stream",
     "text": [
      "[1]\tvalidation-rmse:223237348.75983\n",
      "[2]\tvalidation-rmse:218706364.80925\n",
      "[3]\tvalidation-rmse:214615863.34317\n",
      "[4]\tvalidation-rmse:210864715.52790\n",
      "[5]\tvalidation-rmse:207080382.46683\n",
      "[6]\tvalidation-rmse:203297796.93457\n",
      "[7]\tvalidation-rmse:199486411.76863\n",
      "[8]\tvalidation-rmse:196131920.32723\n",
      "[9]\tvalidation-rmse:192708665.45028\n"
     ]
    },
    {
     "name": "stderr",
     "output_type": "stream",
     "text": [
      "d:\\anaconda3\\envs\\F30\\Lib\\site-packages\\xgboost\\data.py:312: FutureWarning: is_sparse is deprecated and will be removed in a future version. Check `isinstance(dtype, pd.SparseDtype)` instead.\n",
      "  if is_sparse(dtype):\n",
      "d:\\anaconda3\\envs\\F30\\Lib\\site-packages\\xgboost\\data.py:314: FutureWarning: is_categorical_dtype is deprecated and will be removed in a future version. Use isinstance(dtype, CategoricalDtype) instead\n",
      "  elif is_categorical_dtype(dtype) and enable_categorical:\n",
      "d:\\anaconda3\\envs\\F30\\Lib\\site-packages\\xgboost\\data.py:345: FutureWarning: is_categorical_dtype is deprecated and will be removed in a future version. Use isinstance(dtype, CategoricalDtype) instead\n",
      "  if is_categorical_dtype(dtype)\n",
      "d:\\anaconda3\\envs\\F30\\Lib\\site-packages\\xgboost\\data.py:336: FutureWarning: is_categorical_dtype is deprecated and will be removed in a future version. Use isinstance(dtype, CategoricalDtype) instead\n",
      "  return is_int or is_bool or is_float or is_categorical_dtype(dtype)\n",
      "d:\\anaconda3\\envs\\F30\\Lib\\site-packages\\xgboost\\data.py:440: FutureWarning: is_sparse is deprecated and will be removed in a future version. Check `isinstance(dtype, pd.SparseDtype)` instead.\n",
      "  if is_sparse(data):\n",
      "d:\\anaconda3\\envs\\F30\\Lib\\site-packages\\xgboost\\data.py:312: FutureWarning: is_sparse is deprecated and will be removed in a future version. Check `isinstance(dtype, pd.SparseDtype)` instead.\n",
      "  if is_sparse(dtype):\n",
      "d:\\anaconda3\\envs\\F30\\Lib\\site-packages\\xgboost\\data.py:314: FutureWarning: is_categorical_dtype is deprecated and will be removed in a future version. Use isinstance(dtype, CategoricalDtype) instead\n",
      "  elif is_categorical_dtype(dtype) and enable_categorical:\n",
      "d:\\anaconda3\\envs\\F30\\Lib\\site-packages\\xgboost\\data.py:345: FutureWarning: is_categorical_dtype is deprecated and will be removed in a future version. Use isinstance(dtype, CategoricalDtype) instead\n",
      "  if is_categorical_dtype(dtype)\n",
      "d:\\anaconda3\\envs\\F30\\Lib\\site-packages\\xgboost\\data.py:336: FutureWarning: is_categorical_dtype is deprecated and will be removed in a future version. Use isinstance(dtype, CategoricalDtype) instead\n",
      "  return is_int or is_bool or is_float or is_categorical_dtype(dtype)\n",
      "d:\\anaconda3\\envs\\F30\\Lib\\site-packages\\xgboost\\data.py:440: FutureWarning: is_sparse is deprecated and will be removed in a future version. Check `isinstance(dtype, pd.SparseDtype)` instead.\n",
      "  if is_sparse(data):\n",
      "d:\\anaconda3\\envs\\F30\\Lib\\site-packages\\xgboost\\data.py:312: FutureWarning: is_sparse is deprecated and will be removed in a future version. Check `isinstance(dtype, pd.SparseDtype)` instead.\n",
      "  if is_sparse(dtype):\n",
      "d:\\anaconda3\\envs\\F30\\Lib\\site-packages\\xgboost\\data.py:314: FutureWarning: is_categorical_dtype is deprecated and will be removed in a future version. Use isinstance(dtype, CategoricalDtype) instead\n",
      "  elif is_categorical_dtype(dtype) and enable_categorical:\n",
      "d:\\anaconda3\\envs\\F30\\Lib\\site-packages\\xgboost\\data.py:345: FutureWarning: is_categorical_dtype is deprecated and will be removed in a future version. Use isinstance(dtype, CategoricalDtype) instead\n",
      "  if is_categorical_dtype(dtype)\n",
      "d:\\anaconda3\\envs\\F30\\Lib\\site-packages\\xgboost\\data.py:336: FutureWarning: is_categorical_dtype is deprecated and will be removed in a future version. Use isinstance(dtype, CategoricalDtype) instead\n",
      "  return is_int or is_bool or is_float or is_categorical_dtype(dtype)\n",
      "d:\\anaconda3\\envs\\F30\\Lib\\site-packages\\xgboost\\data.py:440: FutureWarning: is_sparse is deprecated and will be removed in a future version. Check `isinstance(dtype, pd.SparseDtype)` instead.\n",
      "  if is_sparse(data):\n",
      "d:\\anaconda3\\envs\\F30\\Lib\\site-packages\\xgboost\\data.py:312: FutureWarning: is_sparse is deprecated and will be removed in a future version. Check `isinstance(dtype, pd.SparseDtype)` instead.\n",
      "  if is_sparse(dtype):\n",
      "d:\\anaconda3\\envs\\F30\\Lib\\site-packages\\xgboost\\data.py:314: FutureWarning: is_categorical_dtype is deprecated and will be removed in a future version. Use isinstance(dtype, CategoricalDtype) instead\n",
      "  elif is_categorical_dtype(dtype) and enable_categorical:\n",
      "d:\\anaconda3\\envs\\F30\\Lib\\site-packages\\xgboost\\data.py:345: FutureWarning: is_categorical_dtype is deprecated and will be removed in a future version. Use isinstance(dtype, CategoricalDtype) instead\n",
      "  if is_categorical_dtype(dtype)\n",
      "d:\\anaconda3\\envs\\F30\\Lib\\site-packages\\xgboost\\data.py:336: FutureWarning: is_categorical_dtype is deprecated and will be removed in a future version. Use isinstance(dtype, CategoricalDtype) instead\n",
      "  return is_int or is_bool or is_float or is_categorical_dtype(dtype)\n",
      "d:\\anaconda3\\envs\\F30\\Lib\\site-packages\\xgboost\\data.py:440: FutureWarning: is_sparse is deprecated and will be removed in a future version. Check `isinstance(dtype, pd.SparseDtype)` instead.\n",
      "  if is_sparse(data):\n"
     ]
    },
    {
     "name": "stdout",
     "output_type": "stream",
     "text": [
      "192708664.8755707\n",
      "[0]\tvalidation-rmse:246201074.03102\n",
      "[1]\tvalidation-rmse:240572866.71489\n",
      "[2]\tvalidation-rmse:235071521.74500\n",
      "[3]\tvalidation-rmse:230074543.37885\n",
      "[4]\tvalidation-rmse:225303550.59726\n",
      "[5]\tvalidation-rmse:221102081.58238\n",
      "[6]\tvalidation-rmse:216190561.89900\n",
      "[7]\tvalidation-rmse:212170191.31710\n",
      "[8]\tvalidation-rmse:208204643.53454\n",
      "[9]\tvalidation-rmse:204261305.28331\n",
      "204261304.27768382\n",
      "[0]\tvalidation-rmse:207445677.10658\n",
      "[1]\tvalidation-rmse:203188918.45676\n",
      "[2]\tvalidation-rmse:198521470.87676\n",
      "[3]\tvalidation-rmse:194448677.31418\n",
      "[4]\tvalidation-rmse:190658926.00620\n",
      "[5]\tvalidation-rmse:186853452.69695\n",
      "[6]\tvalidation-rmse:182748336.04736\n",
      "[7]\tvalidation-rmse:179506820.61205\n",
      "[8]\tvalidation-rmse:176084970.55254\n",
      "[9]\tvalidation-rmse:173326893.07976\n",
      "173326891.80452088\n"
     ]
    },
    {
     "name": "stderr",
     "output_type": "stream",
     "text": [
      "d:\\anaconda3\\envs\\F30\\Lib\\site-packages\\xgboost\\data.py:312: FutureWarning: is_sparse is deprecated and will be removed in a future version. Check `isinstance(dtype, pd.SparseDtype)` instead.\n",
      "  if is_sparse(dtype):\n",
      "d:\\anaconda3\\envs\\F30\\Lib\\site-packages\\xgboost\\data.py:314: FutureWarning: is_categorical_dtype is deprecated and will be removed in a future version. Use isinstance(dtype, CategoricalDtype) instead\n",
      "  elif is_categorical_dtype(dtype) and enable_categorical:\n",
      "d:\\anaconda3\\envs\\F30\\Lib\\site-packages\\xgboost\\data.py:345: FutureWarning: is_categorical_dtype is deprecated and will be removed in a future version. Use isinstance(dtype, CategoricalDtype) instead\n",
      "  if is_categorical_dtype(dtype)\n",
      "d:\\anaconda3\\envs\\F30\\Lib\\site-packages\\xgboost\\data.py:336: FutureWarning: is_categorical_dtype is deprecated and will be removed in a future version. Use isinstance(dtype, CategoricalDtype) instead\n",
      "  return is_int or is_bool or is_float or is_categorical_dtype(dtype)\n",
      "d:\\anaconda3\\envs\\F30\\Lib\\site-packages\\xgboost\\data.py:440: FutureWarning: is_sparse is deprecated and will be removed in a future version. Check `isinstance(dtype, pd.SparseDtype)` instead.\n",
      "  if is_sparse(data):\n",
      "d:\\anaconda3\\envs\\F30\\Lib\\site-packages\\xgboost\\data.py:312: FutureWarning: is_sparse is deprecated and will be removed in a future version. Check `isinstance(dtype, pd.SparseDtype)` instead.\n",
      "  if is_sparse(dtype):\n",
      "d:\\anaconda3\\envs\\F30\\Lib\\site-packages\\xgboost\\data.py:314: FutureWarning: is_categorical_dtype is deprecated and will be removed in a future version. Use isinstance(dtype, CategoricalDtype) instead\n",
      "  elif is_categorical_dtype(dtype) and enable_categorical:\n",
      "d:\\anaconda3\\envs\\F30\\Lib\\site-packages\\xgboost\\data.py:345: FutureWarning: is_categorical_dtype is deprecated and will be removed in a future version. Use isinstance(dtype, CategoricalDtype) instead\n",
      "  if is_categorical_dtype(dtype)\n",
      "d:\\anaconda3\\envs\\F30\\Lib\\site-packages\\xgboost\\data.py:336: FutureWarning: is_categorical_dtype is deprecated and will be removed in a future version. Use isinstance(dtype, CategoricalDtype) instead\n",
      "  return is_int or is_bool or is_float or is_categorical_dtype(dtype)\n",
      "d:\\anaconda3\\envs\\F30\\Lib\\site-packages\\xgboost\\data.py:440: FutureWarning: is_sparse is deprecated and will be removed in a future version. Check `isinstance(dtype, pd.SparseDtype)` instead.\n",
      "  if is_sparse(data):\n",
      "d:\\anaconda3\\envs\\F30\\Lib\\site-packages\\xgboost\\data.py:312: FutureWarning: is_sparse is deprecated and will be removed in a future version. Check `isinstance(dtype, pd.SparseDtype)` instead.\n",
      "  if is_sparse(dtype):\n",
      "d:\\anaconda3\\envs\\F30\\Lib\\site-packages\\xgboost\\data.py:314: FutureWarning: is_categorical_dtype is deprecated and will be removed in a future version. Use isinstance(dtype, CategoricalDtype) instead\n",
      "  elif is_categorical_dtype(dtype) and enable_categorical:\n",
      "d:\\anaconda3\\envs\\F30\\Lib\\site-packages\\xgboost\\data.py:345: FutureWarning: is_categorical_dtype is deprecated and will be removed in a future version. Use isinstance(dtype, CategoricalDtype) instead\n",
      "  if is_categorical_dtype(dtype)\n",
      "d:\\anaconda3\\envs\\F30\\Lib\\site-packages\\xgboost\\data.py:336: FutureWarning: is_categorical_dtype is deprecated and will be removed in a future version. Use isinstance(dtype, CategoricalDtype) instead\n",
      "  return is_int or is_bool or is_float or is_categorical_dtype(dtype)\n",
      "d:\\anaconda3\\envs\\F30\\Lib\\site-packages\\xgboost\\data.py:440: FutureWarning: is_sparse is deprecated and will be removed in a future version. Check `isinstance(dtype, pd.SparseDtype)` instead.\n",
      "  if is_sparse(data):\n",
      "d:\\anaconda3\\envs\\F30\\Lib\\site-packages\\xgboost\\data.py:312: FutureWarning: is_sparse is deprecated and will be removed in a future version. Check `isinstance(dtype, pd.SparseDtype)` instead.\n",
      "  if is_sparse(dtype):\n",
      "d:\\anaconda3\\envs\\F30\\Lib\\site-packages\\xgboost\\data.py:314: FutureWarning: is_categorical_dtype is deprecated and will be removed in a future version. Use isinstance(dtype, CategoricalDtype) instead\n",
      "  elif is_categorical_dtype(dtype) and enable_categorical:\n",
      "d:\\anaconda3\\envs\\F30\\Lib\\site-packages\\xgboost\\data.py:345: FutureWarning: is_categorical_dtype is deprecated and will be removed in a future version. Use isinstance(dtype, CategoricalDtype) instead\n",
      "  if is_categorical_dtype(dtype)\n",
      "d:\\anaconda3\\envs\\F30\\Lib\\site-packages\\xgboost\\data.py:336: FutureWarning: is_categorical_dtype is deprecated and will be removed in a future version. Use isinstance(dtype, CategoricalDtype) instead\n",
      "  return is_int or is_bool or is_float or is_categorical_dtype(dtype)\n",
      "d:\\anaconda3\\envs\\F30\\Lib\\site-packages\\xgboost\\data.py:440: FutureWarning: is_sparse is deprecated and will be removed in a future version. Check `isinstance(dtype, pd.SparseDtype)` instead.\n",
      "  if is_sparse(data):\n"
     ]
    },
    {
     "name": "stdout",
     "output_type": "stream",
     "text": [
      "[0]\tvalidation-rmse:196779251.18947\n",
      "[1]\tvalidation-rmse:192398691.19116\n",
      "[2]\tvalidation-rmse:187876063.19574\n",
      "[3]\tvalidation-rmse:183538668.73075\n",
      "[4]\tvalidation-rmse:179574614.81869\n",
      "[5]\tvalidation-rmse:175472695.12316\n",
      "[6]\tvalidation-rmse:171796717.00811\n",
      "[7]\tvalidation-rmse:168068151.83597\n",
      "[8]\tvalidation-rmse:164541707.52957\n",
      "[9]\tvalidation-rmse:161718461.20264\n",
      "161718460.94182026\n",
      "[0]\tvalidation-rmse:208880650.99865\n",
      "[1]\tvalidation-rmse:203800863.47805\n",
      "[2]\tvalidation-rmse:199298867.62427\n",
      "[3]\tvalidation-rmse:194182391.83287\n",
      "[4]\tvalidation-rmse:189457150.63381\n",
      "[5]\tvalidation-rmse:185344631.31024\n",
      "[6]\tvalidation-rmse:181166034.58134\n",
      "[7]\tvalidation-rmse:176961793.77268\n",
      "[8]\tvalidation-rmse:172544969.76826\n",
      "[9]\tvalidation-rmse:168424470.70731\n",
      "168424470.8396143\n"
     ]
    },
    {
     "name": "stderr",
     "output_type": "stream",
     "text": [
      "d:\\anaconda3\\envs\\F30\\Lib\\site-packages\\xgboost\\data.py:312: FutureWarning: is_sparse is deprecated and will be removed in a future version. Check `isinstance(dtype, pd.SparseDtype)` instead.\n",
      "  if is_sparse(dtype):\n",
      "d:\\anaconda3\\envs\\F30\\Lib\\site-packages\\xgboost\\data.py:314: FutureWarning: is_categorical_dtype is deprecated and will be removed in a future version. Use isinstance(dtype, CategoricalDtype) instead\n",
      "  elif is_categorical_dtype(dtype) and enable_categorical:\n",
      "d:\\anaconda3\\envs\\F30\\Lib\\site-packages\\xgboost\\data.py:345: FutureWarning: is_categorical_dtype is deprecated and will be removed in a future version. Use isinstance(dtype, CategoricalDtype) instead\n",
      "  if is_categorical_dtype(dtype)\n",
      "d:\\anaconda3\\envs\\F30\\Lib\\site-packages\\xgboost\\data.py:336: FutureWarning: is_categorical_dtype is deprecated and will be removed in a future version. Use isinstance(dtype, CategoricalDtype) instead\n",
      "  return is_int or is_bool or is_float or is_categorical_dtype(dtype)\n",
      "d:\\anaconda3\\envs\\F30\\Lib\\site-packages\\xgboost\\data.py:440: FutureWarning: is_sparse is deprecated and will be removed in a future version. Check `isinstance(dtype, pd.SparseDtype)` instead.\n",
      "  if is_sparse(data):\n",
      "d:\\anaconda3\\envs\\F30\\Lib\\site-packages\\xgboost\\data.py:312: FutureWarning: is_sparse is deprecated and will be removed in a future version. Check `isinstance(dtype, pd.SparseDtype)` instead.\n",
      "  if is_sparse(dtype):\n",
      "d:\\anaconda3\\envs\\F30\\Lib\\site-packages\\xgboost\\data.py:314: FutureWarning: is_categorical_dtype is deprecated and will be removed in a future version. Use isinstance(dtype, CategoricalDtype) instead\n",
      "  elif is_categorical_dtype(dtype) and enable_categorical:\n",
      "d:\\anaconda3\\envs\\F30\\Lib\\site-packages\\xgboost\\data.py:345: FutureWarning: is_categorical_dtype is deprecated and will be removed in a future version. Use isinstance(dtype, CategoricalDtype) instead\n",
      "  if is_categorical_dtype(dtype)\n",
      "d:\\anaconda3\\envs\\F30\\Lib\\site-packages\\xgboost\\data.py:336: FutureWarning: is_categorical_dtype is deprecated and will be removed in a future version. Use isinstance(dtype, CategoricalDtype) instead\n",
      "  return is_int or is_bool or is_float or is_categorical_dtype(dtype)\n",
      "d:\\anaconda3\\envs\\F30\\Lib\\site-packages\\xgboost\\data.py:440: FutureWarning: is_sparse is deprecated and will be removed in a future version. Check `isinstance(dtype, pd.SparseDtype)` instead.\n",
      "  if is_sparse(data):\n"
     ]
    }
   ],
   "source": [
    "# xgboost\n",
    "# set the parameters for the xgb model\n",
    "param = {'objective': 'reg:squarederror', \n",
    "              'eta': 0.035, \n",
    "              'max_depth': 13, \n",
    "              'subsample': 0.6, \n",
    "              'colsample_bytree': 0.7,  \n",
    "              'eval_metric': 'rmse', \n",
    "}\n",
    "# train the xgb model\n",
    "xgb_model_non_error = []\n",
    "xgb_prediction = []\n",
    "for train_index, val_index in kf.split(non_error_train):\n",
    "    X_train, X_val = non_error_train.iloc[train_index][feature_regression], non_error_train.iloc[val_index][feature_regression]\n",
    "    y_train, y_val = non_error_train.iloc[train_index][target], non_error_train.iloc[val_index][target]\n",
    "    train_data = xgb.DMatrix(X_train, label=y_train)\n",
    "    val_data = xgb.DMatrix(X_val, label=y_val)\n",
    "    xgb_model = xgb.train(param, train_data, evals=[(val_data, 'validation')])\n",
    "    xgb_model_non_error.append(xgb_model)\n",
    "    # evaluate the model\n",
    "    y_pred = xgb_model.predict(val_data)\n",
    "    xgb_prediction.append(y_pred)\n",
    "    # calculate the loss\n",
    "    loss = np.sqrt(sum((y_pred - y_val) ** 2) / len(y_val))\n",
    "    print(loss)\n"
   ]
  },
  {
   "cell_type": "code",
   "execution_count": 203,
   "metadata": {},
   "outputs": [
    {
     "name": "stdout",
     "output_type": "stream",
     "text": [
      "113752941.6868511\n",
      "113368690.6985377\n",
      "94560956.53176838\n",
      "101486070.47846329\n",
      "93464782.10233791\n"
     ]
    }
   ],
   "source": [
    "# catboost\n",
    "# set the parameters for the cat model\n",
    "param = {'iterations' : 2000,\n",
    "        'learning_rate':0.07,\n",
    "        'depth':10,\n",
    "        'eval_metric':'RMSE',\n",
    "        'colsample_bylevel':0.8,\n",
    "        'bagging_temperature' : 0.4,\n",
    "        'metric_period' : None,\n",
    "        'early_stopping_rounds':200,\n",
    "        'verbose': False\n",
    "}\n",
    "# train the cat model\n",
    "cat_model_non_error = []\n",
    "cat_prediction = []\n",
    "for train_index, val_index in kf.split(non_error_train):\n",
    "    X_train, X_val = non_error_train.iloc[train_index][feature_regression], non_error_train.iloc[val_index][feature_regression]\n",
    "    y_train, y_val = non_error_train.iloc[train_index][target], non_error_train.iloc[val_index][target]\n",
    "    train_data = cat.Pool(X_train, label=y_train)\n",
    "    val_data = cat.Pool(X_val, label=y_val)\n",
    "    cat_model = cat.CatBoostRegressor(**param)\n",
    "    cat_model.fit(train_data, eval_set=val_data)\n",
    "    cat_model_non_error.append(cat_model)\n",
    "    # evaluate the model\n",
    "    y_pred = cat_model.predict(val_data)\n",
    "    cat_prediction.append(y_pred)\n",
    "    # calculate the loss\n",
    "    loss = np.sqrt(sum((y_pred - y_val) ** 2) / len(y_val))\n",
    "    print(loss)"
   ]
  },
  {
   "cell_type": "code",
   "execution_count": 204,
   "metadata": {},
   "outputs": [],
   "source": [
    "# predict function\n",
    "def prediction(model, data):\n",
    "    pred = []\n",
    "    for i in range(len(model)):\n",
    "        pred.append(model[i].predict(data))\n",
    "    pred = np.array(pred)\n",
    "    pred = np.mean(pred, axis=0)\n",
    "    return pred"
   ]
  },
  {
   "cell_type": "code",
   "execution_count": 205,
   "metadata": {},
   "outputs": [
    {
     "name": "stderr",
     "output_type": "stream",
     "text": [
      "d:\\anaconda3\\envs\\F30\\Lib\\site-packages\\xgboost\\data.py:312: FutureWarning: is_sparse is deprecated and will be removed in a future version. Check `isinstance(dtype, pd.SparseDtype)` instead.\n",
      "  if is_sparse(dtype):\n",
      "d:\\anaconda3\\envs\\F30\\Lib\\site-packages\\xgboost\\data.py:314: FutureWarning: is_categorical_dtype is deprecated and will be removed in a future version. Use isinstance(dtype, CategoricalDtype) instead\n",
      "  elif is_categorical_dtype(dtype) and enable_categorical:\n",
      "d:\\anaconda3\\envs\\F30\\Lib\\site-packages\\xgboost\\data.py:345: FutureWarning: is_categorical_dtype is deprecated and will be removed in a future version. Use isinstance(dtype, CategoricalDtype) instead\n",
      "  if is_categorical_dtype(dtype)\n",
      "d:\\anaconda3\\envs\\F30\\Lib\\site-packages\\xgboost\\data.py:336: FutureWarning: is_categorical_dtype is deprecated and will be removed in a future version. Use isinstance(dtype, CategoricalDtype) instead\n",
      "  return is_int or is_bool or is_float or is_categorical_dtype(dtype)\n"
     ]
    },
    {
     "data": {
      "text/html": [
       "<style>#sk-container-id-6 {color: black;}#sk-container-id-6 pre{padding: 0;}#sk-container-id-6 div.sk-toggleable {background-color: white;}#sk-container-id-6 label.sk-toggleable__label {cursor: pointer;display: block;width: 100%;margin-bottom: 0;padding: 0.3em;box-sizing: border-box;text-align: center;}#sk-container-id-6 label.sk-toggleable__label-arrow:before {content: \"▸\";float: left;margin-right: 0.25em;color: #696969;}#sk-container-id-6 label.sk-toggleable__label-arrow:hover:before {color: black;}#sk-container-id-6 div.sk-estimator:hover label.sk-toggleable__label-arrow:before {color: black;}#sk-container-id-6 div.sk-toggleable__content {max-height: 0;max-width: 0;overflow: hidden;text-align: left;background-color: #f0f8ff;}#sk-container-id-6 div.sk-toggleable__content pre {margin: 0.2em;color: black;border-radius: 0.25em;background-color: #f0f8ff;}#sk-container-id-6 input.sk-toggleable__control:checked~div.sk-toggleable__content {max-height: 200px;max-width: 100%;overflow: auto;}#sk-container-id-6 input.sk-toggleable__control:checked~label.sk-toggleable__label-arrow:before {content: \"▾\";}#sk-container-id-6 div.sk-estimator input.sk-toggleable__control:checked~label.sk-toggleable__label {background-color: #d4ebff;}#sk-container-id-6 div.sk-label input.sk-toggleable__control:checked~label.sk-toggleable__label {background-color: #d4ebff;}#sk-container-id-6 input.sk-hidden--visually {border: 0;clip: rect(1px 1px 1px 1px);clip: rect(1px, 1px, 1px, 1px);height: 1px;margin: -1px;overflow: hidden;padding: 0;position: absolute;width: 1px;}#sk-container-id-6 div.sk-estimator {font-family: monospace;background-color: #f0f8ff;border: 1px dotted black;border-radius: 0.25em;box-sizing: border-box;margin-bottom: 0.5em;}#sk-container-id-6 div.sk-estimator:hover {background-color: #d4ebff;}#sk-container-id-6 div.sk-parallel-item::after {content: \"\";width: 100%;border-bottom: 1px solid gray;flex-grow: 1;}#sk-container-id-6 div.sk-label:hover label.sk-toggleable__label {background-color: #d4ebff;}#sk-container-id-6 div.sk-serial::before {content: \"\";position: absolute;border-left: 1px solid gray;box-sizing: border-box;top: 0;bottom: 0;left: 50%;z-index: 0;}#sk-container-id-6 div.sk-serial {display: flex;flex-direction: column;align-items: center;background-color: white;padding-right: 0.2em;padding-left: 0.2em;position: relative;}#sk-container-id-6 div.sk-item {position: relative;z-index: 1;}#sk-container-id-6 div.sk-parallel {display: flex;align-items: stretch;justify-content: center;background-color: white;position: relative;}#sk-container-id-6 div.sk-item::before, #sk-container-id-6 div.sk-parallel-item::before {content: \"\";position: absolute;border-left: 1px solid gray;box-sizing: border-box;top: 0;bottom: 0;left: 50%;z-index: -1;}#sk-container-id-6 div.sk-parallel-item {display: flex;flex-direction: column;z-index: 1;position: relative;background-color: white;}#sk-container-id-6 div.sk-parallel-item:first-child::after {align-self: flex-end;width: 50%;}#sk-container-id-6 div.sk-parallel-item:last-child::after {align-self: flex-start;width: 50%;}#sk-container-id-6 div.sk-parallel-item:only-child::after {width: 0;}#sk-container-id-6 div.sk-dashed-wrapped {border: 1px dashed gray;margin: 0 0.4em 0.5em 0.4em;box-sizing: border-box;padding-bottom: 0.4em;background-color: white;}#sk-container-id-6 div.sk-label label {font-family: monospace;font-weight: bold;display: inline-block;line-height: 1.2em;}#sk-container-id-6 div.sk-label-container {text-align: center;}#sk-container-id-6 div.sk-container {/* jupyter's `normalize.less` sets `[hidden] { display: none; }` but bootstrap.min.css set `[hidden] { display: none !important; }` so we also need the `!important` here to be able to override the default hidden behavior on the sphinx rendered scikit-learn.org. See: https://github.com/scikit-learn/scikit-learn/issues/21755 */display: inline-block !important;position: relative;}#sk-container-id-6 div.sk-text-repr-fallback {display: none;}</style><div id=\"sk-container-id-6\" class=\"sk-top-container\"><div class=\"sk-text-repr-fallback\"><pre>LinearRegression()</pre><b>In a Jupyter environment, please rerun this cell to show the HTML representation or trust the notebook. <br />On GitHub, the HTML representation is unable to render, please try loading this page with nbviewer.org.</b></div><div class=\"sk-container\" hidden><div class=\"sk-item\"><div class=\"sk-estimator sk-toggleable\"><input class=\"sk-toggleable__control sk-hidden--visually\" id=\"sk-estimator-id-6\" type=\"checkbox\" checked><label for=\"sk-estimator-id-6\" class=\"sk-toggleable__label sk-toggleable__label-arrow\">LinearRegression</label><div class=\"sk-toggleable__content\"><pre>LinearRegression()</pre></div></div></div></div></div>"
      ],
      "text/plain": [
       "LinearRegression()"
      ]
     },
     "execution_count": 205,
     "metadata": {},
     "output_type": "execute_result"
    }
   ],
   "source": [
    "# # train a linear regression model to adjust the prediction of the three models\n",
    "\n",
    "# predict the training set using the three models\n",
    "lgb_train = prediction(lgb_model_non_error, non_error_train[feature_regression])\n",
    "xgb_train = prediction(xgb_model_non_error, xgb.DMatrix(non_error_train[feature_regression]))\n",
    "cat_train = prediction(cat_model_non_error, cat.Pool(non_error_train[feature_regression]))\n",
    "\n",
    "# combine the prediction of the three models\n",
    "train_pred = np.array([lgb_train, xgb_train, cat_train])\n",
    "train_pred = np.transpose(train_pred)\n",
    "# train a linear regression model\n",
    "lr_non_error = LinearRegression()\n",
    "lr_non_error.fit(train_pred, non_error_train[target])\n",
    "\n"
   ]
  },
  {
   "cell_type": "markdown",
   "metadata": {},
   "source": [
    "### 2. Model for error data"
   ]
  },
  {
   "cell_type": "code",
   "execution_count": 206,
   "metadata": {},
   "outputs": [
    {
     "name": "stdout",
     "output_type": "stream",
     "text": [
      "18832224.4841515\n",
      "27995015.14529116\n",
      "22698737.622587197\n",
      "32099990.0559448\n",
      "19444636.56191545\n"
     ]
    }
   ],
   "source": [
    "# lightgbm\n",
    "# set the parameters for the lgb model\n",
    "param = {'num_leaves': 500,\n",
    "          'objective': 'regression',\n",
    "          'metric': 'rmse',\n",
    "          'max_depth': 12,\n",
    "          'learning_rate': 0.1,\n",
    "          'feature_fraction': 0.95,\n",
    "          'min_data_in_leaf': 5,\n",
    "          'bagging_fraction': 0.9,\n",
    "          'bagging_freq': 1,\n",
    "          'lambda_l1': 0.2,\n",
    "          'lambda_l2': 1,\n",
    "          'verbose': -1}\n",
    "\n",
    "# train the lgb model\n",
    "lgb_model_error = []\n",
    "lgb_prediction = []\n",
    "for train_index, val_index in kf.split(error_train):\n",
    "    X_train, X_val = error_train.iloc[train_index][feature_regression], error_train.iloc[val_index][feature_regression]\n",
    "    y_train, y_val = error_train.iloc[train_index][target], error_train.iloc[val_index][target]\n",
    "    train_data = lgb.Dataset(X_train, label=y_train)\n",
    "    val_data = lgb.Dataset(X_val, label=y_val)\n",
    "    lgb_model = lgb.train(param, train_data, valid_sets=[val_data])\n",
    "    lgb_model_error.append(lgb_model)\n",
    "    # evaluate the model\n",
    "    y_pred = lgb_model.predict(X_val, num_iteration=lgb_model.best_iteration)\n",
    "    lgb_prediction.append(y_pred)\n",
    "    # calculate the loss\n",
    "    loss = np.sqrt(sum((y_pred - y_val) ** 2) / len(y_val))\n",
    "    print(loss)\n"
   ]
  },
  {
   "cell_type": "code",
   "execution_count": 207,
   "metadata": {},
   "outputs": [
    {
     "name": "stdout",
     "output_type": "stream",
     "text": [
      "[0]\tvalidation-rmse:29147566.92283\n",
      "[1]\tvalidation-rmse:28454135.00974\n",
      "[2]\tvalidation-rmse:27820700.82881\n"
     ]
    },
    {
     "name": "stdout",
     "output_type": "stream",
     "text": [
      "[3]\tvalidation-rmse:27324126.21378\n",
      "[4]\tvalidation-rmse:26742300.55134\n",
      "[5]\tvalidation-rmse:26053077.05514\n",
      "[6]\tvalidation-rmse:25478829.85432\n",
      "[7]\tvalidation-rmse:24997572.34685\n",
      "[8]\tvalidation-rmse:24707232.19042\n",
      "[9]\tvalidation-rmse:24351208.89863\n",
      "24351208.98845471\n",
      "[0]\tvalidation-rmse:44255578.49231\n",
      "[1]\tvalidation-rmse:43627693.14015\n",
      "[2]\tvalidation-rmse:42836534.74271\n",
      "[3]\tvalidation-rmse:42473289.26638\n"
     ]
    },
    {
     "name": "stderr",
     "output_type": "stream",
     "text": [
      "d:\\anaconda3\\envs\\F30\\Lib\\site-packages\\xgboost\\data.py:312: FutureWarning: is_sparse is deprecated and will be removed in a future version. Check `isinstance(dtype, pd.SparseDtype)` instead.\n",
      "  if is_sparse(dtype):\n",
      "d:\\anaconda3\\envs\\F30\\Lib\\site-packages\\xgboost\\data.py:314: FutureWarning: is_categorical_dtype is deprecated and will be removed in a future version. Use isinstance(dtype, CategoricalDtype) instead\n",
      "  elif is_categorical_dtype(dtype) and enable_categorical:\n",
      "d:\\anaconda3\\envs\\F30\\Lib\\site-packages\\xgboost\\data.py:345: FutureWarning: is_categorical_dtype is deprecated and will be removed in a future version. Use isinstance(dtype, CategoricalDtype) instead\n",
      "  if is_categorical_dtype(dtype)\n",
      "d:\\anaconda3\\envs\\F30\\Lib\\site-packages\\xgboost\\data.py:336: FutureWarning: is_categorical_dtype is deprecated and will be removed in a future version. Use isinstance(dtype, CategoricalDtype) instead\n",
      "  return is_int or is_bool or is_float or is_categorical_dtype(dtype)\n",
      "d:\\anaconda3\\envs\\F30\\Lib\\site-packages\\xgboost\\data.py:440: FutureWarning: is_sparse is deprecated and will be removed in a future version. Check `isinstance(dtype, pd.SparseDtype)` instead.\n",
      "  if is_sparse(data):\n",
      "d:\\anaconda3\\envs\\F30\\Lib\\site-packages\\xgboost\\data.py:312: FutureWarning: is_sparse is deprecated and will be removed in a future version. Check `isinstance(dtype, pd.SparseDtype)` instead.\n",
      "  if is_sparse(dtype):\n",
      "d:\\anaconda3\\envs\\F30\\Lib\\site-packages\\xgboost\\data.py:314: FutureWarning: is_categorical_dtype is deprecated and will be removed in a future version. Use isinstance(dtype, CategoricalDtype) instead\n",
      "  elif is_categorical_dtype(dtype) and enable_categorical:\n",
      "d:\\anaconda3\\envs\\F30\\Lib\\site-packages\\xgboost\\data.py:345: FutureWarning: is_categorical_dtype is deprecated and will be removed in a future version. Use isinstance(dtype, CategoricalDtype) instead\n",
      "  if is_categorical_dtype(dtype)\n",
      "d:\\anaconda3\\envs\\F30\\Lib\\site-packages\\xgboost\\data.py:336: FutureWarning: is_categorical_dtype is deprecated and will be removed in a future version. Use isinstance(dtype, CategoricalDtype) instead\n",
      "  return is_int or is_bool or is_float or is_categorical_dtype(dtype)\n",
      "d:\\anaconda3\\envs\\F30\\Lib\\site-packages\\xgboost\\data.py:440: FutureWarning: is_sparse is deprecated and will be removed in a future version. Check `isinstance(dtype, pd.SparseDtype)` instead.\n",
      "  if is_sparse(data):\n",
      "d:\\anaconda3\\envs\\F30\\Lib\\site-packages\\xgboost\\data.py:312: FutureWarning: is_sparse is deprecated and will be removed in a future version. Check `isinstance(dtype, pd.SparseDtype)` instead.\n",
      "  if is_sparse(dtype):\n",
      "d:\\anaconda3\\envs\\F30\\Lib\\site-packages\\xgboost\\data.py:314: FutureWarning: is_categorical_dtype is deprecated and will be removed in a future version. Use isinstance(dtype, CategoricalDtype) instead\n",
      "  elif is_categorical_dtype(dtype) and enable_categorical:\n",
      "d:\\anaconda3\\envs\\F30\\Lib\\site-packages\\xgboost\\data.py:345: FutureWarning: is_categorical_dtype is deprecated and will be removed in a future version. Use isinstance(dtype, CategoricalDtype) instead\n",
      "  if is_categorical_dtype(dtype)\n",
      "d:\\anaconda3\\envs\\F30\\Lib\\site-packages\\xgboost\\data.py:336: FutureWarning: is_categorical_dtype is deprecated and will be removed in a future version. Use isinstance(dtype, CategoricalDtype) instead\n",
      "  return is_int or is_bool or is_float or is_categorical_dtype(dtype)\n",
      "d:\\anaconda3\\envs\\F30\\Lib\\site-packages\\xgboost\\data.py:440: FutureWarning: is_sparse is deprecated and will be removed in a future version. Check `isinstance(dtype, pd.SparseDtype)` instead.\n",
      "  if is_sparse(data):\n",
      "d:\\anaconda3\\envs\\F30\\Lib\\site-packages\\xgboost\\data.py:312: FutureWarning: is_sparse is deprecated and will be removed in a future version. Check `isinstance(dtype, pd.SparseDtype)` instead.\n",
      "  if is_sparse(dtype):\n",
      "d:\\anaconda3\\envs\\F30\\Lib\\site-packages\\xgboost\\data.py:314: FutureWarning: is_categorical_dtype is deprecated and will be removed in a future version. Use isinstance(dtype, CategoricalDtype) instead\n",
      "  elif is_categorical_dtype(dtype) and enable_categorical:\n",
      "d:\\anaconda3\\envs\\F30\\Lib\\site-packages\\xgboost\\data.py:345: FutureWarning: is_categorical_dtype is deprecated and will be removed in a future version. Use isinstance(dtype, CategoricalDtype) instead\n",
      "  if is_categorical_dtype(dtype)\n",
      "d:\\anaconda3\\envs\\F30\\Lib\\site-packages\\xgboost\\data.py:336: FutureWarning: is_categorical_dtype is deprecated and will be removed in a future version. Use isinstance(dtype, CategoricalDtype) instead\n",
      "  return is_int or is_bool or is_float or is_categorical_dtype(dtype)\n",
      "d:\\anaconda3\\envs\\F30\\Lib\\site-packages\\xgboost\\data.py:440: FutureWarning: is_sparse is deprecated and will be removed in a future version. Check `isinstance(dtype, pd.SparseDtype)` instead.\n",
      "  if is_sparse(data):\n"
     ]
    },
    {
     "name": "stdout",
     "output_type": "stream",
     "text": [
      "[4]\tvalidation-rmse:41911572.60265\n",
      "[5]\tvalidation-rmse:41327412.90391\n",
      "[6]\tvalidation-rmse:40757320.73281\n",
      "[7]\tvalidation-rmse:40254898.20946\n",
      "[8]\tvalidation-rmse:39725108.13511\n",
      "[9]\tvalidation-rmse:39307936.26633\n",
      "39307936.61681087\n",
      "[0]\tvalidation-rmse:33591604.56976\n",
      "[1]\tvalidation-rmse:32930060.71427\n",
      "[2]\tvalidation-rmse:32483403.96530\n",
      "[3]\tvalidation-rmse:32192978.09840\n",
      "[4]\tvalidation-rmse:31723125.83116\n",
      "[5]\tvalidation-rmse:31336324.57816\n",
      "[6]\tvalidation-rmse:31047206.69751\n",
      "[7]\tvalidation-rmse:30505457.72085\n",
      "[8]\tvalidation-rmse:30222101.96164\n",
      "[9]\tvalidation-rmse:29814775.54874\n",
      "29814775.525893066\n",
      "[0]\tvalidation-rmse:46509799.23408\n",
      "[1]\tvalidation-rmse:45692783.62077\n",
      "[2]\tvalidation-rmse:44949317.63112\n"
     ]
    },
    {
     "name": "stderr",
     "output_type": "stream",
     "text": [
      "d:\\anaconda3\\envs\\F30\\Lib\\site-packages\\xgboost\\data.py:312: FutureWarning: is_sparse is deprecated and will be removed in a future version. Check `isinstance(dtype, pd.SparseDtype)` instead.\n",
      "  if is_sparse(dtype):\n",
      "d:\\anaconda3\\envs\\F30\\Lib\\site-packages\\xgboost\\data.py:314: FutureWarning: is_categorical_dtype is deprecated and will be removed in a future version. Use isinstance(dtype, CategoricalDtype) instead\n",
      "  elif is_categorical_dtype(dtype) and enable_categorical:\n",
      "d:\\anaconda3\\envs\\F30\\Lib\\site-packages\\xgboost\\data.py:345: FutureWarning: is_categorical_dtype is deprecated and will be removed in a future version. Use isinstance(dtype, CategoricalDtype) instead\n",
      "  if is_categorical_dtype(dtype)\n",
      "d:\\anaconda3\\envs\\F30\\Lib\\site-packages\\xgboost\\data.py:336: FutureWarning: is_categorical_dtype is deprecated and will be removed in a future version. Use isinstance(dtype, CategoricalDtype) instead\n",
      "  return is_int or is_bool or is_float or is_categorical_dtype(dtype)\n",
      "d:\\anaconda3\\envs\\F30\\Lib\\site-packages\\xgboost\\data.py:440: FutureWarning: is_sparse is deprecated and will be removed in a future version. Check `isinstance(dtype, pd.SparseDtype)` instead.\n",
      "  if is_sparse(data):\n",
      "d:\\anaconda3\\envs\\F30\\Lib\\site-packages\\xgboost\\data.py:312: FutureWarning: is_sparse is deprecated and will be removed in a future version. Check `isinstance(dtype, pd.SparseDtype)` instead.\n",
      "  if is_sparse(dtype):\n",
      "d:\\anaconda3\\envs\\F30\\Lib\\site-packages\\xgboost\\data.py:314: FutureWarning: is_categorical_dtype is deprecated and will be removed in a future version. Use isinstance(dtype, CategoricalDtype) instead\n",
      "  elif is_categorical_dtype(dtype) and enable_categorical:\n",
      "d:\\anaconda3\\envs\\F30\\Lib\\site-packages\\xgboost\\data.py:345: FutureWarning: is_categorical_dtype is deprecated and will be removed in a future version. Use isinstance(dtype, CategoricalDtype) instead\n",
      "  if is_categorical_dtype(dtype)\n",
      "d:\\anaconda3\\envs\\F30\\Lib\\site-packages\\xgboost\\data.py:336: FutureWarning: is_categorical_dtype is deprecated and will be removed in a future version. Use isinstance(dtype, CategoricalDtype) instead\n",
      "  return is_int or is_bool or is_float or is_categorical_dtype(dtype)\n",
      "d:\\anaconda3\\envs\\F30\\Lib\\site-packages\\xgboost\\data.py:440: FutureWarning: is_sparse is deprecated and will be removed in a future version. Check `isinstance(dtype, pd.SparseDtype)` instead.\n",
      "  if is_sparse(data):\n",
      "d:\\anaconda3\\envs\\F30\\Lib\\site-packages\\xgboost\\data.py:312: FutureWarning: is_sparse is deprecated and will be removed in a future version. Check `isinstance(dtype, pd.SparseDtype)` instead.\n",
      "  if is_sparse(dtype):\n",
      "d:\\anaconda3\\envs\\F30\\Lib\\site-packages\\xgboost\\data.py:314: FutureWarning: is_categorical_dtype is deprecated and will be removed in a future version. Use isinstance(dtype, CategoricalDtype) instead\n",
      "  elif is_categorical_dtype(dtype) and enable_categorical:\n",
      "d:\\anaconda3\\envs\\F30\\Lib\\site-packages\\xgboost\\data.py:345: FutureWarning: is_categorical_dtype is deprecated and will be removed in a future version. Use isinstance(dtype, CategoricalDtype) instead\n",
      "  if is_categorical_dtype(dtype)\n",
      "d:\\anaconda3\\envs\\F30\\Lib\\site-packages\\xgboost\\data.py:336: FutureWarning: is_categorical_dtype is deprecated and will be removed in a future version. Use isinstance(dtype, CategoricalDtype) instead\n",
      "  return is_int or is_bool or is_float or is_categorical_dtype(dtype)\n",
      "d:\\anaconda3\\envs\\F30\\Lib\\site-packages\\xgboost\\data.py:440: FutureWarning: is_sparse is deprecated and will be removed in a future version. Check `isinstance(dtype, pd.SparseDtype)` instead.\n",
      "  if is_sparse(data):\n",
      "d:\\anaconda3\\envs\\F30\\Lib\\site-packages\\xgboost\\data.py:312: FutureWarning: is_sparse is deprecated and will be removed in a future version. Check `isinstance(dtype, pd.SparseDtype)` instead.\n",
      "  if is_sparse(dtype):\n",
      "d:\\anaconda3\\envs\\F30\\Lib\\site-packages\\xgboost\\data.py:314: FutureWarning: is_categorical_dtype is deprecated and will be removed in a future version. Use isinstance(dtype, CategoricalDtype) instead\n",
      "  elif is_categorical_dtype(dtype) and enable_categorical:\n",
      "d:\\anaconda3\\envs\\F30\\Lib\\site-packages\\xgboost\\data.py:345: FutureWarning: is_categorical_dtype is deprecated and will be removed in a future version. Use isinstance(dtype, CategoricalDtype) instead\n",
      "  if is_categorical_dtype(dtype)\n",
      "d:\\anaconda3\\envs\\F30\\Lib\\site-packages\\xgboost\\data.py:336: FutureWarning: is_categorical_dtype is deprecated and will be removed in a future version. Use isinstance(dtype, CategoricalDtype) instead\n",
      "  return is_int or is_bool or is_float or is_categorical_dtype(dtype)\n",
      "d:\\anaconda3\\envs\\F30\\Lib\\site-packages\\xgboost\\data.py:440: FutureWarning: is_sparse is deprecated and will be removed in a future version. Check `isinstance(dtype, pd.SparseDtype)` instead.\n",
      "  if is_sparse(data):\n"
     ]
    },
    {
     "name": "stdout",
     "output_type": "stream",
     "text": [
      "[3]\tvalidation-rmse:44459128.80238\n",
      "[4]\tvalidation-rmse:43793164.09423\n",
      "[5]\tvalidation-rmse:43141369.82664\n",
      "[6]\tvalidation-rmse:42672247.79148\n",
      "[7]\tvalidation-rmse:42422069.62636\n",
      "[8]\tvalidation-rmse:42262555.84714\n",
      "[9]\tvalidation-rmse:41748013.86867\n",
      "41748015.45977836\n",
      "[0]\tvalidation-rmse:33864108.61611\n",
      "[1]\tvalidation-rmse:33284226.60431\n",
      "[2]\tvalidation-rmse:32452973.03140\n",
      "[3]\tvalidation-rmse:32001175.97847\n",
      "[4]\tvalidation-rmse:31206102.97681\n",
      "[5]\tvalidation-rmse:30528353.81171\n",
      "[6]\tvalidation-rmse:30142719.12898\n",
      "[7]\tvalidation-rmse:29785945.95563\n",
      "[8]\tvalidation-rmse:29282998.55943\n",
      "[9]\tvalidation-rmse:28912389.55972\n",
      "28912389.684331506\n"
     ]
    },
    {
     "name": "stderr",
     "output_type": "stream",
     "text": [
      "d:\\anaconda3\\envs\\F30\\Lib\\site-packages\\xgboost\\data.py:312: FutureWarning: is_sparse is deprecated and will be removed in a future version. Check `isinstance(dtype, pd.SparseDtype)` instead.\n",
      "  if is_sparse(dtype):\n",
      "d:\\anaconda3\\envs\\F30\\Lib\\site-packages\\xgboost\\data.py:314: FutureWarning: is_categorical_dtype is deprecated and will be removed in a future version. Use isinstance(dtype, CategoricalDtype) instead\n",
      "  elif is_categorical_dtype(dtype) and enable_categorical:\n",
      "d:\\anaconda3\\envs\\F30\\Lib\\site-packages\\xgboost\\data.py:345: FutureWarning: is_categorical_dtype is deprecated and will be removed in a future version. Use isinstance(dtype, CategoricalDtype) instead\n",
      "  if is_categorical_dtype(dtype)\n",
      "d:\\anaconda3\\envs\\F30\\Lib\\site-packages\\xgboost\\data.py:336: FutureWarning: is_categorical_dtype is deprecated and will be removed in a future version. Use isinstance(dtype, CategoricalDtype) instead\n",
      "  return is_int or is_bool or is_float or is_categorical_dtype(dtype)\n",
      "d:\\anaconda3\\envs\\F30\\Lib\\site-packages\\xgboost\\data.py:440: FutureWarning: is_sparse is deprecated and will be removed in a future version. Check `isinstance(dtype, pd.SparseDtype)` instead.\n",
      "  if is_sparse(data):\n",
      "d:\\anaconda3\\envs\\F30\\Lib\\site-packages\\xgboost\\data.py:312: FutureWarning: is_sparse is deprecated and will be removed in a future version. Check `isinstance(dtype, pd.SparseDtype)` instead.\n",
      "  if is_sparse(dtype):\n",
      "d:\\anaconda3\\envs\\F30\\Lib\\site-packages\\xgboost\\data.py:314: FutureWarning: is_categorical_dtype is deprecated and will be removed in a future version. Use isinstance(dtype, CategoricalDtype) instead\n",
      "  elif is_categorical_dtype(dtype) and enable_categorical:\n",
      "d:\\anaconda3\\envs\\F30\\Lib\\site-packages\\xgboost\\data.py:345: FutureWarning: is_categorical_dtype is deprecated and will be removed in a future version. Use isinstance(dtype, CategoricalDtype) instead\n",
      "  if is_categorical_dtype(dtype)\n",
      "d:\\anaconda3\\envs\\F30\\Lib\\site-packages\\xgboost\\data.py:336: FutureWarning: is_categorical_dtype is deprecated and will be removed in a future version. Use isinstance(dtype, CategoricalDtype) instead\n",
      "  return is_int or is_bool or is_float or is_categorical_dtype(dtype)\n",
      "d:\\anaconda3\\envs\\F30\\Lib\\site-packages\\xgboost\\data.py:440: FutureWarning: is_sparse is deprecated and will be removed in a future version. Check `isinstance(dtype, pd.SparseDtype)` instead.\n",
      "  if is_sparse(data):\n"
     ]
    }
   ],
   "source": [
    "# xgboost\n",
    "# set the parameters for the xgb model\n",
    "param = {'objective': 'reg:squarederror', \n",
    "              'eta': 0.035, \n",
    "              'max_depth': 13, \n",
    "              'subsample': 0.6, \n",
    "              'colsample_bytree': 0.7,  \n",
    "              'eval_metric': 'rmse', \n",
    "}\n",
    "# train the xgb model\n",
    "xgb_model_error = []\n",
    "xgb_prediction = []\n",
    "for train_index, val_index in kf.split(error_train):\n",
    "    X_train, X_val = error_train.iloc[train_index][feature_regression], error_train.iloc[val_index][feature_regression]\n",
    "    y_train, y_val = error_train.iloc[train_index][target], error_train.iloc[val_index][target]\n",
    "    train_data = xgb.DMatrix(X_train, label=y_train)\n",
    "    val_data = xgb.DMatrix(X_val, label=y_val)\n",
    "    xgb_model = xgb.train(param, train_data, evals=[(val_data, 'validation')])\n",
    "    xgb_model_error.append(xgb_model)\n",
    "    # evaluate the model\n",
    "    y_pred = xgb_model.predict(val_data)\n",
    "    xgb_prediction.append(y_pred)\n",
    "    # calculate the loss\n",
    "    loss = np.sqrt(sum((y_pred - y_val) ** 2) / len(y_val))\n",
    "    print(loss)\n"
   ]
  },
  {
   "cell_type": "code",
   "execution_count": 208,
   "metadata": {},
   "outputs": [
    {
     "name": "stdout",
     "output_type": "stream",
     "text": [
      "16081756.050937673\n",
      "30638415.582608394\n",
      "22225070.13111147\n",
      "36230488.22467325\n",
      "20909977.087877672\n"
     ]
    }
   ],
   "source": [
    "# catboost\n",
    "# set the parameters for the cat model\n",
    "param = {'iterations' : 2000,\n",
    "        'learning_rate':0.07,\n",
    "        'depth':10,\n",
    "        'eval_metric':'RMSE',\n",
    "        'colsample_bylevel':0.8,\n",
    "        'bagging_temperature' : 0.4,\n",
    "        'metric_period' : None,\n",
    "        'early_stopping_rounds':200,\n",
    "        'verbose': False\n",
    "}\n",
    "# train the cat model\n",
    "cat_model_error = []\n",
    "cat_prediction = []\n",
    "for train_index, val_index in kf.split(error_train):\n",
    "    X_train, X_val = error_train.iloc[train_index][feature_regression], error_train.iloc[val_index][feature_regression]\n",
    "    y_train, y_val = error_train.iloc[train_index][target], error_train.iloc[val_index][target]\n",
    "    train_data = cat.Pool(X_train, label=y_train)\n",
    "    val_data = cat.Pool(X_val, label=y_val)\n",
    "    cat_model = cat.CatBoostRegressor(**param)\n",
    "    cat_model.fit(train_data, eval_set=val_data)\n",
    "    cat_model_error.append(cat_model)\n",
    "    # evaluate the model\n",
    "    y_pred = cat_model.predict(val_data)\n",
    "    cat_prediction.append(y_pred)\n",
    "    # calculate the loss\n",
    "    loss = np.sqrt(sum((y_pred - y_val) ** 2) / len(y_val))\n",
    "    print(loss)\n",
    "    "
   ]
  },
  {
   "cell_type": "code",
   "execution_count": 209,
   "metadata": {},
   "outputs": [
    {
     "name": "stderr",
     "output_type": "stream",
     "text": [
      "d:\\anaconda3\\envs\\F30\\Lib\\site-packages\\xgboost\\data.py:312: FutureWarning: is_sparse is deprecated and will be removed in a future version. Check `isinstance(dtype, pd.SparseDtype)` instead.\n",
      "  if is_sparse(dtype):\n",
      "d:\\anaconda3\\envs\\F30\\Lib\\site-packages\\xgboost\\data.py:314: FutureWarning: is_categorical_dtype is deprecated and will be removed in a future version. Use isinstance(dtype, CategoricalDtype) instead\n",
      "  elif is_categorical_dtype(dtype) and enable_categorical:\n",
      "d:\\anaconda3\\envs\\F30\\Lib\\site-packages\\xgboost\\data.py:345: FutureWarning: is_categorical_dtype is deprecated and will be removed in a future version. Use isinstance(dtype, CategoricalDtype) instead\n",
      "  if is_categorical_dtype(dtype)\n",
      "d:\\anaconda3\\envs\\F30\\Lib\\site-packages\\xgboost\\data.py:336: FutureWarning: is_categorical_dtype is deprecated and will be removed in a future version. Use isinstance(dtype, CategoricalDtype) instead\n",
      "  return is_int or is_bool or is_float or is_categorical_dtype(dtype)\n"
     ]
    },
    {
     "data": {
      "text/html": [
       "<style>#sk-container-id-7 {color: black;}#sk-container-id-7 pre{padding: 0;}#sk-container-id-7 div.sk-toggleable {background-color: white;}#sk-container-id-7 label.sk-toggleable__label {cursor: pointer;display: block;width: 100%;margin-bottom: 0;padding: 0.3em;box-sizing: border-box;text-align: center;}#sk-container-id-7 label.sk-toggleable__label-arrow:before {content: \"▸\";float: left;margin-right: 0.25em;color: #696969;}#sk-container-id-7 label.sk-toggleable__label-arrow:hover:before {color: black;}#sk-container-id-7 div.sk-estimator:hover label.sk-toggleable__label-arrow:before {color: black;}#sk-container-id-7 div.sk-toggleable__content {max-height: 0;max-width: 0;overflow: hidden;text-align: left;background-color: #f0f8ff;}#sk-container-id-7 div.sk-toggleable__content pre {margin: 0.2em;color: black;border-radius: 0.25em;background-color: #f0f8ff;}#sk-container-id-7 input.sk-toggleable__control:checked~div.sk-toggleable__content {max-height: 200px;max-width: 100%;overflow: auto;}#sk-container-id-7 input.sk-toggleable__control:checked~label.sk-toggleable__label-arrow:before {content: \"▾\";}#sk-container-id-7 div.sk-estimator input.sk-toggleable__control:checked~label.sk-toggleable__label {background-color: #d4ebff;}#sk-container-id-7 div.sk-label input.sk-toggleable__control:checked~label.sk-toggleable__label {background-color: #d4ebff;}#sk-container-id-7 input.sk-hidden--visually {border: 0;clip: rect(1px 1px 1px 1px);clip: rect(1px, 1px, 1px, 1px);height: 1px;margin: -1px;overflow: hidden;padding: 0;position: absolute;width: 1px;}#sk-container-id-7 div.sk-estimator {font-family: monospace;background-color: #f0f8ff;border: 1px dotted black;border-radius: 0.25em;box-sizing: border-box;margin-bottom: 0.5em;}#sk-container-id-7 div.sk-estimator:hover {background-color: #d4ebff;}#sk-container-id-7 div.sk-parallel-item::after {content: \"\";width: 100%;border-bottom: 1px solid gray;flex-grow: 1;}#sk-container-id-7 div.sk-label:hover label.sk-toggleable__label {background-color: #d4ebff;}#sk-container-id-7 div.sk-serial::before {content: \"\";position: absolute;border-left: 1px solid gray;box-sizing: border-box;top: 0;bottom: 0;left: 50%;z-index: 0;}#sk-container-id-7 div.sk-serial {display: flex;flex-direction: column;align-items: center;background-color: white;padding-right: 0.2em;padding-left: 0.2em;position: relative;}#sk-container-id-7 div.sk-item {position: relative;z-index: 1;}#sk-container-id-7 div.sk-parallel {display: flex;align-items: stretch;justify-content: center;background-color: white;position: relative;}#sk-container-id-7 div.sk-item::before, #sk-container-id-7 div.sk-parallel-item::before {content: \"\";position: absolute;border-left: 1px solid gray;box-sizing: border-box;top: 0;bottom: 0;left: 50%;z-index: -1;}#sk-container-id-7 div.sk-parallel-item {display: flex;flex-direction: column;z-index: 1;position: relative;background-color: white;}#sk-container-id-7 div.sk-parallel-item:first-child::after {align-self: flex-end;width: 50%;}#sk-container-id-7 div.sk-parallel-item:last-child::after {align-self: flex-start;width: 50%;}#sk-container-id-7 div.sk-parallel-item:only-child::after {width: 0;}#sk-container-id-7 div.sk-dashed-wrapped {border: 1px dashed gray;margin: 0 0.4em 0.5em 0.4em;box-sizing: border-box;padding-bottom: 0.4em;background-color: white;}#sk-container-id-7 div.sk-label label {font-family: monospace;font-weight: bold;display: inline-block;line-height: 1.2em;}#sk-container-id-7 div.sk-label-container {text-align: center;}#sk-container-id-7 div.sk-container {/* jupyter's `normalize.less` sets `[hidden] { display: none; }` but bootstrap.min.css set `[hidden] { display: none !important; }` so we also need the `!important` here to be able to override the default hidden behavior on the sphinx rendered scikit-learn.org. See: https://github.com/scikit-learn/scikit-learn/issues/21755 */display: inline-block !important;position: relative;}#sk-container-id-7 div.sk-text-repr-fallback {display: none;}</style><div id=\"sk-container-id-7\" class=\"sk-top-container\"><div class=\"sk-text-repr-fallback\"><pre>LinearRegression()</pre><b>In a Jupyter environment, please rerun this cell to show the HTML representation or trust the notebook. <br />On GitHub, the HTML representation is unable to render, please try loading this page with nbviewer.org.</b></div><div class=\"sk-container\" hidden><div class=\"sk-item\"><div class=\"sk-estimator sk-toggleable\"><input class=\"sk-toggleable__control sk-hidden--visually\" id=\"sk-estimator-id-7\" type=\"checkbox\" checked><label for=\"sk-estimator-id-7\" class=\"sk-toggleable__label sk-toggleable__label-arrow\">LinearRegression</label><div class=\"sk-toggleable__content\"><pre>LinearRegression()</pre></div></div></div></div></div>"
      ],
      "text/plain": [
       "LinearRegression()"
      ]
     },
     "execution_count": 209,
     "metadata": {},
     "output_type": "execute_result"
    }
   ],
   "source": [
    "# train a linear regression model to adjust the prediction of the three models\n",
    "\n",
    "lgb_train = prediction(lgb_model_error, error_train[feature_regression])\n",
    "# data = xgb.DMatrix(error_train[feature_regression], label=error_train[target])\n",
    "xgb_train = prediction(xgb_model_error, xgb.DMatrix(error_train[feature_regression]))\n",
    "cat_train = prediction(cat_model_error, cat.Pool(error_train[feature_regression]))\n",
    "\n",
    "# combine the prediction of the three models\n",
    "train_pred = np.array([lgb_train, xgb_train, cat_train])\n",
    "train_pred = np.transpose(train_pred)\n",
    "# train a linear regression model\n",
    "lr_error = LinearRegression()\n",
    "lr_error.fit(train_pred, error_train[target])\n"
   ]
  },
  {
   "cell_type": "markdown",
   "metadata": {},
   "source": [
    "## Prediction"
   ]
  },
  {
   "cell_type": "markdown",
   "metadata": {},
   "source": [
    "### 1. Prediction for error-free data"
   ]
  },
  {
   "cell_type": "code",
   "execution_count": 213,
   "metadata": {},
   "outputs": [
    {
     "name": "stdout",
     "output_type": "stream",
     "text": [
      "(3142, 73)\n"
     ]
    },
    {
     "name": "stderr",
     "output_type": "stream",
     "text": [
      "d:\\anaconda3\\envs\\F30\\Lib\\site-packages\\xgboost\\data.py:312: FutureWarning: is_sparse is deprecated and will be removed in a future version. Check `isinstance(dtype, pd.SparseDtype)` instead.\n",
      "  if is_sparse(dtype):\n",
      "d:\\anaconda3\\envs\\F30\\Lib\\site-packages\\xgboost\\data.py:314: FutureWarning: is_categorical_dtype is deprecated and will be removed in a future version. Use isinstance(dtype, CategoricalDtype) instead\n",
      "  elif is_categorical_dtype(dtype) and enable_categorical:\n",
      "d:\\anaconda3\\envs\\F30\\Lib\\site-packages\\xgboost\\data.py:345: FutureWarning: is_categorical_dtype is deprecated and will be removed in a future version. Use isinstance(dtype, CategoricalDtype) instead\n",
      "  if is_categorical_dtype(dtype)\n",
      "d:\\anaconda3\\envs\\F30\\Lib\\site-packages\\xgboost\\data.py:336: FutureWarning: is_categorical_dtype is deprecated and will be removed in a future version. Use isinstance(dtype, CategoricalDtype) instead\n",
      "  return is_int or is_bool or is_float or is_categorical_dtype(dtype)\n",
      "d:\\anaconda3\\envs\\F30\\Lib\\site-packages\\xgboost\\data.py:312: FutureWarning: is_sparse is deprecated and will be removed in a future version. Check `isinstance(dtype, pd.SparseDtype)` instead.\n",
      "  if is_sparse(dtype):\n",
      "d:\\anaconda3\\envs\\F30\\Lib\\site-packages\\xgboost\\data.py:314: FutureWarning: is_categorical_dtype is deprecated and will be removed in a future version. Use isinstance(dtype, CategoricalDtype) instead\n",
      "  elif is_categorical_dtype(dtype) and enable_categorical:\n",
      "d:\\anaconda3\\envs\\F30\\Lib\\site-packages\\xgboost\\data.py:345: FutureWarning: is_categorical_dtype is deprecated and will be removed in a future version. Use isinstance(dtype, CategoricalDtype) instead\n",
      "  if is_categorical_dtype(dtype)\n",
      "d:\\anaconda3\\envs\\F30\\Lib\\site-packages\\xgboost\\data.py:336: FutureWarning: is_categorical_dtype is deprecated and will be removed in a future version. Use isinstance(dtype, CategoricalDtype) instead\n",
      "  return is_int or is_bool or is_float or is_categorical_dtype(dtype)\n"
     ]
    }
   ],
   "source": [
    "coef = [0.025, 0.95, 0.025]\n",
    "\n",
    "# predict the non-error set using the three models\n",
    "lgb_non_error = prediction(lgb_model_non_error, non_error_test[feature_regression])\n",
    "xgb_non_error = prediction(xgb_model_non_error, xgb.DMatrix(non_error_test[feature_regression]))\n",
    "cat_non_error = prediction(cat_model_non_error, cat.Pool(non_error_test[feature_regression]))\n",
    "\n",
    "# predict the non-error set using the linear regression model\n",
    "y_pred = coef[0] * lgb_non_error + coef[1] * xgb_non_error + coef[2] * cat_non_error\n",
    "#y_pred = np.mean([lgb_non_error, xgb_non_error, cat_non_error], axis=0)\n",
    "#y_pred = lr_non_error.predict(np.array([lgb_non_error, xgb_non_error, cat_non_error]).T)\n",
    "\n",
    "non_error_test['revenue'] = abs(y_pred)\n",
    "\n",
    "print(non_error_test.shape)\n",
    "# predict the error set using the three models\n",
    "lgb_error = prediction(lgb_model_error, error_test[feature_regression])\n",
    "xgb_error = prediction(xgb_model_error, xgb.DMatrix(error_test[feature_regression]))\n",
    "cat_error = prediction(cat_model_error, cat.Pool(error_test[feature_regression]))\n",
    "\n",
    "# predict the error set using the linear regression model\n",
    "y_pred = coef[0] * lgb_error + coef[1] * xgb_error + coef[2] * cat_error\n",
    "#y_pred = lr_error.predict(np.array([lgb_error, xgb_error, cat_error]).T)\n",
    "\n",
    "error_test['revenue'] = abs(y_pred)\n"
   ]
  },
  {
   "cell_type": "code",
   "execution_count": 214,
   "metadata": {},
   "outputs": [],
   "source": [
    "# combine the error and non-error set\n",
    "test = error_test._append(non_error_test, ignore_index=True)"
   ]
  },
  {
   "cell_type": "code",
   "execution_count": 215,
   "metadata": {},
   "outputs": [],
   "source": [
    "df_sub = pd.DataFrame()\n",
    "sub= ['id','revenue']\n",
    "df_sub[sub]=test[sub]\n",
    "df_sub.to_csv(\"submission1.csv\", index=False)"
   ]
  }
 ],
 "metadata": {
  "kernelspec": {
   "display_name": "F30",
   "language": "python",
   "name": "python3"
  },
  "language_info": {
   "codemirror_mode": {
    "name": "ipython",
    "version": 3
   },
   "file_extension": ".py",
   "mimetype": "text/x-python",
   "name": "python",
   "nbconvert_exporter": "python",
   "pygments_lexer": "ipython3",
   "version": "3.11.6"
  }
 },
 "nbformat": 4,
 "nbformat_minor": 2
}
